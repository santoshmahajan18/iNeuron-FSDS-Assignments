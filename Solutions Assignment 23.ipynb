{
 "cells": [
  {
   "cell_type": "markdown",
   "id": "496d6fcb",
   "metadata": {},
   "source": [
    "# Solutions Assignment 23"
   ]
  },
  {
   "cell_type": "markdown",
   "id": "9f29cf58",
   "metadata": {},
   "source": [
    "#### 1. What is the result of the code, and why?\n",
    "\n",
    "`>>> def func(a, b=6, c=8):`\n",
    "\n",
    "`print(a, b, c)`\n",
    "\n",
    "`>>> func(1, 2)`\n"
   ]
  },
  {
   "cell_type": "code",
   "execution_count": 2,
   "id": "d00a641d",
   "metadata": {},
   "outputs": [
    {
     "name": "stdout",
     "output_type": "stream",
     "text": [
      "1 2 8\n"
     ]
    }
   ],
   "source": [
    "def fun(a,b=6,c=8):\n",
    "    print(a,b,c)\n",
    "fun(1,2)\n",
    "# The result of the above code is 1 2 8. It is because the function uses the default value of c i.e 8 \n",
    "# which is provided at the time of declaration."
   ]
  },
  {
   "cell_type": "markdown",
   "id": "2c8944bf",
   "metadata": {},
   "source": [
    "#### 2. What is the result of this code, and why?\n",
    "`>>> def func(a, b, c=5):`\n",
    "\n",
    "`print(a, b, c)`\n",
    "\n",
    "`>>> func(1, c=3, b=2)`\n",
    "\n"
   ]
  },
  {
   "cell_type": "code",
   "execution_count": 3,
   "id": "8cc0f84c",
   "metadata": {},
   "outputs": [
    {
     "name": "stdout",
     "output_type": "stream",
     "text": [
      "1 2 3\n"
     ]
    }
   ],
   "source": [
    "def func(a,b,c=5):\n",
    "    print(a,b,c)\n",
    "func(1,c=3,b=2)\n",
    "# The result of the above code is `1 2 3`. It is because the function will use default values only when a value \n",
    "# for a argument is not provided and if argument name is mentioned while doing a function call, the order of \n",
    "# arguments is also ignored by the python interpreter while executing the function."
   ]
  },
  {
   "cell_type": "markdown",
   "id": "22b41925",
   "metadata": {},
   "source": [
    "#### 3. How about this code: what is its result, and why?\n",
    "\n",
    "`>>> def func(a, *pargs):`\n",
    "\n",
    "`print(a, pargs)`\n",
    "\n",
    "`>>> func(1, 2, 3)`"
   ]
  },
  {
   "cell_type": "code",
   "execution_count": 5,
   "id": "bb402458",
   "metadata": {},
   "outputs": [
    {
     "name": "stdout",
     "output_type": "stream",
     "text": [
      "1 (2, 3)\n"
     ]
    }
   ],
   "source": [
    "def fun(a,*pargs):\n",
    "    print(a,pargs)\n",
    "fun(1,2,3)\n",
    "#The result of the code is 1 (2,3). *pargs stands for variable length arguments. This format is used when \n",
    "# we are not sure about the number of arguments to be passed to a function. \n",
    "# All the values under this argument will be stored in a tuple."
   ]
  },
  {
   "cell_type": "markdown",
   "id": "537749f9",
   "metadata": {},
   "source": [
    "#### 4. What does this code print, and why?\n",
    "\n",
    "`>>> def func(a, **kargs):`\n",
    "\n",
    "`print(a, kargs)`\n",
    "\n",
    "`>>> func(a=1, c=3, b=2)`"
   ]
  },
  {
   "cell_type": "code",
   "execution_count": 6,
   "id": "49fdc037",
   "metadata": {},
   "outputs": [
    {
     "name": "stdout",
     "output_type": "stream",
     "text": [
      "1 {'c': 3, 'b': 2}\n"
     ]
    }
   ],
   "source": [
    "def func(a, **kargs):\n",
    "    print(a, kargs)\n",
    "func(a=1, c=3, b=2)\n",
    "# The result of the above code is 1 {'c': 3, 'b': 2}. **args stands for variable length keyword arguments. \n",
    "# This format is used when we want to pass key value pairs as input to a function.\n",
    "# All these key value pairs will be stored in a dictionary"
   ]
  },
  {
   "cell_type": "markdown",
   "id": "7be95638",
   "metadata": {},
   "source": [
    "#### 5. What gets printed by this, and explain?\n",
    "\n",
    "`>>> def func(a, b, c=8, d=5):`\n",
    "\n",
    "`print(a, b, c, d)`\n",
    "\n",
    "`>>> func(1, *(5, 6))`"
   ]
  },
  {
   "cell_type": "code",
   "execution_count": 10,
   "id": "f20ce74e",
   "metadata": {},
   "outputs": [
    {
     "name": "stdout",
     "output_type": "stream",
     "text": [
      "1 5 6 5\n"
     ]
    }
   ],
   "source": [
    "def func(a, b, c=8, d=5):\n",
    "    print(a,b,c,d)\n",
    "func(1,*(5,6))\n",
    "# The output of the above is 1 5 6 5. This reason for this function not throwing an error is because, \n",
    "# this function expects 4 arguments. the value for a is provided explicitly whereas for arguments b and c, \n",
    "# the function will expand the *(5,6) and consider the value of b as 5 and value of c as 6. \n",
    "# since the default value of d is provided in function declaration, d value will be 5. "
   ]
  },
  {
   "cell_type": "markdown",
   "id": "6e4b8eb5",
   "metadata": {},
   "source": [
    "#### 6. what is the result of this, and explain?\n",
    "\n",
    "`>>> def func(a, b, c): a = 2; b[0] = 'x'; c['a'] = 'y'`\n",
    "\n",
    "`>>> l=1; m=[1]; n={'a':0}`\n",
    "\n",
    "`>>> func(l, m, n)`\n",
    "\n",
    "`>>> l, m, n`\n",
    "\n",
    "Even though Python gives importance to indentation, it provides a facility to declare an entire function in one single line, where statements in a function body are seperated by ;.\n",
    "When l,m,n are provided as inputs to the function. its modifies the values of l,m,n and sets the value of l=1 ,m=['x'] and n={'a':'y'}"
   ]
  },
  {
   "cell_type": "code",
   "execution_count": 20,
   "id": "0455a905",
   "metadata": {},
   "outputs": [
    {
     "data": {
      "text/plain": [
       "(1, ['x'], {'a': 'y'})"
      ]
     },
     "execution_count": 20,
     "metadata": {},
     "output_type": "execute_result"
    }
   ],
   "source": [
    "def func(a, b, c): a = 2; b[0] = 'x'; c['a'] = 'y'\n",
    "l=1; m=[1]; n={'a':0}\n",
    "func(l, m, n)\n",
    "l,m,n"
   ]
  }
 ],
 "metadata": {
  "kernelspec": {
   "display_name": "Python 3 (ipykernel)",
   "language": "python",
   "name": "python3"
  },
  "language_info": {
   "codemirror_mode": {
    "name": "ipython",
    "version": 3
   },
   "file_extension": ".py",
   "mimetype": "text/x-python",
   "name": "python",
   "nbconvert_exporter": "python",
   "pygments_lexer": "ipython3",
   "version": "3.9.13"
  }
 },
 "nbformat": 4,
 "nbformat_minor": 5
}
