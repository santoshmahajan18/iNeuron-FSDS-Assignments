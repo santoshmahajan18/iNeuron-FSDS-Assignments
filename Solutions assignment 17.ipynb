{
 "cells": [
  {
   "cell_type": "markdown",
   "id": "8495effc",
   "metadata": {},
   "source": [
    "# Solutions assignment 17"
   ]
  },
  {
   "cell_type": "markdown",
   "id": "59add3a3",
   "metadata": {},
   "source": [
    "#### 1. Assign the value 7 to the variable guess_me. Then, write the conditional tests (if, else, and elif) to print the string 'too low' if guess_me is less than 7, 'too high' if greater than 7, and 'just right' if equal to 7."
   ]
  },
  {
   "cell_type": "code",
   "execution_count": null,
   "id": "c65ae778",
   "metadata": {},
   "outputs": [],
   "source": [
    "# code to compare an input with value 7\n",
    "guess_me=7\n",
    "a=int(input(\"Plese enter your integer: \"))\n",
    "# type(a)\n",
    "if a<guess_me:\n",
    "    print(\"Too low!\")\n",
    "elif a==guess_me:\n",
    "    print(\"Just right!\")\n",
    "elif a>guess_me:\n",
    "    print(\"Too high!\")\n",
    "else: \n",
    "    pass\n"
   ]
  },
  {
   "cell_type": "markdown",
   "id": "adb4ddf6",
   "metadata": {},
   "source": [
    "#### 2. Assign the value 7 to the variable guess_me and the value 1 to the variable start. Write a while loop that compares start with guess_me. Print too low if start is less than guess me. If start equals guess_me, print 'found it!' and exit the loop. If start is greater than guess_me, print 'oops' and exit the loop. Increment start at the end of the loop"
   ]
  },
  {
   "cell_type": "code",
   "execution_count": null,
   "id": "50dc391c",
   "metadata": {},
   "outputs": [],
   "source": [
    "# code to compare numbers with a given number\n",
    "guess_me=7\n",
    "start=1\n",
    "while True:\n",
    "    if start<guess_me:\n",
    "        print(\"Too low!\")\n",
    "    elif start==guess_me:\n",
    "        print(\"found it\")\n",
    "        break\n",
    "    else:\n",
    "        print(\"Oops!\")\n",
    "        break\n",
    "    start=start+1"
   ]
  },
  {
   "cell_type": "markdown",
   "id": "64fde46b",
   "metadata": {},
   "source": [
    "#### 3. Print the following values of the list [3, 2, 1, 0] using a for loop."
   ]
  },
  {
   "cell_type": "code",
   "execution_count": null,
   "id": "159b1f74",
   "metadata": {},
   "outputs": [],
   "source": [
    "# code to print elements in a list\n",
    "k=[3,2,1,0]\n",
    "for i in k:\n",
    "    print(i)"
   ]
  },
  {
   "cell_type": "markdown",
   "id": "aab7c5c0",
   "metadata": {},
   "source": [
    "#### 4. Use a list comprehension to make a list of the even numbers in range(10)¶"
   ]
  },
  {
   "cell_type": "code",
   "execution_count": null,
   "id": "6cf06044",
   "metadata": {},
   "outputs": [],
   "source": [
    "# code to print even numbers in range(10)\n",
    "print([i for i in range(11) if i%2==0])"
   ]
  },
  {
   "cell_type": "markdown",
   "id": "e907f574",
   "metadata": {},
   "source": [
    "#### 5. Use a dictionary comprehension to create the dictionary squares. Use range(10) to return the keys, and use the square of each key as its value."
   ]
  },
  {
   "cell_type": "code",
   "execution_count": null,
   "id": "6c4a2bf7",
   "metadata": {},
   "outputs": [],
   "source": [
    "# code to create a dictionary of i and i**2 in range(10)\n",
    "print({i:i**2 for i in range(10)})"
   ]
  },
  {
   "cell_type": "markdown",
   "id": "5ec67fb4",
   "metadata": {},
   "source": [
    "#### 6. Construct the set odd from the odd numbers in the range using a set comprehension (10)."
   ]
  },
  {
   "cell_type": "code",
   "execution_count": null,
   "id": "1e161be5",
   "metadata": {},
   "outputs": [],
   "source": [
    "#code to print odd numbers in range (10)\n",
    "print([i for i in range(11) if i%2!=0])"
   ]
  },
  {
   "cell_type": "markdown",
   "id": "9f0717b5",
   "metadata": {},
   "source": [
    "#### 7. Use a generator comprehension to return the string 'Got ' and a number for the numbers in range(10). Iterate through this by using a for loop"
   ]
  },
  {
   "cell_type": "code",
   "execution_count": null,
   "id": "90b9f48b",
   "metadata": {},
   "outputs": [],
   "source": [
    "# code to generate Got and a number\n",
    "gen_comp=('Got'+str(i) for i in range (10))\n",
    "for i in gen_comp:\n",
    "    print(i)"
   ]
  },
  {
   "cell_type": "markdown",
   "id": "ccfdbb36",
   "metadata": {},
   "source": [
    "#### 8. Define a function called good that returns the list ['Harry', 'Ron', 'Hermione']."
   ]
  },
  {
   "cell_type": "code",
   "execution_count": null,
   "id": "67e413b6",
   "metadata": {},
   "outputs": [],
   "source": [
    "# code to return a list\n",
    "def good():\n",
    "    a=['Harry','Ron','Hermione']\n",
    "    return a\n",
    "good()"
   ]
  },
  {
   "cell_type": "markdown",
   "id": "1948d6a3",
   "metadata": {},
   "source": [
    "#### 9. Define a generator function called get_odds that returns the odd numbers from range(10). Use a for loop to find and print the third value returned."
   ]
  },
  {
   "cell_type": "code",
   "execution_count": null,
   "id": "cb817ad1",
   "metadata": {},
   "outputs": [],
   "source": [
    "#code to print odd numbers in range (10) and to find the third value\n",
    "a=[i for i in range(11) if i%2!=0]\n",
    "print(a)\n",
    "print(\"The third value is: \",a[2])"
   ]
  },
  {
   "cell_type": "markdown",
   "id": "c712ab16",
   "metadata": {},
   "source": [
    "#### 10. Define an exception called OopsException. Raise this exception to see what happens. Then write the code to catch this exception and print 'Caught an oops'.¶"
   ]
  },
  {
   "cell_type": "code",
   "execution_count": 9,
   "id": "edbba2a0",
   "metadata": {},
   "outputs": [
    {
     "name": "stdout",
     "output_type": "stream",
     "text": [
      "Caught an Oops\n"
     ]
    }
   ],
   "source": [
    "# code to demonstrate an exception\n",
    "class OopsException():\n",
    "    \n",
    "    def test(x,y):\n",
    "        try:\n",
    "            result=x//y\n",
    "            print(\"Division of x by y gives: \",result)\n",
    "        \n",
    "        except Exception as e:\n",
    "            print('Caught an Oops')\n",
    "        \n",
    "    test(2,0)"
   ]
  },
  {
   "cell_type": "markdown",
   "id": "ae90cd99",
   "metadata": {},
   "source": [
    "#### 11. Use zip() to make a dictionary called movies that pairs these lists: titles = ['Creature of Habit', 'Crewel Fate'] and plots = ['A nun turns into a monster', 'A haunted yarn shop']."
   ]
  },
  {
   "cell_type": "code",
   "execution_count": 10,
   "id": "95246bcb",
   "metadata": {},
   "outputs": [
    {
     "name": "stdout",
     "output_type": "stream",
     "text": [
      "{'Creature of Habit': 'A nun turns into a monster', 'Cruel Fate': 'A hauted yarn shop'}\n"
     ]
    }
   ],
   "source": [
    "# code to create a dictionary\n",
    "titles=['Creature of Habit','Cruel Fate']\n",
    "plots=['A nun turns into a monster','A hauted yarn shop']\n",
    "my_dict=dict(zip(titles,plots))\n",
    "print(my_dict)"
   ]
  }
 ],
 "metadata": {
  "kernelspec": {
   "display_name": "Python 3 (ipykernel)",
   "language": "python",
   "name": "python3"
  },
  "language_info": {
   "codemirror_mode": {
    "name": "ipython",
    "version": 3
   },
   "file_extension": ".py",
   "mimetype": "text/x-python",
   "name": "python",
   "nbconvert_exporter": "python",
   "pygments_lexer": "ipython3",
   "version": "3.9.13"
  }
 },
 "nbformat": 4,
 "nbformat_minor": 5
}
