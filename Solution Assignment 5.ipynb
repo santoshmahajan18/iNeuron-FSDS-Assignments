{
 "cells": [
  {
   "cell_type": "markdown",
   "id": "ad5de289",
   "metadata": {},
   "source": [
    "# Solutions Assignment 5"
   ]
  },
  {
   "cell_type": "markdown",
   "id": "d6cbdc20",
   "metadata": {},
   "source": [
    "<b>1. What does an empty dictionary's code look like?</b>\n",
    "\n",
    "<b>Answer:</b> An empty dictuionary is shown by d={}. It can also be represented by d=dict().\n",
    "    "
   ]
  },
  {
   "cell_type": "code",
   "execution_count": 6,
   "id": "327d9009",
   "metadata": {},
   "outputs": [
    {
     "data": {
      "text/plain": [
       "dict"
      ]
     },
     "execution_count": 6,
     "metadata": {},
     "output_type": "execute_result"
    }
   ],
   "source": [
    "d={} # d represents an empty dictionary.\n",
    "type(d)"
   ]
  },
  {
   "cell_type": "code",
   "execution_count": 7,
   "id": "32159299",
   "metadata": {},
   "outputs": [
    {
     "data": {
      "text/plain": [
       "dict"
      ]
     },
     "execution_count": 7,
     "metadata": {},
     "output_type": "execute_result"
    }
   ],
   "source": [
    "d=dict() # d represents an empty dictionary.\n",
    "type(d)"
   ]
  },
  {
   "cell_type": "markdown",
   "id": "a32e5c3b",
   "metadata": {},
   "source": [
    "<b>2.what is the value of dictionary value with key 'foo' and the value 42 ?</b>\n",
    "\n",
    "<b>Answer:</b> This is represented as `a={'foo':42}`."
   ]
  },
  {
   "cell_type": "code",
   "execution_count": 8,
   "id": "fee7a70c",
   "metadata": {},
   "outputs": [],
   "source": [
    "a={'foo':42} # a represents a dictionary with 'foo' as key and 42 as its value."
   ]
  },
  {
   "cell_type": "markdown",
   "id": "7d6994ea",
   "metadata": {},
   "source": [
    "<b>3.What is the most significant distinction between a dictionary and a list?</b>\n",
    "\n",
    "<b>Answer:</b> 1. A dictionary is represented by symbol `{}` whereas a list is represented by symbol `[]`.\n",
    "\n",
    "2. A list is an ordered collection of data whereas a dictionary is an ordered collection of data and stores data in the form of key value pair.\n",
    "\n",
    "\n",
    "3. To access list values, we use indexes whereas to access values in a dictionary, we use the keys."
   ]
  },
  {
   "cell_type": "markdown",
   "id": "0f4ea4f8",
   "metadata": {},
   "source": [
    "<b>4. What happens if you try to access spam['foo'] if spam is {'bar': 100}?</b>\n",
    "\n",
    "<b>Answer: </b> Please refer below:"
   ]
  },
  {
   "cell_type": "code",
   "execution_count": 12,
   "id": "f2bbaf7f",
   "metadata": {},
   "outputs": [
    {
     "ename": "KeyError",
     "evalue": "'foo'",
     "output_type": "error",
     "traceback": [
      "\u001b[1;31m---------------------------------------------------------------------------\u001b[0m",
      "\u001b[1;31mKeyError\u001b[0m                                  Traceback (most recent call last)",
      "\u001b[1;32m~\\AppData\\Local\\Temp\\ipykernel_15324\\2146676467.py\u001b[0m in \u001b[0;36m<module>\u001b[1;34m\u001b[0m\n\u001b[0;32m      1\u001b[0m \u001b[0mspam\u001b[0m\u001b[1;33m=\u001b[0m\u001b[1;33m{\u001b[0m\u001b[1;34m'bar'\u001b[0m\u001b[1;33m:\u001b[0m\u001b[1;36m100\u001b[0m\u001b[1;33m}\u001b[0m\u001b[1;33m\u001b[0m\u001b[1;33m\u001b[0m\u001b[0m\n\u001b[1;32m----> 2\u001b[1;33m \u001b[0mspam\u001b[0m\u001b[1;33m[\u001b[0m\u001b[1;34m'foo'\u001b[0m\u001b[1;33m]\u001b[0m \u001b[1;31m# This will give a KeyError because the key 'foo' is not there in the dictionary spam.\u001b[0m\u001b[1;33m\u001b[0m\u001b[1;33m\u001b[0m\u001b[0m\n\u001b[0m",
      "\u001b[1;31mKeyError\u001b[0m: 'foo'"
     ]
    }
   ],
   "source": [
    "spam={'bar':100}\n",
    "spam['foo'] # This will give a KeyError because the key 'foo' is not there in the dictionary spam. "
   ]
  },
  {
   "cell_type": "markdown",
   "id": "7536298b",
   "metadata": {},
   "source": [
    "<b> 5. If a dictionary is stored in spam, what is the difference between the expressions 'cat' in spam and 'cat' in spam.keys()? </b>\n",
    "\n",
    "<b> Answer:</b>: In this case, spam is a dictionary. Whenever I want to check if 'cat' exists in keys of a particular dictionary, I can use any of the following:\n",
    "'cat' in spam\n",
    "or\n",
    "'cat' in spam.keys()\n",
    "Please refer below:"
   ]
  },
  {
   "cell_type": "code",
   "execution_count": 13,
   "id": "f07723ee",
   "metadata": {},
   "outputs": [],
   "source": [
    "spam={'a':1,'cat':2,'c':3,'d':4}"
   ]
  },
  {
   "cell_type": "code",
   "execution_count": 14,
   "id": "5ea0aca8",
   "metadata": {},
   "outputs": [
    {
     "data": {
      "text/plain": [
       "True"
      ]
     },
     "execution_count": 14,
     "metadata": {},
     "output_type": "execute_result"
    }
   ],
   "source": [
    "'cat' in spam # I am checking if 'cat' exists in any of the keys of dictionary spam."
   ]
  },
  {
   "cell_type": "code",
   "execution_count": 15,
   "id": "0eac3e0c",
   "metadata": {},
   "outputs": [
    {
     "data": {
      "text/plain": [
       "True"
      ]
     },
     "execution_count": 15,
     "metadata": {},
     "output_type": "execute_result"
    }
   ],
   "source": [
    "'cat'in spam.keys() # Another way to check if 'cat' exists in any of the keys of dictionary spam."
   ]
  },
  {
   "cell_type": "markdown",
   "id": "f135f516",
   "metadata": {},
   "source": [
    "<b>6. If a dictionary is stored in spam, what is the difference between the expressions 'cat' in spam and 'cat' in spam.values()?</b>\n",
    "\n",
    "<b>Answer:</b> when I use 'cat' in spam, I am checking if 'cat' exists in any of the key elements of dictionary spam. When I use 'cat' in spam.values(), I am checking if 'cat' exists in any of the key values of the dictionary spam. Please refer below:\n"
   ]
  },
  {
   "cell_type": "code",
   "execution_count": 16,
   "id": "8270bb67",
   "metadata": {},
   "outputs": [
    {
     "data": {
      "text/plain": [
       "True"
      ]
     },
     "execution_count": 16,
     "metadata": {},
     "output_type": "execute_result"
    }
   ],
   "source": [
    "spam={'a':1,'cat':2,'c':3,'d':4} \n",
    "'cat' in spam # This will give True because 'cat' exists in one of the keys of dictionary spam."
   ]
  },
  {
   "cell_type": "code",
   "execution_count": 17,
   "id": "8d7a0684",
   "metadata": {},
   "outputs": [
    {
     "data": {
      "text/plain": [
       "False"
      ]
     },
     "execution_count": 17,
     "metadata": {},
     "output_type": "execute_result"
    }
   ],
   "source": [
    "'cat' in spam.values() # This will give False because 'cat' doesn't exits in any of the key values of dictionary spam."
   ]
  },
  {
   "cell_type": "markdown",
   "id": "bafe5429",
   "metadata": {},
   "source": [
    "<b>7. What is a shortcut for the following code?</b>\n",
    "\n",
    "<b>if 'color' not in spam:</b>\n",
    "\n",
    "<b>spam['color'] = 'black'</b>\n"
   ]
  },
  {
   "cell_type": "markdown",
   "id": "d962692c",
   "metadata": {},
   "source": [
    "`spam.setdefault('color','black')`"
   ]
  },
  {
   "cell_type": "markdown",
   "id": "7072e508",
   "metadata": {},
   "source": [
    "<b>8. How do you \"pretty print\" dictionary values using which module and function?</b>\n",
    "\n",
    "<b>Answer:</b> The pprint is a Python module made to print data structures in a pretty or neat way. Tt is useful in making API requests, working using JSON file formats, and handling complex and data that is nested. When I employ the print() function with the help of dictionaries or lists, the output does not have any newlines. It's likely that the typical print() function doesn't allow me to analyse our data and test our program effectively. Hence the use of pretty print. I can pretty print by either using pprint command or by using dumps command in json module or in yaml module.\n",
    "\n",
    "1. by using pprint() function of pprint module\n",
    "    * **Note:** pprint() function doesnot pretty print nested dictionaries\n",
    "2. by using dumps() method of json module\n",
    "3. by using dumps() method of yaml module\n",
    "\n",
    "Please refer examples below:\n"
   ]
  },
  {
   "cell_type": "code",
   "execution_count": 38,
   "id": "d4f91dc1",
   "metadata": {},
   "outputs": [],
   "source": [
    "a=[{'name':'Raj','course':'fsds','age':19,'current_location':{'country': 'India','city':'New Delhi'}},\n",
    "    {'name':'Jim','course':'ML','age':22,'current_location':{'country': 'India','city':'Mumbai'}},\n",
    "   {'name':'Sunil','course':'Java','age':23,'current_location':{'country': 'India','city':'Bangaluru'}},\n",
    "   {'name':'Ajay','course':'Python','age':24,'current_location':{'country': 'India','city':'Kolkatta'}}\n",
    "  ]"
   ]
  },
  {
   "cell_type": "code",
   "execution_count": 30,
   "id": "0d7ef577",
   "metadata": {},
   "outputs": [
    {
     "name": "stdout",
     "output_type": "stream",
     "text": [
      "Result of printing using print() function\n",
      " [{'name': 'Raj', 'course': 'fsds', 'age': 19, 'current_location': {'country': 'India', 'city': 'New Delhi'}}, {'name': 'Jim', 'course': 'ML', 'age': 22, 'current_location': {'country': 'India', 'city': 'Mumbai'}}, {'name': 'Sunil', 'course': 'Java', 'age': 23, 'current_location': {'country': 'India', 'city': 'Bangaluru'}}, {'name': 'Ajay', 'course': 'Python', 'age': 24, 'current_location': {'country': 'India', 'city': 'Kolkatta'}}]\n",
      "*-*-*-*-*-*-*-*-*-*-*-*-*-*-*-*-*-*-*-*-*-*-*-*-*-*-*-*-*-*-*-*-*-*-*-*-*-*-*-*-*-*-*-*-*-*-*-*-*-*-\n"
     ]
    }
   ],
   "source": [
    "print('Result of printing using print() function\\n',a)\n",
    "print('*-'*50)"
   ]
  },
  {
   "cell_type": "code",
   "execution_count": 31,
   "id": "4c784440",
   "metadata": {},
   "outputs": [
    {
     "name": "stdout",
     "output_type": "stream",
     "text": [
      "Result of printing using pprint() function\n",
      "[{'age': 19,\n",
      "  'course': 'fsds',\n",
      "  'current_location': {'city': 'New Delhi', 'country': 'India'},\n",
      "  'name': 'Raj'},\n",
      " {'age': 22,\n",
      "  'course': 'ML',\n",
      "  'current_location': {'city': 'Mumbai', 'country': 'India'},\n",
      "  'name': 'Jim'},\n",
      " {'age': 23,\n",
      "  'course': 'Java',\n",
      "  'current_location': {'city': 'Bangaluru', 'country': 'India'},\n",
      "  'name': 'Sunil'},\n",
      " {'age': 24,\n",
      "  'course': 'Python',\n",
      "  'current_location': {'city': 'Kolkatta', 'country': 'India'},\n",
      "  'name': 'Ajay'}]\n",
      "*-*-*-*-*-*-*-*-*-*-*-*-*-*-*-*-*-*-*-*-*-*-*-*-*-*-*-*-*-*-*-*-*-*-*-*-*-*-*-*-*-*-*-*-*-*-*-*-*-*-\n"
     ]
    }
   ],
   "source": [
    "import pprint\n",
    "print('Result of printing using pprint() function')\n",
    "pprint.pprint(a)\n",
    "print('*-'*50)"
   ]
  },
  {
   "cell_type": "code",
   "execution_count": 37,
   "id": "a6e1b5ee",
   "metadata": {},
   "outputs": [
    {
     "name": "stdout",
     "output_type": "stream",
     "text": [
      "Result of printing using dumps() method\n",
      " [\n",
      "     {\n",
      "          \"name\": \"Raj\",\n",
      "          \"course\": \"fsds\",\n",
      "          \"age\": 19,\n",
      "          \"current_location\": {\n",
      "               \"country\": \"India\",\n",
      "               \"city\": \"New Delhi\"\n",
      "          }\n",
      "     },\n",
      "     {\n",
      "          \"name\": \"Jim\",\n",
      "          \"course\": \"ML\",\n",
      "          \"age\": 22,\n",
      "          \"current_location\": {\n",
      "               \"country\": \"India\",\n",
      "               \"city\": \"Mumbai\"\n",
      "          }\n",
      "     },\n",
      "     {\n",
      "          \"name\": \"Sunil\",\n",
      "          \"course\": \"Java\",\n",
      "          \"age\": 23,\n",
      "          \"current_location\": {\n",
      "               \"country\": \"India\",\n",
      "               \"city\": \"Bangaluru\"\n",
      "          }\n",
      "     },\n",
      "     {\n",
      "          \"name\": \"Ajay\",\n",
      "          \"course\": \"Python\",\n",
      "          \"age\": 24,\n",
      "          \"current_location\": {\n",
      "               \"country\": \"India\",\n",
      "               \"city\": \"Kolkatta\"\n",
      "          }\n",
      "     }\n",
      "]\n",
      "*-*-*-*-*-*-*-*-*-*-*-*-*-*-*-*-*-*-*-*-*-*-*-*-*-*-*-*-*-*-*-*-*-*-*-*-*-*-*-*-*-*-*-*-*-*-*-*-*-*-\n"
     ]
    }
   ],
   "source": [
    "import json\n",
    "dump = json.dumps(a, indent=5)\n",
    "print('Result of printing using dumps() method\\n', dump)\n",
    "print('*-'*50)"
   ]
  },
  {
   "cell_type": "code",
   "execution_count": 32,
   "id": "8acb686d",
   "metadata": {},
   "outputs": [
    {
     "name": "stdout",
     "output_type": "stream",
     "text": [
      "Result of printing using dump() method\n",
      " - age: 19\n",
      "  course: fsds\n",
      "  current_location:\n",
      "    city: New Delhi\n",
      "    country: India\n",
      "  name: Raj\n",
      "- age: 22\n",
      "  course: ML\n",
      "  current_location:\n",
      "    city: Mumbai\n",
      "    country: India\n",
      "  name: Jim\n",
      "- age: 23\n",
      "  course: Java\n",
      "  current_location:\n",
      "    city: Bangaluru\n",
      "    country: India\n",
      "  name: Sunil\n",
      "- age: 24\n",
      "  course: Python\n",
      "  current_location:\n",
      "    city: Kolkatta\n",
      "    country: India\n",
      "  name: Ajay\n",
      "\n",
      "*-*-*-*-*-*-*-*-*-*-*-*-*-*-*-*-*-*-*-*-*-*-*-*-*-*-*-*-*-*-*-*-*-*-*-*-*-*-*-*-*-*-*-*-*-*-*-*-*-*-\n"
     ]
    }
   ],
   "source": [
    "import yaml\n",
    "dump = yaml.dump(a)\n",
    "print('Result of printing using dump() method\\n', dump)\n",
    "print('*-'*50)"
   ]
  },
  {
   "cell_type": "code",
   "execution_count": null,
   "id": "e93e7ef8",
   "metadata": {},
   "outputs": [],
   "source": []
  }
 ],
 "metadata": {
  "kernelspec": {
   "display_name": "Python 3 (ipykernel)",
   "language": "python",
   "name": "python3"
  },
  "language_info": {
   "codemirror_mode": {
    "name": "ipython",
    "version": 3
   },
   "file_extension": ".py",
   "mimetype": "text/x-python",
   "name": "python",
   "nbconvert_exporter": "python",
   "pygments_lexer": "ipython3",
   "version": "3.9.13"
  }
 },
 "nbformat": 4,
 "nbformat_minor": 5
}
