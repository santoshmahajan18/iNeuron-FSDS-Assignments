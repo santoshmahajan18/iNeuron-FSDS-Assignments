{
 "cells": [
  {
   "cell_type": "markdown",
   "id": "287c3a07",
   "metadata": {},
   "source": [
    "# Solutions Assignmnet 7"
   ]
  },
  {
   "cell_type": "markdown",
   "id": "5bddc6f3",
   "metadata": {},
   "source": [
    "<b>1. What is the name of the feature responsible for generating Regex objects?</b>\n",
    "\n",
    "<b>Answer:</b> `re.compile` is the feature responsible for gerating Regex objects. Regex means regular expressions. Regular Expression, or regex or regexp in short, is extremely and amazingly powerful in searching and manipulating text strings, particularly in processing text files. One line of regex can easily replace several dozen lines of programming codes. A RegEx is a special sequence of characters that uses a search pattern to find a string or to find a set of strings. If I want to detect a presence or absence of a sequence of text, I can take the long way of slicing/parcing a string text and using for loop whereas RegEx can do it by matching it with a particular pattern quickly. RegEx can also split a pattern into one of more sub-patterns. The `re module` in python supports RegEx. Its main aim is to offer a search, where it takes a regular expresssion and a string. Here it either returns the first match or else returns none.\n",
    "\n",
    "Please refer example below:"
   ]
  },
  {
   "cell_type": "code",
   "execution_count": 1,
   "id": "ae2b2024",
   "metadata": {},
   "outputs": [
    {
     "name": "stdout",
     "output_type": "stream",
     "text": [
      "['FSDS', 'FSDS']\n",
      "['FSDS', 'FSDS', 'FSDS']\n"
     ]
    }
   ],
   "source": [
    "import re\n",
    "patt=re.compile(\"FSDS\")\n",
    "result=patt.findall(\"I am a student of FSDS batch. FSDS course prepares us to become good Data Scienties\")\n",
    "print(result) \n",
    "# Here 'FSDS' occurs twice in the given statement. Hence the results prints FSDS twice.\n",
    "result1=patt.findall(\"With the help of FSDS course, many students have been able to become full time FSDS.\\nFSDS is a very challenging and dynamic field\")\n",
    "print(result1) \n",
    "# Here 'FSDS' occurs three times in the given statement. Hence the results prints FSDS thrice."
   ]
  },
  {
   "cell_type": "markdown",
   "id": "991079b9",
   "metadata": {},
   "source": [
    "<b>2. Why do raw strings often appear in Regex objects (Regular Expressions)?</b>\n",
    "\n",
    "<b>Answer:</b>Python raw string treats backslash(\\) as a literal character.\n",
    "It is useful when we want to have a string that contains backslash(\\) and don’t want it to be treated as an escape character. Please refer example below:"
   ]
  },
  {
   "cell_type": "code",
   "execution_count": 5,
   "id": "d9a68904",
   "metadata": {},
   "outputs": [
    {
     "name": "stdout",
     "output_type": "stream",
     "text": [
      "Hello\n",
      "World\n"
     ]
    }
   ],
   "source": [
    "a=\"Hello\\nWorld\"\n",
    "print(a)"
   ]
  },
  {
   "cell_type": "code",
   "execution_count": 6,
   "id": "a9ddc583",
   "metadata": {},
   "outputs": [
    {
     "name": "stdout",
     "output_type": "stream",
     "text": [
      "Hello\\nWorld\n"
     ]
    }
   ],
   "source": [
    "b_raw_string=r\"Hello\\nWorld\"\n",
    "print(b_raw_string) #When I use raw string,\\n is not used as an escape character."
   ]
  },
  {
   "cell_type": "markdown",
   "id": "ff7167a4",
   "metadata": {},
   "source": [
    "<b>3. What is the return value of the search() method?</b>\n",
    "\n",
    "<b>Answer:</b> The re.search() function will search the regular expression pattern and return the first occurrence. Unlike Python re.match(), it will check all lines of the input string. If the pattern is found, the match object will be returned, otherwise “null” is returned."
   ]
  },
  {
   "cell_type": "code",
   "execution_count": 21,
   "id": "f84c241c",
   "metadata": {},
   "outputs": [
    {
     "name": "stdout",
     "output_type": "stream",
     "text": [
      "Looking for \"python\" in \"python is the foundation for becoming a good data-scientist.\" =  Found match!\n",
      "Looking for \"data-scientist\" in \"python is the foundation for becoming a good data-scientist.\" =  Found match!\n"
     ]
    }
   ],
   "source": [
    "patterns=['python','data-scientist']\n",
    "belief=\"python is the foundation for becoming a good data-scientist.\"\n",
    "for pattern in patterns:\n",
    "    print('Looking for \"%s\" in \"%s\" = '%(pattern,belief),end=' ')\n",
    "    \n",
    "    if re.search(pattern,belief):\n",
    "        print(\"Found match!\")\n",
    "    else:\n",
    "        print(\"Match not found!\")"
   ]
  },
  {
   "cell_type": "markdown",
   "id": "3ff4d95a",
   "metadata": {},
   "source": [
    "<b>4. From a Match item, how do you get the actual strings that match the pattern?</b>\n",
    "\n",
    "<b>Answer:</b> For a Match item, I have to use `group()` method to return actual strings that match the pattern. Please refer example below:"
   ]
  },
  {
   "cell_type": "code",
   "execution_count": 5,
   "id": "7d103354",
   "metadata": {},
   "outputs": [
    {
     "name": "stdout",
     "output_type": "stream",
     "text": [
      "Found match:  fsds\n"
     ]
    }
   ],
   "source": [
    "import re\n",
    "match=re.search('fsds','iNeuron offers one of the best Full Stack Data Scientist fsds programs.')\n",
    "print(\"Found match: \",match.group())"
   ]
  },
  {
   "cell_type": "markdown",
   "id": "05b752d9",
   "metadata": {},
   "source": [
    "<b>5. In the regex which created from the r'(\\d\\d\\d)-(\\d\\d\\d-\\d\\d\\d\\d)', what does group zero cover? Group 2? Group 1?<\\b>\n",
    "\n",
    "<b>Answer:<\\b> In the Regex r'(\\d\\d\\d)-(\\d\\d\\d-\\d\\d\\d\\d)' the zero group covers the entire pattern match where as the first group cover (\\d\\d\\d) and the second group cover (\\d\\d\\d-\\d\\d\\d\\d). Please refer example below:"
   ]
  },
  {
   "cell_type": "code",
   "execution_count": 2,
   "id": "6190b0b9",
   "metadata": {},
   "outputs": [
    {
     "name": "stdout",
     "output_type": "stream",
     "text": [
      "('243', '421-4563')\n",
      "243-421-4563\n",
      "243\n",
      "421-4563\n"
     ]
    }
   ],
   "source": [
    "import re\n",
    "telephone_number=re.compile(r'(\\d\\d\\d)-(\\d\\d\\d-\\d\\d\\d\\d)')\n",
    "\n",
    "mob=telephone_number.search('My telephone number is 243-421-4563')\n",
    "print(mob.groups()) # This will print all the groups in tuple format 243 and 421-4563.\n",
    "print(mob.group()) # This will return the fully matched string 243-421-4563.\n",
    "print(mob.group(1)) # This will print the first group 243.\n",
    "print(mob.group(2)) # This will print the 2nd group 421-4563."
   ]
  },
  {
   "cell_type": "markdown",
   "id": "8e568e87",
   "metadata": {},
   "source": [
    "<b>6. In standard expression syntax, parentheses and intervals have distinct meanings. How can you tell a regex that you want it to fit real parentheses and periods?<b>\n",
    "\n",
    "<b>Answer:</b> Since I am using a raw string, I can use `\\(`, `\\.` and `)\\` to fit in real parenthesis and periods. Please refer example below:"
   ]
  },
  {
   "cell_type": "code",
   "execution_count": 5,
   "id": "c58b7968",
   "metadata": {},
   "outputs": [
    {
     "name": "stdout",
     "output_type": "stream",
     "text": [
      "(043) (421.4563)\n"
     ]
    }
   ],
   "source": [
    "import re\n",
    "fone=re.compile(r'(\\(\\d\\d\\d\\)) (\\(\\d\\d\\d\\.\\d\\d\\d\\d\\))')\n",
    "mob=fone.search('My mobile number is (043) (421.4563)')\n",
    "print(mob.group())"
   ]
  },
  {
   "cell_type": "markdown",
   "id": "392af43d",
   "metadata": {},
   "source": [
    "<b>7. The findall() method returns a string list or a list of string tuples. What causes it to return one of the two options?</b>\n",
    "\n",
    "<b>Answer: </b>It depends what the regular expression contains. If the RegEx has groups, the findall() method returns the group of strings in the form of list of tuples. If the pattern includes 2 or more parenthesis groups, then instead of returning a list of strings, findall() returns a list of *tuples*. Each tuple represents one match of the pattern, and inside the tuple is the group(1), group(2) .. data. So if 2 parenthesis groups are added to the email pattern, then findall() returns a list of tuples, each length of 2 containing the username and host, e.g. ('musk', 'google.com'). If the RegEx has no groups, a list of matched string is returned. Please refer example below:"
   ]
  },
  {
   "cell_type": "code",
   "execution_count": 24,
   "id": "6ded93e5",
   "metadata": {},
   "outputs": [
    {
     "name": "stdout",
     "output_type": "stream",
     "text": [
      "['e', 'c', 'b', 'e', 'e', 'a', 'd']\n"
     ]
    }
   ],
   "source": [
    "import re\n",
    "# compile creates a regular expression\n",
    "# character class [a-e],\n",
    "# which is equivalent to a,b,c,d,e\n",
    "# class [abcde] will be matched with string \n",
    "\n",
    "p=re.compile('[a-e]')\n",
    "# findall searches for a regular expression and returns a list of strings if it finds it in the expression.\n",
    "print(p.findall(\"The quick brown fox jumps over the lazy dog\"))\n",
    "# e appears in The, over and the\n",
    "# a appears in lazy\n",
    "# b appears in brown\n",
    "# c appears in quick\n",
    "# d appears in dog\n",
    "# e appears in The, over and the i.e. at three places\n"
   ]
  },
  {
   "cell_type": "code",
   "execution_count": 30,
   "id": "60c0d8a0",
   "metadata": {},
   "outputs": [
    {
     "name": "stdout",
     "output_type": "stream",
     "text": [
      "[('elon-musk', 'google.com'), ('jeff-bezos', 'abc.com')]\n",
      "elon-musk\n",
      "google.com\n",
      "jeff-bezos\n",
      "abc.com\n"
     ]
    }
   ],
   "source": [
    "import re\n",
    "str = 'elon-musk@google.com, jeff-bezos@abc.com, great lakes'\n",
    "tuples = re.findall(r'([\\w\\.-]+)@([\\w\\.-]+)',str)\n",
    "print(tuples)  ## [('alice', 'google.com'), ('bob', 'abc.com')]\n",
    "for tuple in tuples:\n",
    "    print(tuple[0])  ## username\n",
    "    print(tuple[1])  ## host"
   ]
  },
  {
   "cell_type": "code",
   "execution_count": 9,
   "id": "4b097517",
   "metadata": {},
   "outputs": [
    {
     "name": "stdout",
     "output_type": "stream",
     "text": [
      "['1', '2', '3', '4', '5', '6', '7', '8', '9', '4', '5', '8', '3', '2', '1', '9', '2', '3']\n"
     ]
    }
   ],
   "source": [
    "import re\n",
    "# A sample text string in which I am going to search a regular expression.\n",
    "string=''' Hi. My friend's phone number is 123456789 and he also has another number 458321923'''\n",
    "regex='[0-9]'\n",
    "match=re.findall(regex,string)\n",
    "print(match)"
   ]
  },
  {
   "cell_type": "markdown",
   "id": "698cfde5",
   "metadata": {},
   "source": [
    "<B>8. In standard expressions, what does the | character mean?\n",
    "\n",
    "<B> Answer:</B> In standard expressions `|` means the operator `OR`."
   ]
  },
  {
   "cell_type": "markdown",
   "id": "bf969499",
   "metadata": {},
   "source": [
    "<b>9. In regular expressions, what does the character ? stand for?\n",
    "\n",
    "<b> Answer:</b> In regular expressions, question mark(?) checks if the string before the question mark in the regex occurs at least once or not at all. "
   ]
  },
  {
   "cell_type": "code",
   "execution_count": 40,
   "id": "c1b4dcf0",
   "metadata": {},
   "outputs": [
    {
     "name": "stdout",
     "output_type": "stream",
     "text": [
      "<re.Match object; span=(20, 23), match='man'>\n",
      "None\n",
      "<re.Match object; span=(34, 36), match='mn'>\n"
     ]
    }
   ],
   "source": [
    "chk_1 = re.search(\"ma?n\",\"The first step by a man on moon\") # checks if man exists in the text string.\n",
    "print(chk_1,end='\\n')\n",
    "chk_2 = re.search(\"ma?n\",\"maaan\") #checks if ma exists in maaan. Since there are more than one 'a's, it will return none.\n",
    "print(chk_2)\n",
    "chk_3=re.search(\"ma?n\",\"The short form of match nation is mn\") # checks if mn exists in the string text.\n",
    "print(chk_3)"
   ]
  },
  {
   "cell_type": "markdown",
   "id": "bdb9acb2",
   "metadata": {},
   "source": [
    "<b>10.In regular expressions, what is the difference between the + and * characters?\n",
    "\n",
    "<b>Answer:</b> Each of them are quantifiers. The star quantifier (*) means that the preceding expression can match zero or more times while the pluc quantifier (+) indicates that the preceding expression MUST match at least one time or more than one time. The difference between the two is that the empty string would match for + but not for *. The star symbol * matches zero or more occurrences of the pattern left to it.The plus symbol + matches one or more occurrences of the pattern left to it.\n",
    "The * (called the star or asterisk) means “match zero or more”—the group that precedes the star can occur any number of times in the text. It can be completely absent or repeated over and over again. Please refer example below:"
   ]
  },
  {
   "cell_type": "code",
   "execution_count": 7,
   "id": "02f34300",
   "metadata": {},
   "outputs": [
    {
     "name": "stdout",
     "output_type": "stream",
     "text": [
      "Die hardspirit\n"
     ]
    }
   ],
   "source": [
    "import re\n",
    "aster_check = re.compile(r'Die hard*spirit')\n",
    "kit = aster_check.search('The Die hardspirit of mankind')\n",
    "print(kit.group())"
   ]
  },
  {
   "cell_type": "code",
   "execution_count": 5,
   "id": "13df8d04",
   "metadata": {},
   "outputs": [
    {
     "name": "stdout",
     "output_type": "stream",
     "text": [
      "jinglebell\n"
     ]
    }
   ],
   "source": [
    "import re\n",
    "plus_check = re.compile(r'jingle+bell')\n",
    "kit2 = plus_check.search('The sounds of jinglebelllllllll')\n",
    "print(kit2.group())"
   ]
  },
  {
   "cell_type": "markdown",
   "id": "4038ee53",
   "metadata": {},
   "source": [
    "<b>11. What is the difference between {4} and {4,5} in regular expression?\n",
    "\n",
    "<b>Answer: </b>{n} The curly brackets are used to match exactly n instances of the proceeding character or pattern.\n",
    "\n",
    "{m,n} Braces match any repetitions preceding regex from m to n both inclusive. Please refer examples below:  \n"
   ]
  },
  {
   "cell_type": "code",
   "execution_count": 8,
   "id": "970e6132",
   "metadata": {},
   "outputs": [
    {
     "name": "stdout",
     "output_type": "stream",
     "text": [
      "['aaaa', 'aaaa', 'aaaa']\n"
     ]
    }
   ],
   "source": [
    "import re\n",
    "p = re.compile('a{4}') #This searches for exact 4 occurrences of a in the string text.\n",
    "print(p.findall(\"aabbb,babbbbbaa,aaaaaabbbb,ababaaabbbbaabb,bbbaaaaaaaaaa\"))"
   ]
  },
  {
   "cell_type": "code",
   "execution_count": 9,
   "id": "bbf230de",
   "metadata": {},
   "outputs": [
    {
     "name": "stdout",
     "output_type": "stream",
     "text": [
      "['aaaa', 'aaaaa', 'aaaaa']\n"
     ]
    }
   ],
   "source": [
    "import re\n",
    "p = re.compile('a{4,5}') # This searches for either 4 or 5 occurrences of a in the string text.\n",
    "print(p.findall(\"aabbb,babbbbbaa,aaaabbbb,ababaaabbbbaabb,bbbaaaaaaaaaa\"))"
   ]
  },
  {
   "cell_type": "markdown",
   "id": "169ab978",
   "metadata": {},
   "source": [
    "<b>12. What do you mean by the \\d, \\w, and \\s shorthand character classes signify in regular expressions?\n",
    "\n",
    "<b> Answer:</b> \n",
    "    \n",
    "* \\d Matches any decimal digit, this is equivalent to the set class [0-9]\n",
    "\n",
    "* \\w Matches any alphanumeric character, this is equivalent to the class [a-z,A-Z,0-9_].\n",
    "\n",
    "* \\s Matches any whitespace character.\n",
    "\n",
    "Please refer following examples:"
   ]
  },
  {
   "cell_type": "code",
   "execution_count": 14,
   "id": "4e44bbaa",
   "metadata": {},
   "outputs": [
    {
     "name": "stdout",
     "output_type": "stream",
     "text": [
      "['0', '9', '1', '2', '4', '5', '6', '8', '9']\n"
     ]
    }
   ],
   "source": [
    "import re\n",
    "k=re.compile('\\d') # It fetches all the digits in my string text.\n",
    "print(k.findall(\"Hello my mobile number is 091-24-56-89\"))\n"
   ]
  },
  {
   "cell_type": "code",
   "execution_count": 16,
   "id": "287b4b94",
   "metadata": {},
   "outputs": [
    {
     "name": "stdout",
     "output_type": "stream",
     "text": [
      "['H', 'e', 'l', 'l', 'o', 'm', 'y', 'v', 'e', 'h', 'i', 'c', 'l', 'e', 'n', 'u', 'm', 'b', 'e', 'r', 'i', 's', 'M', 'H', '0', '1', 'B', 'Y', '4', '3', '6', '8']\n"
     ]
    }
   ],
   "source": [
    "import re\n",
    "m=re.compile('\\w') # It fetches all the alphabets and digits in the given string text.\n",
    "print(m.findall(\"Hello my vehicle number is MH01 BY 4368\"))"
   ]
  },
  {
   "cell_type": "code",
   "execution_count": 18,
   "id": "e1646676",
   "metadata": {},
   "outputs": [
    {
     "name": "stdout",
     "output_type": "stream",
     "text": [
      "[' ', ' ', ' ', ' ', ' ', ' ', ' ']\n"
     ]
    }
   ],
   "source": [
    "import re\n",
    "n=re.compile('\\s') # It fetches all the white spaces in the given string text.\n",
    "print(n.findall(\"Hello my vehicle number is MH01 BY 4368\"))"
   ]
  },
  {
   "cell_type": "markdown",
   "id": "f1e273f2",
   "metadata": {},
   "source": [
    "<b>13. What do means by \\D, \\W, and \\S shorthand character classes signify in regular expressions?\n",
    "\n",
    " <b> Answer:</b>\n",
    "\n",
    "* \\D Matches any non-digit character, this is equivalent to the set class [^0-9]\n",
    "\n",
    "* \\W Matches any non-alphanumeric character.\n",
    "\n",
    "* \\S Matches any non-whitespace character\n",
    "    \n",
    "Please refer examples below:"
   ]
  },
  {
   "cell_type": "code",
   "execution_count": 22,
   "id": "1c3dfd24",
   "metadata": {},
   "outputs": [
    {
     "name": "stdout",
     "output_type": "stream",
     "text": [
      "['H', 'e', 'l', 'l', 'o', ' ', 'm', 'y', ' ', 'v', 'e', 'h', 'i', 'c', 'l', 'e', ' ', 'n', 'u', 'm', 'b', 'e', 'r', ' ', 'i', 's', ' ', 'M', 'H', ' ', 'B', 'Y', ' ', ' ', '%', '%', '$', '$', '$', '#']\n"
     ]
    }
   ],
   "source": [
    "import re\n",
    "a=re.compile('\\D') # It fetches all the non-digit characters including white spaces in the given string text.\n",
    "print(a.findall(\"My car number is MH01 BY 4368 %%$$$#\"))"
   ]
  },
  {
   "cell_type": "code",
   "execution_count": 24,
   "id": "7570f85c",
   "metadata": {},
   "outputs": [
    {
     "name": "stdout",
     "output_type": "stream",
     "text": [
      "[' ', ' ', ' ', ' ', ' ', ' ', ' ', ' ', '&', '*', '*', '$', '#', '#', '@', ' ', '*', '*', '&', '$', '#', '^', '^']\n"
     ]
    }
   ],
   "source": [
    "import re\n",
    "b=re.compile('\\W') # It fetches all the non-alpha numeric characters in the given string text.\n",
    "print(b.findall(\"The language spoken by aliens from Mars sounded &**$##@ **&$#^^\"))"
   ]
  },
  {
   "cell_type": "code",
   "execution_count": 25,
   "id": "c4e073c8",
   "metadata": {},
   "outputs": [
    {
     "name": "stdout",
     "output_type": "stream",
     "text": [
      "['T', 'h', 'e', 'l', 'a', 'n', 'g', 'u', 'a', 'g', 'e', 's', 'p', 'o', 'k', 'e', 'n', 'b', 'y', 'a', 'l', 'i', 'e', 'n', 's', 'f', 'r', 'o', 'm', 'M', 'a', 'r', 's', 's', 'o', 'u', 'n', 'd', 'e', 'd', '&', '*', '*', '$', '#', '#', '@', '*', '*', '&', '$', '#', '^', '^']\n"
     ]
    }
   ],
   "source": [
    "import re\n",
    "c=re.compile('\\S') # It fetches all non-whitespace characters in the given string text.\n",
    "print(c.findall(\"The language spoken by aliens from Mars sounded &**$##@ **&$#^^\"))"
   ]
  },
  {
   "cell_type": "markdown",
   "id": "8d64c1d2",
   "metadata": {},
   "source": [
    "<b>14. What is the difference between `.*?` and `.*`?\n",
    "    \n",
    "<b>Answer:</b> `.*` is a Greedy mode, which returns the longest string that meets the condition. Whereas `.*?` is a non greedy mode which returns the shortest string that meets the condition."
   ]
  },
  {
   "cell_type": "code",
   "execution_count": 1,
   "id": "42871426",
   "metadata": {},
   "outputs": [
    {
     "name": "stdout",
     "output_type": "stream",
     "text": [
      "['ababbaabbb,abcaaabccccdddddab']\n"
     ]
    }
   ],
   "source": [
    "import re\n",
    "p = re.compile('ab.*')\n",
    "print(p.findall(\"ababbaabbb,abcaaabccccdddddab\"))"
   ]
  },
  {
   "cell_type": "code",
   "execution_count": 2,
   "id": "b137b782",
   "metadata": {},
   "outputs": [
    {
     "name": "stdout",
     "output_type": "stream",
     "text": [
      "['ab', 'ab', 'ab', 'ab', 'ab', 'ab']\n"
     ]
    }
   ],
   "source": [
    "import re\n",
    "p = re.compile('ab.*?')\n",
    "print(p.findall(\"ababbaabbb, abcaaabccccdddddab\"))"
   ]
  },
  {
   "cell_type": "markdown",
   "id": "3f153cdd",
   "metadata": {},
   "source": [
    "<b>15. What is the syntax for matching both numbers and lowercase letters with a character class?\n",
    "\n",
    "<b>Answer:</b>The character class [a-z0-9] or [0-9a-z] will match both numbers and lowercase letters."
   ]
  },
  {
   "cell_type": "code",
   "execution_count": 9,
   "id": "420a7824",
   "metadata": {},
   "outputs": [
    {
     "name": "stdout",
     "output_type": "stream",
     "text": [
      "['1', '2', '5', '6', '1', '9', '8', 'a', 'd', 'k', 'r', 'u', 'e', 'i', '4', '5', '5', 'r', 'u', 'e', 'r', 'u', 'r', 'e', 'o', 'n', '4', '5', '6', '8', 'b', 'c', 'a', 'a', 's', 's', 'e', 'r', 'e', 'r', 'd', 'd', 'f', 'd', 'f', 'd', 'a', 'b']\n"
     ]
    }
   ],
   "source": [
    "import re\n",
    "q = re.compile('[a-z0-9]') # matches only the digits 0 to 9 and the letters in lower case.\n",
    "print(q.findall(\"AB1256, 198aZXFUdkruei455ruerureon,4568bcaasserFJDKeFDDFrddfdfdab\"))"
   ]
  },
  {
   "cell_type": "markdown",
   "id": "ecce811e",
   "metadata": {},
   "source": [
    "<b>16. What is the procedure for making a normal expression in regax case insensitive?\n",
    "\n",
    "<b>Answer:</b> To make procedure for making a normal expresseion in regax case insensitive, we use re.IGNORECASE as a flag. Please refer example below:"
   ]
  },
  {
   "cell_type": "code",
   "execution_count": 2,
   "id": "3df70bfa",
   "metadata": {},
   "outputs": [
    {
     "name": "stdout",
     "output_type": "stream",
     "text": [
      "['ab', 'ab', 'AB', 'ab', 'aB', 'ab']\n"
     ]
    }
   ],
   "source": [
    "import re\n",
    "p = re.compile('ab.*?',re.IGNORECASE)\n",
    "print(p.findall(\"ababAABBCbbb, abcaCCCaBBAcAACCcdddddab\"))"
   ]
  },
  {
   "cell_type": "markdown",
   "id": "a6a71302",
   "metadata": {},
   "source": [
    "<b> 17. What does the . character normally match? What does it match if re.DOTALL is passed as 2nd argument in re.compile()?\n",
    "\n",
    "<b>Answer:</b> The `.` (or dot) character in a regular expression is called a wildcard. It will match any character except for a new line.\n",
    "By passing the re.DOTALL as the second argument, I can make the dot character match all characters, including the new line character.\n",
    "\n",
    "Please refer examples below. "
   ]
  },
  {
   "cell_type": "code",
   "execution_count": 17,
   "id": "b8611800",
   "metadata": {},
   "outputs": [
    {
     "name": "stdout",
     "output_type": "stream",
     "text": [
      "['bat', 'cat', 'sat', 'mat', 'lat', 'bat', 'mat']\n"
     ]
    }
   ],
   "source": [
    "import re\n",
    "r = re.compile(r'.at')# the dot character will just match one character. That is why only lat was matched instead of flat.\n",
    "# The new line character is not considered.\n",
    "print(r.findall(\"The bat and the cat sat on a mat which was completely flat.\\nThe boy played with both bat and mat.\\nHe enjoyed a lot.\"))"
   ]
  },
  {
   "cell_type": "code",
   "execution_count": 15,
   "id": "9cbab0e0",
   "metadata": {},
   "outputs": [
    {
     "name": "stdout",
     "output_type": "stream",
     "text": [
      "['The bat and the cat sat on a mat which was completely flat.\\nThe boy played with both.\\nHe enjoyed a lot', '']\n"
     ]
    }
   ],
   "source": [
    "import re\n",
    "s = re.compile(r'.*',re.DOTALL)# with DOTALL,the dot character will match all the characters incluing new line.\n",
    "print(s.findall(\"The bat and the cat sat on a mat which was completely flat.\\nThe boy played with both.\\nHe enjoyed a lot\"))"
   ]
  },
  {
   "cell_type": "markdown",
   "id": "4666630f",
   "metadata": {},
   "source": [
    "<b>18. If numReg = re.compile(r'\\d+'), what will numRegex.sub('X', '11 drummers, 10 pipers, five rings, 4 hen') return?\n",
    "    \n",
    "<b> Answer</b>: The regular expression `\\d+ will match text that has one or more numeric digits. Please refer code below:\n",
    "    "
   ]
  },
  {
   "cell_type": "code",
   "execution_count": 21,
   "id": "b1c302fe",
   "metadata": {},
   "outputs": [
    {
     "name": "stdout",
     "output_type": "stream",
     "text": [
      "X drummers, X pipers, five rings, X hen\n"
     ]
    }
   ],
   "source": [
    "import re\n",
    "numRegex=re.compile(r'\\d+')\n",
    "a=numRegex.sub('X', '11 drummers, 10 pipers, five rings, 4 hen') # X will replate all the digits.\n",
    "print(a)"
   ]
  },
  {
   "cell_type": "markdown",
   "id": "0c6a0fee",
   "metadata": {},
   "source": [
    "<b>19. What does passing re.VERBOSE as the 2nd argument to re.compile() allow to do?\n",
    "\n",
    "<b>Answer:</b> Regular expressions are good to use if the text pattern that I have to match is simple. But if I have to match complicated text patterns, I will have to use long, convoluted regular expressions. I can mitigate this by telling the re.compile() function to ignore whitespace and comments inside the regular expression string. I can use re.VERBOSE as 2nd argument to re.compile() to enable this \"verbose mode\". \n",
    " Now instead of a hard-to-read regular expression like this:\n",
    "phoneRegex = re.compile(r'((\\d{3}|\\(\\d{3}\\))?(\\s|-|\\.)?\\d{3}(\\s|-|\\.)\\d{4}(\\s*(ext|x|ext.)\\s*\\d{2,5})?)'), I can spread the regular expression over multiple lines with comments like this:"
   ]
  },
  {
   "cell_type": "code",
   "execution_count": 36,
   "id": "23b04dec",
   "metadata": {},
   "outputs": [],
   "source": [
    "#without using re.VERBOSE\n",
    "phone_number=re.compile(r'((\\d{3}|\\(\\d{3}\\))? (\\s|-|\\.)?\\d{3}(\\s|-|\\.)\\d{4}(\\s*(ext|x|ext.)\\s*\\d{2,5}))')\n",
    "\n",
    "                        \n",
    "# same expression now with using re.VERBOSE\n",
    "phone_number = re.compile(r'''(\n",
    "    (\\d{3}|\\(\\d{3}\\))?            # area code\n",
    "    (\\s|-|\\.)?                    # separator\n",
    "    \\d{3}                         # first 3 digits\n",
    "    (\\s|-|\\.)                     # separator\n",
    "    \\d{4}                         # last 4 digits\n",
    "    (\\s*(ext|x|ext.)\\s*\\d{2,5})?  # extension\n",
    "    )''', re.VERBOSE)"
   ]
  },
  {
   "cell_type": "markdown",
   "id": "15b76544",
   "metadata": {},
   "source": [
    "<b>20. How would you write a regex that match a number with comma for every three digits? It must match the given following:\n",
    "    \n",
    "`'42','1,234', '6,368,745'`but not the following: `'12,34,567'` (which has only two digits between the commas) `'1234'` (which lacks commas)"
   ]
  },
  {
   "cell_type": "code",
   "execution_count": 10,
   "id": "c3f70f4b",
   "metadata": {},
   "outputs": [
    {
     "name": "stdout",
     "output_type": "stream",
     "text": [
      "Output:  42 <re.Match object; span=(0, 2), match='42'>\n",
      "Output:  1,234 <re.Match object; span=(0, 5), match='1,234'>\n",
      "Output:  6,368,745 <re.Match object; span=(0, 9), match='6,368,745'>\n",
      "Output:  12,34,567 None\n",
      "Output:  1234 None\n"
     ]
    }
   ],
   "source": [
    "import re\n",
    "comma_issue=re.compile(r'^\\d{1,3}(,\\d{3})*$')\n",
    "                        \n",
    "for num in ['42','1,234','6,368,745','12,34,567','1234']:\n",
    "    print('Output: ',num, comma_issue.search(num))"
   ]
  },
  {
   "cell_type": "markdown",
   "id": "dbf7f34a",
   "metadata": {},
   "source": [
    "<b> 21. How would you write a regex that matches the full name of someone whose last name is Watanabe? You can assume that the first name that comes before it will always be one word that begins with a capital letter. The regex must match the following:\n",
    "    \n",
    "`'Haruto Watanabe'`  \n",
    "`'Alice Watanabe'`  \n",
    "`'RoboCop Watanabe'`  \n",
    "\n",
    "    \n",
    "but not the following:\n",
    "\n",
    "    \n",
    "`'haruto Watanabe'` (where the first name is not capitalized)  \n",
    "`'Mr. Watanabe'` (where the preceding word has a nonletter character)  \n",
    "`'Watanabe'` (which has no first name)  \n",
    "`'Haruto watanabe'` (where Watanabe is not capitalized)  \n",
    "\n",
    "<b>Answer:</b> Please refer solution below:"
   ]
  },
  {
   "cell_type": "code",
   "execution_count": 17,
   "id": "e09b5b4d",
   "metadata": {},
   "outputs": [
    {
     "name": "stdout",
     "output_type": "stream",
     "text": [
      "Output:  Haruto Watanabe <re.Match object; span=(0, 15), match='Haruto Watanabe'>\n",
      "Output:  Alice Watanabe <re.Match object; span=(0, 14), match='Alice Watanabe'>\n",
      "Output:  RoboCop Watanabe <re.Match object; span=(4, 16), match='Cop Watanabe'>\n",
      "Output:  haruto Watanabe None\n",
      "Output:  Mr. Watanabe None\n",
      "Output:  Watanabe None\n",
      "Output:  Haruto watanabe None\n"
     ]
    }
   ],
   "source": [
    "import re\n",
    "pattern=r'[A-Z]{1}[a-z]*\\sWatanabe'\n",
    "required_name=re.compile(pattern)\n",
    "for name in ['Haruto Watanabe','Alice Watanabe','RoboCop Watanabe','haruto Watanabe','Mr. Watanabe','Watanabe','Haruto watanabe']:\n",
    "    print('Output: ',name,required_name.search(name))\n"
   ]
  },
  {
   "cell_type": "markdown",
   "id": "71ed1933",
   "metadata": {},
   "source": [
    "<b> 22. How would you write a regex that matches a sentence where the first word is either Alice, Bob,or Carol; the second word is either eats, pets, or throws; the third word is apples, cats, or baseballs; and the sentence ends with a period? This regex should be case-insensitive. It must match the following:\n",
    "    \n",
    "`'Alice eats apples.'`  \n",
    "`'Bob pets cats.'`  \n",
    "`'Carol throws baseballs.'`  \n",
    "`'Alice throws Apples.'`  \n",
    "`'BOB EATS CATS.'`  \n",
    "\n",
    "but not the following:  \n",
    "\n",
    "`'RoboCop eats apples.'`  \n",
    "`'ALICE THROWS FOOTBALLS.'`   \n",
    "`'Carol eats 7 cats.'`  \n",
    "    \n",
    "<b>Answer:</b> Please refer solution below:"
   ]
  },
  {
   "cell_type": "code",
   "execution_count": 18,
   "id": "78281afc",
   "metadata": {},
   "outputs": [
    {
     "name": "stdout",
     "output_type": "stream",
     "text": [
      "Outcome:  Alice eats apples. <re.Match object; span=(0, 18), match='Alice eats apples.'>\n",
      "Outcome:  Bob pets cats. <re.Match object; span=(0, 14), match='Bob pets cats.'>\n",
      "Outcome:  Carol throws baseballs. <re.Match object; span=(0, 23), match='Carol throws baseballs.'>\n",
      "Outcome:  Alice throws Apples. None\n",
      "Outcome:  BOB EATS CATS. None\n",
      "Outcome:  RoboCop eats apples. None\n",
      "Outcome:  ALICE THROWS FOOTBALLS. None\n",
      "Outcome:  Carol eats 7 cats. None\n"
     ]
    }
   ],
   "source": [
    "import re\n",
    "pattern=r'(Alice|Bob|Carol)\\s(eats|pets|throws)\\s(apples|cats|baseballs)\\.'\n",
    "required_name=re.compile(pattern)\n",
    "for name in ['Alice eats apples.','Bob pets cats.','Carol throws baseballs.','Alice throws Apples.','BOB EATS CATS.','RoboCop eats apples.'\n",
    ",'ALICE THROWS FOOTBALLS.','Carol eats 7 cats.']:\n",
    "    print('Outcome: ',name,required_name.search(name))"
   ]
  },
  {
   "cell_type": "code",
   "execution_count": null,
   "id": "45844eec",
   "metadata": {},
   "outputs": [],
   "source": []
  }
 ],
 "metadata": {
  "kernelspec": {
   "display_name": "Python 3 (ipykernel)",
   "language": "python",
   "name": "python3"
  },
  "language_info": {
   "codemirror_mode": {
    "name": "ipython",
    "version": 3
   },
   "file_extension": ".py",
   "mimetype": "text/x-python",
   "name": "python",
   "nbconvert_exporter": "python",
   "pygments_lexer": "ipython3",
   "version": "3.9.13"
  }
 },
 "nbformat": 4,
 "nbformat_minor": 5
}
