{
 "cells": [
  {
   "cell_type": "markdown",
   "id": "feaaa93c",
   "metadata": {},
   "source": [
    "# Assignment 2 solutions:"
   ]
  },
  {
   "cell_type": "markdown",
   "id": "ce714889",
   "metadata": {},
   "source": [
    "### 1. What are the two values of the Boolean data type? How do you write them?\n",
    "**Answer:** `True` and `False` are the two values of Boolean data type. The first letter of both words has always has to be capital."
   ]
  },
  {
   "cell_type": "markdown",
   "id": "e4a88075",
   "metadata": {},
   "source": [
    "### 2. What are the three different types of Boolean operators?\n",
    "**Answer:** The three types of Boolean operators are : `or`, `and` and `not`"
   ]
  },
  {
   "cell_type": "code",
   "execution_count": 3,
   "id": "3aaad2d5",
   "metadata": {},
   "outputs": [
    {
     "name": "stdout",
     "output_type": "stream",
     "text": [
      "False\n",
      "True\n",
      "True\n"
     ]
    }
   ],
   "source": [
    "x=12\n",
    "y=16\n",
    "print(x>20 and y>20) # Example of Boolean operator `and` in use\n",
    "print(x>20 or y> 10) # Example of Boolean operator `or` in use\n",
    "print(not(x>20)) # Example of Boolean operator `not` in use"
   ]
  },
  {
   "cell_type": "markdown",
   "id": "04ba5b02",
   "metadata": {},
   "source": [
    "### 3. Make a list of each Boolean operator's truth tables (i.e. every possible combination of Boolean values for the operator and what it evaluate) ?\n",
    "**Answer:** The truth tables for the three Boolean Operators are:\n",
    "\n",
    "* **Truth table for `and` operator:**\n",
    "\n",
    "True and True is True\n",
    "\n",
    "True and False is False\n",
    "\n",
    "False and True is False\n",
    "\n",
    "False and False is False\n",
    "\n",
    "\n",
    "* **Truth table for `or` operator:**\n",
    "\n",
    "True or True is True\n",
    "\n",
    "True or False is True\n",
    "\n",
    "False or True is True\n",
    "\n",
    "False or False is False\n",
    "\n",
    "* **Truth table for `not` operator:**\n",
    "\n",
    "True not is False\n",
    "\n",
    "False not is True\n"
   ]
  },
  {
   "cell_type": "markdown",
   "id": "0408a1de",
   "metadata": {},
   "source": [
    "### 4. What are the values of the following expressions?\n",
    "* (5 > 4) and (3 == 5)\n",
    "* not (5 > 4)\n",
    "* (5 > 4) or (3 == 5)\n",
    "* not ((5 > 4) or (3 == 5))\n",
    "* (True and True) and (True == False)\n",
    "* (not False) or (not True)"
   ]
  },
  {
   "cell_type": "code",
   "execution_count": 6,
   "id": "1d2a36e1",
   "metadata": {},
   "outputs": [
    {
     "name": "stdout",
     "output_type": "stream",
     "text": [
      "False\n",
      "False\n",
      "True\n",
      "False\n",
      "False\n",
      "True\n"
     ]
    }
   ],
   "source": [
    "print((5 > 4) and (3 == 5)) # True and False gives result as False\n",
    "print(not (5 > 4)) # not True gives result as False\n",
    "print((5 > 4) or (3 == 5)) # True or False gives result as True\n",
    "print(not ((5 > 4) or (3 == 5))) # False or Fals give result as False\n",
    "print((True and True) and (True == False)) # True and False give result as False\n",
    "print((not False) or (not True)) # True or False give result as True"
   ]
  },
  {
   "cell_type": "markdown",
   "id": "57202733",
   "metadata": {},
   "source": [
    "### 5. What are the six comparison operators?\n",
    "**Answer:** The six Comparison Operators are:\n",
    "* `<`\n",
    "* `>` \n",
    "* `==`\n",
    "* `<=`\n",
    "* `>=`\n",
    "* `!=`"
   ]
  },
  {
   "cell_type": "markdown",
   "id": "e5dc9bd9",
   "metadata": {},
   "source": [
    "### 6. How do you tell the difference between the equal to and assignment operators? Describe a condition and when you would use one.\n",
    "**Answer: ** `==` always compares if two values are equal and gives result in the form of a Boolean value. Whereas `=` is an assignment operator which stores the value in a variable. "
   ]
  },
  {
   "cell_type": "code",
   "execution_count": 8,
   "id": "c41efc7b",
   "metadata": {},
   "outputs": [
    {
     "name": "stdout",
     "output_type": "stream",
     "text": [
      "False\n"
     ]
    }
   ],
   "source": [
    "x=4 # Here the `=` operator assigns value of 4 to x.\n",
    "if x==4: # Here the `==` operator compares value of x with integer 4\n",
    "    print(x==3) # Here the print command will evaluate this expression and print the result in form of boolean value."
   ]
  },
  {
   "cell_type": "markdown",
   "id": "fa413e01",
   "metadata": {},
   "source": [
    "### 7. Identify the three blocks in this code:\n",
    "\n",
    "spam = 0\n",
    "\n",
    "if spam == 10:\n",
    "\n",
    "print('eggs')\n",
    "\n",
    "if spam > 5:\n",
    "\n",
    "print('bacon')\n",
    "\n",
    "else:\n",
    "\n",
    "print('ham')\n",
    "\n",
    "print('spam')\n",
    "\n",
    "print('spam')\n",
    "\n",
    "**Answer:** A code block refers to lines of code within a same block or within a same indent. "
   ]
  },
  {
   "cell_type": "code",
   "execution_count": 9,
   "id": "9566f160",
   "metadata": {},
   "outputs": [
    {
     "name": "stdout",
     "output_type": "stream",
     "text": [
      "ham\n",
      "spam\n",
      "spam\n"
     ]
    }
   ],
   "source": [
    "spam = 0\n",
    "if spam == 10:\n",
    "    print('eggs') # This is first block of code.\n",
    "if spam > 5:\n",
    "    print('bacon') # This is second block of code.\n",
    "else:\n",
    "    print('ham') # This is third block of code.\n",
    "print('spam')\n",
    "print('spam')"
   ]
  },
  {
   "cell_type": "markdown",
   "id": "62e6cd39",
   "metadata": {},
   "source": [
    "### 8. Write code that prints Hello if 1 is stored in spam, prints Howdy if 2 is stored in spam, and prints Greetings! if anything else is stored in spam.\n"
   ]
  },
  {
   "cell_type": "code",
   "execution_count": 12,
   "id": "5c6a1f0b",
   "metadata": {},
   "outputs": [],
   "source": [
    "def code(spam):\n",
    "    if spam==1:\n",
    "        print(\"Hello\")\n",
    "    elif spam==2:\n",
    "        print(\"Howdy\")\n",
    "    else:\n",
    "        print(\"Greetings!\")"
   ]
  },
  {
   "cell_type": "code",
   "execution_count": 13,
   "id": "c216a799",
   "metadata": {},
   "outputs": [
    {
     "name": "stdout",
     "output_type": "stream",
     "text": [
      "Hello\n"
     ]
    }
   ],
   "source": [
    "code(1) # Here the spam value is 1."
   ]
  },
  {
   "cell_type": "code",
   "execution_count": 14,
   "id": "5bc02cba",
   "metadata": {},
   "outputs": [
    {
     "name": "stdout",
     "output_type": "stream",
     "text": [
      "Howdy\n"
     ]
    }
   ],
   "source": [
    "code(2) # Here the spam value is 2."
   ]
  },
  {
   "cell_type": "code",
   "execution_count": 16,
   "id": "eb6180a1",
   "metadata": {},
   "outputs": [
    {
     "name": "stdout",
     "output_type": "stream",
     "text": [
      "Greetings!\n"
     ]
    }
   ],
   "source": [
    "code(3) # Here the spam value is 3."
   ]
  },
  {
   "cell_type": "markdown",
   "id": "3a0524a6",
   "metadata": {},
   "source": [
    "### 9.If your programme is stuck in an endless loop, what keys you’ll press?\n",
    "**Answer: ** If my program is stuck in endless loop, I will press `Ctrl-c`."
   ]
  },
  {
   "cell_type": "markdown",
   "id": "2f0a6779",
   "metadata": {},
   "source": [
    "## 10. How can you tell the difference between break and continue?\n",
    "**Answer:** Break and Continue are two kind of statements. \n",
    "Whenever the break condition is satisfied, the break statement will move the execution outside the loop.\n",
    "Whenever the continue statement is satisfied, the continue statement will move the execution to the start of the loop. \n",
    "The following examples illustrate usage of these two statements."
   ]
  },
  {
   "cell_type": "code",
   "execution_count": 18,
   "id": "7c6a504d",
   "metadata": {},
   "outputs": [
    {
     "name": "stdout",
     "output_type": "stream",
     "text": [
      "0\n",
      "1\n",
      "3\n",
      "4\n"
     ]
    }
   ],
   "source": [
    "for i in range(5):\n",
    "    if i==2:\n",
    "        continue # Here when the iteration reaches i=2, the print expression will not print 2 and will return to start of\n",
    "                # the loop and continue with the execution of code.\n",
    "    print(i)"
   ]
  },
  {
   "cell_type": "code",
   "execution_count": 19,
   "id": "da1965cb",
   "metadata": {},
   "outputs": [
    {
     "name": "stdout",
     "output_type": "stream",
     "text": [
      "0\n",
      "1\n"
     ]
    }
   ],
   "source": [
    "for i in range(5):\n",
    "    if i==2:\n",
    "        break # Here when the iteration reaches i=2, the print expression will not print 2 and will end the exeuction\n",
    "                # of code.\n",
    "    print(i)"
   ]
  },
  {
   "cell_type": "markdown",
   "id": "cd444e00",
   "metadata": {},
   "source": [
    "### 11. In a for loop, what is the difference between range(10), range(0, 10), and range(0, 10, 1)?\n",
    "**Answer:** The differences in the three expressions are:\n",
    "\n",
    "The **range(10)** calls for all the numbers starting with 0 and ending with 9.\n",
    "\n",
    "The **range(0,10)** defines that the call function should start from value 0.\n",
    "\n",
    "The **range(0,10,1)** defines that the call function starts from 0, increases the variable by 1 in each iteration till number 9 is reached.  \n"
   ]
  },
  {
   "cell_type": "markdown",
   "id": "403bb584",
   "metadata": {},
   "source": [
    "### 12. Write a short program that prints the numbers 1 to 10 using a for loop. Then write an equivalent program that prints the numbers 1 to 10 using a while loop.\n"
   ]
  },
  {
   "cell_type": "code",
   "execution_count": 26,
   "id": "359fe53b",
   "metadata": {},
   "outputs": [
    {
     "name": "stdout",
     "output_type": "stream",
     "text": [
      "1 2 3 4 5 6 7 8 9 10 "
     ]
    }
   ],
   "source": [
    "for i in range(1,11): # for loop prints all the numbers in range 1 to 11.\n",
    "    print(i,end=\" \")"
   ]
  },
  {
   "cell_type": "code",
   "execution_count": 28,
   "id": "b0d29bf7",
   "metadata": {},
   "outputs": [
    {
     "name": "stdout",
     "output_type": "stream",
     "text": [
      "1 2 3 4 5 6 7 8 9 10 "
     ]
    }
   ],
   "source": [
    "i=1\n",
    "while i <=10: # the while loop operates as long as the condition remains true. The moment condition is unsatisfied,\n",
    "              # the execution of code is stopped.\n",
    "    print(i,end=\" \")\n",
    "    i=i+1"
   ]
  },
  {
   "cell_type": "markdown",
   "id": "4d37aecc",
   "metadata": {},
   "source": [
    "### 13. If you had a function named bacon() inside a module named spam, how would you call it after importing spam?\n",
    "**Answer:** The function can be called using the command `spam.bacon()`."
   ]
  },
  {
   "cell_type": "code",
   "execution_count": null,
   "id": "d4ac6fd3",
   "metadata": {},
   "outputs": [],
   "source": []
  }
 ],
 "metadata": {
  "kernelspec": {
   "display_name": "Python 3 (ipykernel)",
   "language": "python",
   "name": "python3"
  },
  "language_info": {
   "codemirror_mode": {
    "name": "ipython",
    "version": 3
   },
   "file_extension": ".py",
   "mimetype": "text/x-python",
   "name": "python",
   "nbconvert_exporter": "python",
   "pygments_lexer": "ipython3",
   "version": "3.9.13"
  }
 },
 "nbformat": 4,
 "nbformat_minor": 5
}
