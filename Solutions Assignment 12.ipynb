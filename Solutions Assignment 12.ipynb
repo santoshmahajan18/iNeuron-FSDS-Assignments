{
 "cells": [
  {
   "cell_type": "markdown",
   "id": "b4ca730b",
   "metadata": {},
   "source": [
    "# Solutions Assignment 12"
   ]
  },
  {
   "cell_type": "markdown",
   "id": "46e339b7",
   "metadata": {},
   "source": [
    "#### 1. In what modes should the PdfFileReader() and PdfFileWriter() File objects will be opened?\n",
    "\n",
    "<b> Answer:</b> For `PdfFileReader()` file objects should be opened in `rb` -> read binary mode. Whereas for `PdfFileWriter()` file objects should be opened in `wb` -> write binary mode. To do these operations, I have to first install PyPDF2."
   ]
  },
  {
   "cell_type": "markdown",
   "id": "bb7e641d",
   "metadata": {},
   "source": [
    "#### 2. From a PdfFileReader object, how do you get a Page object for page 5?\n",
    "\n",
    "<b>Answer:</b> PdfFileReader class provides a method called getPage(page_no) to get a page object. What we can see below is that the PdfFileReader class has now been replaced by PdfReader class. I can use this method to read a particular page of a pdf file and print its contents."
   ]
  },
  {
   "cell_type": "code",
   "execution_count": 1,
   "id": "dd88c0ee",
   "metadata": {},
   "outputs": [
    {
     "name": "stdout",
     "output_type": "stream",
     "text": [
      "6\n",
      "Lorem Ipsum  is simply dummy text of the printing and typesetting industry. Lorem Ipsum has been \n",
      "the industry's standard dummy text ever since the 1500s, when an unknown printer took a galley of \n",
      "type and scrambled it to make a type specimen book. It has survived not only five centuries, but also \n",
      "the leap into electronic typesetting, remaining essentially unchanged. It was popularised in the \n",
      "1960s with the release of Letraset sheets containing Lorem Ipsum passages, and more recently with \n",
      "desktop publishing  software like Aldus PageMaker including versions of Lorem Ipsum.  \n",
      " \n",
      "Lorem Ipsum  is simply dummy text of the printing and typesetting industry. Lorem Ipsum has been \n",
      "the industry's standard dummy text ever since the 1500s, when an unknown printer took a galle y of \n",
      "type and scrambled it to make a type specimen book. It has survived not only five centuries, but also \n",
      "the leap into electronic typesetting, remaining essentially unchanged. It was popularised in the \n",
      "1960s with the release of Letraset sheets containing  Lorem Ipsum passages, and more recently with \n",
      "desktop publishing software like Aldus PageMaker including versions of Lorem Ipsum.  \n",
      " \n",
      "Lorem Ipsum  is simply dummy text of the printing and typesetting industry. Lorem Ipsum has been \n",
      "the industry's standard dummy  text ever since the 1500s, when an unknown printer took a galley of \n",
      "type and scrambled it to make a type specimen book. It has survived not only five centuries, but also \n",
      "the leap into electronic typesetting, remaining essentially unchanged. It was popular ised in the \n",
      "1960s with the release of Letraset sheets containing Lorem Ipsum passages, and more recently with \n",
      "desktop publishing software like Aldus PageMaker including versions of Lorem Ipsum.  \n",
      " \n",
      "Lorem Ipsum  is simply dummy text of the printing and typesett ing industry. Lorem Ipsum has been \n",
      "the industry's standard dummy text ever since the 1500s, when an unknown printer took a galley of \n",
      "type and scrambled it to make a type specimen book. It has survived not only five centuries, but also \n",
      "the leap into electro nic typesetting, remaining essentially unchanged. It was popularised in the \n",
      "1960s with the release of Letraset sheets containing Lorem Ipsum passages, and more recently with \n",
      "desktop publishing software like Aldus PageMaker including versions of Lorem Ipsum . \n",
      " \n",
      "Lorem Ipsum  is simply dummy text of the printing and typesetting industry. Lorem Ipsum has been \n",
      "the industry's standard dummy text ever since the 1500s, when an unknown printer took a galley of \n",
      "type and scrambled it to make a type specimen book. It has survived not only five centuries, but also \n",
      "the leap into electronic typesetting, remaining essentially unchanged. It was popularised in the \n",
      "1960s with the release of Letraset sheets containing Lorem Ipsum passages, and more recently with \n",
      "desktop publishing  software like Aldus PageMaker including versions of Lorem Ipsum.  \n",
      " \n",
      "Lorem Ipsum  is simply dummy text of the printing and typesetting industry. Lorem Ipsum has been \n",
      "the industry's standard dummy text ever since the 1500s, when an unknown printer took a galle y of \n",
      "type and scrambled it to make a type specimen book. It has survived not only five centuries, but also \n",
      "the leap into electronic typesetting, remaining essentially unchanged. It was popularised in the \n",
      "1960s with the release of Letraset sheets containing  Lorem Ipsum passages, and more recently with \n",
      "desktop publishing software like Aldus PageMaker including versions of Lorem Ipsum.  \n",
      " \n"
     ]
    }
   ],
   "source": [
    "# importing required modules\n",
    "from PyPDF2 import PdfReader\n",
    " \n",
    "# creating a pdf reader object\n",
    "reader = PdfReader('example.pdf')\n",
    " \n",
    "# printing number of pages in pdf file\n",
    "print(len(reader.pages))\n",
    " \n",
    "# getting a specific page from the pdf file\n",
    "page = reader.pages[5]\n",
    " \n",
    "# extracting text from page\n",
    "text = page.extract_text()\n",
    "print(text)"
   ]
  },
  {
   "cell_type": "markdown",
   "id": "f51139db",
   "metadata": {},
   "source": [
    "#### 3. What PdfFileReader variable stores the number of pages in the PDF document?¶\n",
    "\n",
    "#### Answer:\n",
    "getNumPages() method of PdfFileReader class stores the number of pages in a PDF document. Now this method has been replaced by len(pdfReader.pages)."
   ]
  },
  {
   "cell_type": "code",
   "execution_count": 41,
   "id": "6b0da930",
   "metadata": {},
   "outputs": [
    {
     "name": "stdout",
     "output_type": "stream",
     "text": [
      "Total Pages: 6\n"
     ]
    }
   ],
   "source": [
    "import PyPDF2\n",
    "  \n",
    "# opened file as reading (r) in binary (b) mode\n",
    "file = open('example.pdf','rb')\n",
    "  \n",
    "# store data in pdfReader\n",
    "pdfReader = PyPDF2.PdfReader(file)\n",
    "  \n",
    "# count number of pages\n",
    "totalPages = len(pdfReader.pages)\n",
    "  \n",
    "# print number of pages\n",
    "print(f\"Total Pages: {totalPages}\")"
   ]
  },
  {
   "cell_type": "markdown",
   "id": "89388c39",
   "metadata": {},
   "source": [
    "#### 4. If a PdfFileReader object’s PDF is encrypted with the password swordfish, what must you do before you can obtain Page objects from it?\n",
    "\n",
    "#### Answer:\n",
    "The class PdfFileReader has now been replaced with a new class PdfReader. This change was implemented end of Dec 2022. If a PdfReader object’s PDF is encrypted with the password swordfish and you're not aware of it, first read the Pdf using the PdfReader Class. \n",
    "\n",
    "In the following example, I have first created a pdf file with a password 'swordfish'. For doing this, I first copied an existing file `file.pdf` to a new file: `my_encrypted_file.pdf` and have encrypted this new file with password 'swordfish'. To decrypt a file, use decrypt() method provided by PdfReader class first and then try to read the contents/pages of the pdf.\n"
   ]
  },
  {
   "cell_type": "code",
   "execution_count": 21,
   "id": "c80c0937",
   "metadata": {},
   "outputs": [
    {
     "name": "stdout",
     "output_type": "stream",
     "text": [
      "Total number of pages:  6\n",
      "File has been encrypted successfully!\n"
     ]
    }
   ],
   "source": [
    "# program to encrypt a pdf file with a password 'swordfish'\n",
    "\n",
    "# first we import classes PdfWrite and PdfReader from PyPDF2\n",
    "import PyPDF2 \n",
    "from PyPDF2 import PdfWriter, PdfReader\n",
    "\n",
    "# create a PdfWriter object\n",
    "out=PdfWriter()\n",
    "\n",
    "# open PDF file with PdfReader \n",
    "file=PdfReader('my file.pdf')\n",
    "\n",
    "# get number of pages in the original file\n",
    "totalPages = len(file.pages)\n",
    "print(\"Total number of pages: \",totalPages)\n",
    "# iterate through all the pages and add it to our new file\n",
    "for i in range(totalPages):\n",
    "    # get the page at index i\n",
    "    page=file.pages[i]\n",
    "    \n",
    "    # now add it to the output file\n",
    "    out.add_page(page)\n",
    "    \n",
    "# create a variable password and store our password in it\n",
    "password='swordfish'\n",
    "\n",
    "# encrypt the new file with the entered password\n",
    "out.encrypt(password)\n",
    "# open a new file \"my_encrypted_file.pdf\"\n",
    "with open('my_encrypted_file.pdf','wb') as f:\n",
    "    #write your encrypted file to this file\n",
    "    out.write(f)\n",
    "print(\"File has been encrypted successfully!\")\n"
   ]
  },
  {
   "cell_type": "code",
   "execution_count": 10,
   "id": "4425464b",
   "metadata": {},
   "outputs": [
    {
     "name": "stdout",
     "output_type": "stream",
     "text": [
      "File decrypted Successfully.\n",
      "Total number of pages:  6\n"
     ]
    }
   ],
   "source": [
    "# import PdfFileWriter and PdfFileReader\n",
    "# class from PyPDF2 library\n",
    "from PyPDF2 import PdfWriter, PdfReader\n",
    "\n",
    "# Create a PdfFileWriter object\n",
    "out = PdfWriter()\n",
    "\n",
    "# Open encrypted PDF file with the PdfFileReader\n",
    "file = PdfReader(\"my_encrypted_file.pdf\")\n",
    "\n",
    "# Store correct password in a variable password.\n",
    "password = \"swordfish\"\n",
    "totalPages = len(out.pages)\n",
    "# Check if the opened file is actually Encrypted\n",
    "if file.is_encrypted:\n",
    "\n",
    "    # If encrypted, decrypt it with the password\n",
    "    file.decrypt(password)\n",
    "\n",
    "    # Now, the file has been unlocked.\n",
    "    # Iterate through every page of the file\n",
    "    # and add it to our new file.\n",
    "    for i in range(totalPages):\n",
    "        \n",
    "        # Get the page at index idx\n",
    "        page = file.pages[i]\n",
    "        \n",
    "        # Add it to the output file\n",
    "        out.add_page(page)\n",
    "\n",
    "    # Open a new file \"myfile_decrypted.pdf\"\n",
    "    with open(\"myfile_decrypted.pdf\", \"wb\") as f:\n",
    "        \n",
    "        # Write our decrypted PDF to this file\n",
    "        out.write(f)\n",
    "\n",
    "    # Print success message when Done\n",
    "    print(\"File decrypted Successfully.\")\n",
    "else:\n",
    "    \n",
    "    # If file is not encrypted, print the\n",
    "    # message\n",
    "    print(\"File already decrypted.\")\n",
    "miles=PdfReader('myfile_decrypted.pdf','rb')\n",
    "tot_Pages = len(file.pages)\n",
    "print(\"Total number of pages: \",tot_Pages)\n"
   ]
  },
  {
   "cell_type": "markdown",
   "id": "661465dc",
   "metadata": {},
   "source": [
    "#### 5. What methods do you use to rotate a page?\n",
    "\n",
    "Ans: PyPDF2 Package provides 2 methods to rotate a page:\n",
    "\n",
    "rotateClockWise() -> For Clockwise rotation\n",
    "\n",
    "rotateCounterClockWise() -> For Counter Clockwise rotation\n",
    "\n",
    "The PyPDF2 package only allows you to rotate a page in increments of 90 degrees. You will receive an AssertionError otherwise."
   ]
  },
  {
   "cell_type": "code",
   "execution_count": 35,
   "id": "dafc5123",
   "metadata": {},
   "outputs": [
    {
     "name": "stdout",
     "output_type": "stream",
     "text": [
      "Lorem Ipsum  is simply dummy text of the printing and typesetting industry. Lorem Ipsum has been \n",
      "the industry's standard dummy text ever since the 1500s, when an unknown printer took a galley of \n",
      "type and scrambled it to make a type specimen book. It has survived not only five centuries, but also \n",
      "the leap into electronic typesetting, remaining essentially unchanged. It was popularised in the \n",
      "1960s with the release of Letraset sheets containing Lorem Ipsum passages, and more recently with \n",
      "desktop publishing  software like Aldus PageMaker including versions of Lorem Ipsum.  \n",
      " \n",
      "Lorem Ipsum  is simply dummy text of the printing and typesetting industry. Lorem Ipsum has been \n",
      "the industry's standard dummy text ever since the 1500s, when an unknown printer took a galle y of \n",
      "type and scrambled it to make a type specimen book. It has survived not only five centuries, but also \n",
      "the leap into electronic typesetting, remaining essentially unchanged. It was popularised in the \n",
      "1960s with the release of Letraset sheets containing  Lorem Ipsum passages, and more recently with \n",
      "desktop publishing software like Aldus PageMaker including versions of Lorem Ipsum.  \n",
      " \n",
      "Lorem Ipsum  is simply dummy text of the printing and typesetting industry. Lorem Ipsum has been \n",
      "the industry's standard dummy  text ever since the 1500s, when an unknown printer took a galley of \n",
      "type and scrambled it to make a type specimen book. It has survived not only five centuries, but also \n",
      "the leap into electronic typesetting, remaining essentially unchanged. It was popular ised in the \n",
      "1960s with the release of Letraset sheets containing Lorem Ipsum passages, and more recently with \n",
      "desktop publishing software like Aldus PageMaker including versions of Lorem Ipsum.  \n",
      " \n",
      "Lorem Ipsum  is simply dummy text of the printing and typesett ing industry. Lorem Ipsum has been \n",
      "the industry's standard dummy text ever since the 1500s, when an unknown printer took a galley of \n",
      "type and scrambled it to make a type specimen book. It has survived not only five centuries, but also \n",
      "the leap into electro nic typesetting, remaining essentially unchanged. It was popularised in the \n",
      "1960s with the release of Letraset sheets containing Lorem Ipsum passages, and more recently with \n",
      "desktop publishing software like Aldus PageMaker including versions of Lorem Ipsum . \n",
      " \n",
      "Lorem Ipsum  is simply dummy text of the printing and typesetting industry. Lorem Ipsum has been \n",
      "the industry's standard dummy text ever since the 1500s, when an unknown printer took a galley of \n",
      "type and scrambled it to make a type specimen book. It has survived not only five centuries, but also \n",
      "the leap into electronic typesetting, remaining essentially unchanged. It was popularised in the \n",
      "1960s with the release of Letraset sheets containing Lorem Ipsum passages, and more recently with \n",
      "desktop publishing  software like Aldus PageMaker including versions of Lorem Ipsum.  \n",
      " \n",
      "Lorem Ipsum  is simply dummy text of the printing and typesetting industry. Lorem Ipsum has been \n",
      "the industry's standard dummy text ever since the 1500s, when an unknown printer took a galle y of \n",
      "type and scrambled it to make a type specimen book. It has survived not only five centuries, but also \n",
      "the leap into electronic typesetting, remaining essentially unchanged. It was popularised in the \n",
      "1960s with the release of Letraset sheets containing  Lorem Ipsum passages, and more recently with \n",
      "desktop publishing software like Aldus PageMaker including versions of Lorem Ipsum.  \n",
      " \n"
     ]
    }
   ],
   "source": [
    "import PyPDF2\n",
    "minutesFile = open('my file.pdf', 'rb')\n",
    "pdfReader = PyPDF2.PdfReader(minutesFile)\n",
    "page = pdfReader.pages[0]\n",
    "page.rotate(90)\n",
    "# {'/Contents': [IndirectObject(961, 0), IndirectObject(962, 0)]\n",
    "   \n",
    "#    }\n",
    "pdfWriter = PyPDF2.PdfWriter()   \n",
    "pdfWriter.add_page(page)  \n",
    "resultPdfFile = open('rotatedPage.pdf', 'wb')\n",
    "pdfWriter.write(resultPdfFile)\n",
    "resultPdfFile.close()\n",
    "minutesFile.close()\n",
    "reader = PdfReader('rotatedPage.pdf')\n",
    "page = reader.pages[0]\n",
    " \n",
    "# extracting text from page\n",
    "text = page.extract_text()\n",
    "print(text)"
   ]
  },
  {
   "cell_type": "markdown",
   "id": "15977611",
   "metadata": {},
   "source": [
    "#### 6. What is the difference between a Run object and a Paragraph object?\n",
    "\n",
    "<b>Answer:</b> Compared to plaintext, .docx files have a lot of structure. This structure is represented by three different data types in Python-Docx. At the highest level, a `Document object` represents the entire document. The Document object contains a list of `Paragraph objects` for the paragraphs in the document. (A new paragraph begins whenever the user presses ENTER or RETURN while typing in a Word document.) Each of these Paragraph objects contains a list of one or more `Run objects`. A Run object is a contiguous run of text with the same style. A new Run object is needed whenever the text style changes."
   ]
  },
  {
   "cell_type": "markdown",
   "id": "f869c7e5",
   "metadata": {},
   "source": [
    "#### 7. How do you obtain a list of Paragraph objects for a Document object that’s stored in a variable named doc?\n",
    "\n",
    "<b>Answer:</b> Please refer code below:"
   ]
  },
  {
   "cell_type": "code",
   "execution_count": 32,
   "id": "70a9782d",
   "metadata": {},
   "outputs": [
    {
     "name": "stdout",
     "output_type": "stream",
     "text": [
      "Number of paragraphs:  16\n",
      "Document Title\n",
      "The full stack data scientist course by Ineuron.\n",
      "The course starts with the basics of python and goes on to build competency in a step by step manner.\n",
      "Python is one of the most widely used language to build wide range of applications. It has excellent features.\n",
      "The course content has been so designed that anyone from a non-tech background can go step by step and become a data scientist.\n",
      "Python.org has extensive resources on documentation of python features. \n",
      "Course Contents\n",
      "Python\n",
      "Stats\n",
      "Assignments\n",
      "Assignment 1\n",
      "Assignment 2\n",
      "Projects\n",
      "Project 1\n",
      "Project 2\n",
      "\n"
     ]
    }
   ],
   "source": [
    "# Code to obtain a list of paragraph objects stored in a variable named doc\n",
    "import docx\n",
    "from docx import Document\n",
    "\n",
    "doc=Document('sample document.docx')\n",
    "\n",
    "list_para=len(doc.paragraphs)\n",
    "print(\"Number of paragraphs: \",list_para)\n",
    "for p in doc.paragraphs:\n",
    "    print(p.text)"
   ]
  },
  {
   "cell_type": "markdown",
   "id": "65f19b39",
   "metadata": {},
   "source": [
    "### 8. What type of object has bold, underline, italic, strike, and outline variables?\n",
    "\n",
    "<b>Answer:</b> Runs can be styled using text attributes. Each attribute can be set to one of three values: True (the attribute is always enabled, no matter what other styles are applied to the run), False (the attribute is always disabled), or None (defaults to whatever the run’s style is set to).\n",
    "\n",
    "Run object has bold, underline, italic, strike, and outline variables. The text in a Word document is more than just a string. It has font, size, color, and other styling information associated with it.\n",
    "\n",
    "A style in Word is a collection of these attributes. A Run object is a contiguous run of text with the same style. A new Run object is needed whenever the text style changes.Following example shows how I can change the styles of my document 'sample document.docx':"
   ]
  },
  {
   "cell_type": "code",
   "execution_count": 28,
   "id": "bd955e05",
   "metadata": {},
   "outputs": [
    {
     "name": "stdout",
     "output_type": "stream",
     "text": [
      "Document Title\n",
      "_ParagraphStyle('Title') id: 2952324541216\n",
      "The  full stack  data scientist  course by \n"
     ]
    }
   ],
   "source": [
    "doc = docx.Document('sample document.docx')\n",
    "print(doc.paragraphs[0].text)\n",
    "print(doc.paragraphs[0].style)\n",
    "doc.paragraphs[0].style = 'Normal'\n",
    "doc.paragraphs[1].text\n",
    "print(doc.paragraphs[1].runs[0].text, doc.paragraphs[1].runs[1].text, doc.paragraphs[1].runs[2].text, doc.paragraphs[1].runs[3].text)\n",
    "doc.paragraphs[1].runs[1].underline =True\n",
    "doc.paragraphs[1].runs[3].underline = True\n",
    "doc.save('restyled.docx')"
   ]
  },
  {
   "cell_type": "markdown",
   "id": "e7809337",
   "metadata": {},
   "source": [
    "#### 9. What is the difference between False, True, and None for the bold variable?¶\n",
    "\n",
    "<b>Answer</b>:"
   ]
  },
  {
   "cell_type": "code",
   "execution_count": 29,
   "id": "9760bf8f",
   "metadata": {},
   "outputs": [],
   "source": [
    "bold = True  # Style Set to Bold\n",
    "bold = False # Style Not Set to Bold\n",
    "bold = None # Style is Not Applicable"
   ]
  },
  {
   "cell_type": "markdown",
   "id": "1792ec90",
   "metadata": {},
   "source": [
    "#### 10. How do you create a Document object for a new Word document?\n",
    "\n",
    "<b> Answer:</b> Please refer code below:"
   ]
  },
  {
   "cell_type": "code",
   "execution_count": 35,
   "id": "1727b9e5",
   "metadata": {},
   "outputs": [],
   "source": [
    "# code for creating a Document object for a new word document\n",
    "import docx\n",
    "from docx import Document \n",
    "doc=Document()\n",
    "doc.add_paragraph(\"Code for creating a Document object for a new word document.\")\n",
    "doc.save('new_doc.docx')"
   ]
  },
  {
   "cell_type": "markdown",
   "id": "4d6d90c0",
   "metadata": {},
   "source": [
    "#### 11. How do you add a paragraph with the text 'Hello, there!' to a Document object stored in a variable named doc?\n",
    "\n",
    "<b> Answer </b>: Please refer code below:"
   ]
  },
  {
   "cell_type": "code",
   "execution_count": 36,
   "id": "0244f3c2",
   "metadata": {},
   "outputs": [],
   "source": [
    "# code to add a paragraph with the text \"Hello, there!\"\" to a document object stored in a variable named doc.\n",
    "import docx\n",
    "from docx import Document \n",
    "doc=Document()\n",
    "doc.add_paragraph(\"Hello, there!\")\n",
    "doc.save('Hello.docx')"
   ]
  },
  {
   "cell_type": "markdown",
   "id": "12524e5d",
   "metadata": {},
   "source": [
    "#### 12. What integers represent the levels of headings available in Word documents?\n",
    "\n",
    "<b>Answer:</b> \n",
    "The arguments to add_heading() are a string of the heading text and an integer from 0 to 4. The integer 0 makes the heading the Title style, which is used for the top of the document. Integers 1 to 4 are for various heading levels, with 1 being the main heading and 4 the lowest subheading. The add_heading() function returns a Paragraph object to save you the step of extracting it from the Document object as a separate step.\n",
    "\n",
    "Please refer code below:"
   ]
  },
  {
   "cell_type": "code",
   "execution_count": 37,
   "id": "837bb256",
   "metadata": {},
   "outputs": [],
   "source": [
    "# Code to show levels of heading available in word document\n",
    "import docx\n",
    "from docx import Document \n",
    "doc=Document()\n",
    "doc.add_heading('Header 0', 0)\n",
    "doc.add_heading('Header 1', 1)\n",
    "doc.add_heading('Header 2', 2)\n",
    "doc.add_heading('Header 3', 3)\n",
    "doc.add_heading('Header 4', 4)\n",
    "doc.save('headings.docx')\n"
   ]
  },
  {
   "cell_type": "code",
   "execution_count": null,
   "id": "e961f224",
   "metadata": {},
   "outputs": [],
   "source": []
  }
 ],
 "metadata": {
  "kernelspec": {
   "display_name": "Python 3 (ipykernel)",
   "language": "python",
   "name": "python3"
  },
  "language_info": {
   "codemirror_mode": {
    "name": "ipython",
    "version": 3
   },
   "file_extension": ".py",
   "mimetype": "text/x-python",
   "name": "python",
   "nbconvert_exporter": "python",
   "pygments_lexer": "ipython3",
   "version": "3.9.13"
  }
 },
 "nbformat": 4,
 "nbformat_minor": 5
}
