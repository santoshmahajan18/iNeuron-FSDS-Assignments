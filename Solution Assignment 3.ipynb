{
 "cells": [
  {
   "cell_type": "markdown",
   "id": "b57731a7",
   "metadata": {},
   "source": [
    "# Basic Python Assignment 3 solution."
   ]
  },
  {
   "cell_type": "markdown",
   "id": "8d78017c",
   "metadata": {},
   "source": [
    "<b> 1. Why are functions advantageous to have in your programs? </b>\n",
    "\n",
    "<b> Answer: </b> Python and other programming languages offer this flexibility to use a set or block of code repeatedly as per requirement. Functions is this set or block of self-contained code which can be called upon as and when required. For example in python, the `print()` command is a function which is called up whenever we want to print something in a console. By use of Functions, our code becomes easier to handle. It allows me to break down the main task into several sub tasks (where each task can be executed by use of a function). This way, I can minimize the probability of errors in my program and focus on the main goal of the program. If I come across a problem during execution of the program, I can visit the relevant function and debug the code."
   ]
  },
  {
   "cell_type": "markdown",
   "id": "91d8b630",
   "metadata": {},
   "source": [
    "<b> 2. When does the code in a function run: when it's specified or when it's called?</b>\n",
    "\n",
    "<b> Answer: </b> When I write a function, I am specifying the role or the operation that the function has to perform. The function will perform the required task or will run only when I call it as per the requirement of my code."
   ]
  },
  {
   "cell_type": "markdown",
   "id": "45f0c169",
   "metadata": {},
   "source": [
    "<b> 3. What statement creates a function? </b>\n",
    "    \n",
    "<b>Answer </b> The syntax or lines of code which create a function are:\n",
    "\n",
    "`def function_name(parameters):`\n",
    "\n",
    " `\"\"\"Doc string\"\"\"`\n",
    " \n",
    " `    -----body of function-----`\n",
    "     \n",
    " `    return value`"
   ]
  },
  {
   "cell_type": "markdown",
   "id": "9f02c1a1",
   "metadata": {},
   "source": [
    "<b> 4. What is the difference between a function and a function call?</b>\n",
    "\n",
    "<b> Answer: </b> A function is a block or lines of codes used to achieve a certain desired output. Wheneve we want to use a function, we have to call that function.This is called a a function call."
   ]
  },
  {
   "cell_type": "markdown",
   "id": "f736fa82",
   "metadata": {},
   "source": [
    "<b> 5. How many global scopes are there in a Python program? How many local scopes? </b>\n",
    "\n",
    "<b> Answer: </b> There is always one Global Scope in a python program. A local scope is created whenever we call a function."
   ]
  },
  {
   "cell_type": "markdown",
   "id": "d13dad90",
   "metadata": {},
   "source": [
    "<b> 6. What happens to variables in a local scope when the function call returns? </b>\n",
    "    \n",
    "<b> Answer: </b> Whenever a function call returns, the local scope gets destroyed. The variables in it gets destroyed as well."
   ]
  },
  {
   "cell_type": "markdown",
   "id": "cd206c51",
   "metadata": {},
   "source": [
    "<b>7. What is the concept of a return value? Is it possible to have a return value in an expression? </b>\n",
    "\n",
    "<b> Answer: </b> A function when called upon is supposed to return a value. For example a function can calculate an area of triangle whose base and height are given as parameters of that function.A return statement causes the execution to leave the current sub program and return to the main code. The return value or statement can never contain an  expression. However a return value can be part of an expression. Please refer example below:\n"
   ]
  },
  {
   "cell_type": "code",
   "execution_count": 2,
   "id": "12a3842a",
   "metadata": {},
   "outputs": [],
   "source": [
    "def big_5(n): \n",
    "    return n>5"
   ]
  },
  {
   "cell_type": "code",
   "execution_count": 3,
   "id": "ef517b86",
   "metadata": {},
   "outputs": [
    {
     "data": {
      "text/plain": [
       "True"
      ]
     },
     "execution_count": 3,
     "metadata": {},
     "output_type": "execute_result"
    }
   ],
   "source": [
    "big_5(7)"
   ]
  },
  {
   "cell_type": "code",
   "execution_count": 4,
   "id": "8ee4078f",
   "metadata": {},
   "outputs": [
    {
     "data": {
      "text/plain": [
       "False"
      ]
     },
     "execution_count": 4,
     "metadata": {},
     "output_type": "execute_result"
    }
   ],
   "source": [
    "big_5(2)"
   ]
  },
  {
   "cell_type": "markdown",
   "id": "e9a0d692",
   "metadata": {},
   "source": [
    "<b>8. If a function does not have a return statement, what is the return value of a call to that function?</b>\n",
    "\n",
    "<b>Answer:</b> If there is no return statement for a function, its return value is `None`."
   ]
  },
  {
   "cell_type": "markdown",
   "id": "a68d9f78",
   "metadata": {},
   "source": [
    "<b> 9. How do you make a function variable refer to the global variable?</b>\n",
    "\n",
    "<b>Answer:</b> A global statement refers to a variable in a function as a global variable. The other way is to declare the variable as global by using the `global` keyword. The other variable type is local variable. The local variable can be used only in that particular function whereas the global variable can be used anywhere in the whole program."
   ]
  },
  {
   "cell_type": "markdown",
   "id": "72c4d315",
   "metadata": {},
   "source": [
    "<b>10. What is the data type of None?</b>\n",
    "\n",
    "<b>Answer: </b> The data type of None is `NoneType`."
   ]
  },
  {
   "cell_type": "markdown",
   "id": "aea32b82",
   "metadata": {},
   "source": [
    "<b>11. What does the sentence import areallyourpetsnamederic do?</b>\n",
    "\n",
    "<b>Answer: </b> That import statement imports a module named areallyourpetsnamederic."
   ]
  },
  {
   "cell_type": "markdown",
   "id": "6d98a0ca",
   "metadata": {},
   "source": [
    "<b>12. If you had a bacon() feature in a spam module, what would you call it after importing spam?</b>\n",
    "    \n",
    "<b>Answer:</b> If I have to call this function bacon(), I will first import spam module and then use `spam.bacon()` to call this function."
   ]
  },
  {
   "cell_type": "markdown",
   "id": "c3baba11",
   "metadata": {},
   "source": [
    "<b>13. What can you do to save a programme from crashing if it encounters an error?</b>\n",
    "    \n",
    "<b>Answer:</b> I will place this code in `try` and `except` block. By doing this, I will prevent the program from crashing and the system will return the type of error that has occured instead of crashing the program."
   ]
  },
  {
   "cell_type": "markdown",
   "id": "2e16e776",
   "metadata": {},
   "source": [
    "<b>14. What is the purpose of the try clause? What is the purpose of the except clause?</b>\n",
    "    \n",
    "<b>Answer:</b> The code which can cause an error is written in a `try` clause. To handle the error, an `except` clause is used. In other words, the code which can cause an error is written in a `try` clause and the code to handle that error is typed in the `except` clause."
   ]
  },
  {
   "cell_type": "code",
   "execution_count": null,
   "id": "8f28484c",
   "metadata": {},
   "outputs": [],
   "source": []
  }
 ],
 "metadata": {
  "kernelspec": {
   "display_name": "Python 3 (ipykernel)",
   "language": "python",
   "name": "python3"
  },
  "language_info": {
   "codemirror_mode": {
    "name": "ipython",
    "version": 3
   },
   "file_extension": ".py",
   "mimetype": "text/x-python",
   "name": "python",
   "nbconvert_exporter": "python",
   "pygments_lexer": "ipython3",
   "version": "3.9.13"
  }
 },
 "nbformat": 4,
 "nbformat_minor": 5
}
