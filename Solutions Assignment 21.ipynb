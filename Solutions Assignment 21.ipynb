{
 "cells": [
  {
   "cell_type": "markdown",
   "id": "d0d2c3aa",
   "metadata": {},
   "source": [
    "# Solutions Assignment 21"
   ]
  },
  {
   "cell_type": "markdown",
   "id": "6c38d5b1",
   "metadata": {},
   "source": [
    "#### 1. Add the current date to the text file today.txt as a string."
   ]
  },
  {
   "cell_type": "code",
   "execution_count": 3,
   "id": "1531e7ce",
   "metadata": {},
   "outputs": [
    {
     "name": "stdout",
     "output_type": "stream",
     "text": [
      "15-02-2023\n"
     ]
    }
   ],
   "source": [
    "# Python script to add the current date to today.txt\n",
    "# importing datetime module\n",
    "import datetime\n",
    "file = open('today.txt','w')\n",
    "file.write(datetime.datetime.now().strftime(\"%d-%m-%Y\"))\n",
    "file.close()\n",
    "\n",
    "# now reading the current date from today.txt\n",
    "file=open('today.txt','r')\n",
    "print(file.read())\n",
    "file.close()"
   ]
  },
  {
   "cell_type": "markdown",
   "id": "b3eba5da",
   "metadata": {},
   "source": [
    "#### 2. Read the text file today.txt into the string today_string"
   ]
  },
  {
   "cell_type": "code",
   "execution_count": 4,
   "id": "fece60a5",
   "metadata": {},
   "outputs": [
    {
     "name": "stdout",
     "output_type": "stream",
     "text": [
      "15-02-2023\n"
     ]
    }
   ],
   "source": [
    "# code to copy today.txt into a string and reading the string\n",
    "file=open('today.txt','r')\n",
    "today_string=file.read()\n",
    "print(today_string)"
   ]
  },
  {
   "cell_type": "markdown",
   "id": "81f03412",
   "metadata": {},
   "source": [
    "#### 3. Parse the date from today_string."
   ]
  },
  {
   "cell_type": "code",
   "execution_count": 5,
   "id": "59b333df",
   "metadata": {},
   "outputs": [
    {
     "name": "stdout",
     "output_type": "stream",
     "text": [
      "2023-02-15 00:00:00\n"
     ]
    }
   ],
   "source": [
    "# code to parse the date\n",
    "from datetime import datetime\n",
    "parsed_data = datetime.strptime(today_string, '%d-%m-%Y')\n",
    "print(parsed_data)"
   ]
  },
  {
   "cell_type": "markdown",
   "id": "2f19301d",
   "metadata": {},
   "source": [
    "#### 4. List the files in your current directory"
   ]
  },
  {
   "cell_type": "code",
   "execution_count": 1,
   "id": "a1908f3a",
   "metadata": {},
   "outputs": [
    {
     "name": "stdout",
     "output_type": "stream",
     "text": [
      "1TEST.txt\n",
      "2TEST.txt\n",
      "3TEST.txt\n",
      "4TEST.txt\n",
      "Automate the Boring Stuff with Python.pdf\n",
      "books.csv\n",
      "books.db\n",
      "data.txt\n",
      "example.pdf\n",
      "file1.csv\n",
      "headings.docx\n",
      "Hello.docx\n",
      "moon.jpg\n",
      "my file.pdf\n",
      "mydata.bak\n",
      "mydata.dat\n",
      "mydata.dir\n",
      "myexample.csv\n",
      "myfile_decrypted.pdf\n",
      "my_encrypted_file.pdf\n",
      "my_encryted_file.pdf\n",
      "my_python_files.zip\n",
      "new_doc.docx\n",
      "output.csv\n",
      "photo.jpg\n",
      "pic.jpg\n",
      "programLog.txt\n",
      "restyled.docx\n",
      "rotatedPage.pdf\n",
      "sample document.docx\n",
      "school_records.csv\n",
      "Solution Assignment 01.ipynb\n",
      "Solution Assignment 2.ipynb\n",
      "Solution Assignment 3.ipynb\n",
      "Solution Assignment 4.ipynb\n",
      "Solution Assignment 5.ipynb\n",
      "Solutions Assignment 10.ipynb\n",
      "Solutions Assignment 11.ipynb\n",
      "Solutions Assignment 12.ipynb\n",
      "Solutions Assignment 13.ipynb\n",
      "Solutions Assignment 14.ipynb\n",
      "Solutions Assignment 15.ipynb\n",
      "Solutions Assignment 16.ipynb\n",
      "Solutions assignment 17.ipynb\n",
      "Solutions Assignment 18.ipynb\n",
      "Solutions Assignment 19.ipynb\n",
      "Solutions Assignment 20.ipynb\n",
      "Solutions Assignment 21.ipynb\n",
      "Solutions Assignment 6.ipynb\n",
      "Solutions Assignment 7.ipynb\n",
      "Solutions Assignment 8.ipynb\n",
      "Solutions Assignment 9.ipynb\n",
      "test.txt\n",
      "testlog.txt\n",
      "today.txt\n",
      "Untitled.ipynb\n",
      "zoo.py\n",
      "Solution Assignment 2-checkpoint.ipynb\n",
      "Solution Assignment 3-checkpoint.ipynb\n",
      "Solution Assignment 4-checkpoint.ipynb\n",
      "Solution Assignment 5-checkpoint.ipynb\n",
      "Solutions Assignment 10-checkpoint.ipynb\n",
      "Solutions Assignment 11-checkpoint.ipynb\n",
      "Solutions Assignment 12-checkpoint.ipynb\n",
      "Solutions Assignment 13-checkpoint.ipynb\n",
      "Solutions Assignment 14-checkpoint.ipynb\n",
      "Solutions Assignment 15-checkpoint.ipynb\n",
      "Solutions Assignment 16-checkpoint.ipynb\n",
      "Solutions assignment 17-checkpoint.ipynb\n",
      "Solutions Assignment 18-checkpoint.ipynb\n",
      "Solutions Assignment 19-checkpoint.ipynb\n",
      "Solutions Assignment 20-checkpoint.ipynb\n",
      "Solutions Assignment 21-checkpoint.ipynb\n",
      "Solutions Assignment 6-checkpoint.ipynb\n",
      "Solutions Assignment 7-checkpoint.ipynb\n",
      "Solutions Assignment 8-checkpoint.ipynb\n",
      "Solutions Assignment 9-checkpoint.ipynb\n",
      "Untitled-checkpoint.ipynb\n",
      "hotel booking.pdf\n",
      "santosh photo.jpg\n",
      "hotel booking.pdf\n",
      "santosh photo.jpg\n",
      "TEST1.txt\n",
      "python practice.txt\n",
      "zoo.cpython-39.pyc\n"
     ]
    }
   ],
   "source": [
    "# code to list all the files in my current directory\n",
    "import os\n",
    "for folders, subfolders, files in os.walk(os.getcwd()):\n",
    "    for file in files:\n",
    "        print(file)"
   ]
  },
  {
   "cell_type": "markdown",
   "id": "53c45ab1",
   "metadata": {},
   "source": [
    "#### 5. Create a list of all of the files in your parent directory (minimum five files should be available)."
   ]
  },
  {
   "cell_type": "code",
   "execution_count": 2,
   "id": "85d58f0e",
   "metadata": {},
   "outputs": [
    {
     "data": {
      "text/plain": [
       "['.ipynb_checkpoints',\n",
       " '1TEST.txt',\n",
       " '2TEST.txt',\n",
       " '3TEST.txt',\n",
       " '4TEST.txt',\n",
       " 'Automate the Boring Stuff with Python.pdf',\n",
       " 'books.csv',\n",
       " 'books.db',\n",
       " 'data.txt',\n",
       " 'Dummy Destination',\n",
       " 'Dummy Source',\n",
       " 'example.pdf',\n",
       " 'file1.csv',\n",
       " 'headings.docx',\n",
       " 'Hello.docx',\n",
       " 'moon.jpg',\n",
       " 'my file.pdf',\n",
       " 'mydata.bak',\n",
       " 'mydata.dat',\n",
       " 'mydata.dir',\n",
       " 'myexample.csv',\n",
       " 'myfile_decrypted.pdf',\n",
       " 'my_encrypted_file.pdf',\n",
       " 'my_encryted_file.pdf',\n",
       " 'my_python_files.zip',\n",
       " 'new_doc.docx',\n",
       " 'output.csv',\n",
       " 'photo.jpg',\n",
       " 'pic.jpg',\n",
       " 'programLog.txt',\n",
       " 'Python practice',\n",
       " 'restyled.docx',\n",
       " 'rotatedPage.pdf',\n",
       " 'sample document.docx',\n",
       " 'school_records.csv',\n",
       " 'Solution Assignment 01.ipynb',\n",
       " 'Solution Assignment 2.ipynb',\n",
       " 'Solution Assignment 3.ipynb',\n",
       " 'Solution Assignment 4.ipynb',\n",
       " 'Solution Assignment 5.ipynb',\n",
       " 'Solutions Assignment 10.ipynb',\n",
       " 'Solutions Assignment 11.ipynb',\n",
       " 'Solutions Assignment 12.ipynb',\n",
       " 'Solutions Assignment 13.ipynb',\n",
       " 'Solutions Assignment 14.ipynb',\n",
       " 'Solutions Assignment 15.ipynb',\n",
       " 'Solutions Assignment 16.ipynb',\n",
       " 'Solutions assignment 17.ipynb',\n",
       " 'Solutions Assignment 18.ipynb',\n",
       " 'Solutions Assignment 19.ipynb',\n",
       " 'Solutions Assignment 20.ipynb',\n",
       " 'Solutions Assignment 21.ipynb',\n",
       " 'Solutions Assignment 6.ipynb',\n",
       " 'Solutions Assignment 7.ipynb',\n",
       " 'Solutions Assignment 8.ipynb',\n",
       " 'Solutions Assignment 9.ipynb',\n",
       " 'test.txt',\n",
       " 'testlog.txt',\n",
       " 'today.txt',\n",
       " 'Untitled.ipynb',\n",
       " 'zoo.py',\n",
       " '__pycache__']"
      ]
     },
     "execution_count": 2,
     "metadata": {},
     "output_type": "execute_result"
    }
   ],
   "source": [
    "# code to list all the files in my parent directory\n",
    "import os\n",
    "os.listdir()"
   ]
  },
  {
   "cell_type": "markdown",
   "id": "9e714e54",
   "metadata": {},
   "source": [
    "#### 6. Use multiprocessing to create three separate processes. Make each one wait a random number of seconds between one and five, print the current time, and then exit."
   ]
  },
  {
   "cell_type": "code",
   "execution_count": 5,
   "id": "7cbe8e51",
   "metadata": {},
   "outputs": [],
   "source": [
    "# creating a code for using multiprocessing\n",
    "import multiprocessing\n",
    "import time\n",
    "import random\n",
    "import datetime\n",
    "\n",
    "def process_one():\n",
    "    print(\"Process_one_starttime: \",datetime.datetime.now())\n",
    "    time.sleep(random.randint(1,5))\n",
    "    print(\"Process_one_endtime: \",datetime.datetime.now())\n",
    "    \n",
    "def process_two():\n",
    "    print(\"Process_two_starttime: \",datetime.datetime.now())\n",
    "    time.sleep(random.randint(1,5))\n",
    "    print(\"Process_two_endtime: \",datetime.datetime.now())\n",
    "    \n",
    "def process_three():\n",
    "    print(\"Process_three_starttime: \",datetime.datetime.now())\n",
    "    time.sleep(random.randint(1,5))\n",
    "    print(\"Process_three_endtime: \",datetime.datetime.now())\n",
    "    \n",
    "if __name__ ==\"__main__\":\n",
    "    p1=multiprocessing.Process(target=process_one)\n",
    "    p2=multiprocessing.Process(target=process_two)    \n",
    "    p3=multiprocessing.Process(target=process_three)\n",
    "    \n",
    "    p1.start()\n",
    "    p2.start()\n",
    "    p3.start()\n",
    "    \n",
    "    p1.join()\n",
    "    p2.join()\n",
    "    p3.join()"
   ]
  },
  {
   "cell_type": "markdown",
   "id": "9d5ca597",
   "metadata": {},
   "source": [
    "By running above code in pycharm, I got the following result:\n",
    "\n",
    "`C:\\Users\\sma068\\PycharmProjects\\pythonProject\\venv\\Scripts\\python.exe`<br>`C:\\Users\\sma068\\PycharmProjects\\pythonProject\\venv\\ecommerce\\sales.py`<br>`Process_two_starttime:  2023-02-15 17:10:08.629356`<br>`Process_one_starttime:  2023-02-15 17:10:08.631336`<br>`Process_three_starttime:  2023-02-15 17:10:08.639350`<br>`Process_three_endtime:  2023-02-15 17:10:09.640277`<br>`Process_one_endtime:  2023-02-15 17:10:11.632162`<br>`Process_two_endtime:  2023-02-15 17:10:12.630773`\n"
   ]
  },
  {
   "cell_type": "markdown",
   "id": "0c2c6574",
   "metadata": {},
   "source": [
    "#### 7. Create a date object of your day of birth."
   ]
  },
  {
   "cell_type": "code",
   "execution_count": 6,
   "id": "117505e6",
   "metadata": {},
   "outputs": [
    {
     "name": "stdout",
     "output_type": "stream",
     "text": [
      "1974-08-02 00:00:00\n"
     ]
    }
   ],
   "source": [
    "#code for creating a date object of date of birth\n",
    "from datetime import datetime\n",
    "my_date_of_birth=datetime.strptime('02/08/1974','%d/%m/%Y')\n",
    "print(my_date_of_birth)"
   ]
  },
  {
   "cell_type": "markdown",
   "id": "2746172d",
   "metadata": {},
   "source": [
    "#### 8. What day of the week was your day of birth?¶"
   ]
  },
  {
   "cell_type": "code",
   "execution_count": 8,
   "id": "8fe2855f",
   "metadata": {},
   "outputs": [
    {
     "data": {
      "text/plain": [
       "'Friday'"
      ]
     },
     "execution_count": 8,
     "metadata": {},
     "output_type": "execute_result"
    }
   ],
   "source": [
    "# finding date of the week for a particular date\n",
    "from datetime import datetime\n",
    "my_date_of_birth=datetime(1974,8,2)\n",
    "my_date_of_birth.strftime(\"%A\")"
   ]
  },
  {
   "cell_type": "markdown",
   "id": "f206e5ee",
   "metadata": {},
   "source": [
    "#### 9. When will you be (or when were you) 10,000 days old?¶"
   ]
  },
  {
   "cell_type": "code",
   "execution_count": 12,
   "id": "9cf9fc6e",
   "metadata": {},
   "outputs": [
    {
     "data": {
      "text/plain": [
       "datetime.datetime(2001, 12, 18, 0, 0)"
      ]
     },
     "execution_count": 12,
     "metadata": {},
     "output_type": "execute_result"
    }
   ],
   "source": [
    "# code to find a date when i was 10,000 days old\n",
    "from datetime import datetime, timedelta\n",
    "my_date_of_birth=datetime.strptime(\"02/08/1974\",'%d/%m/%Y')\n",
    "fut_date=my_date_of_birth+timedelta(10000)\n",
    "fut_date"
   ]
  }
 ],
 "metadata": {
  "kernelspec": {
   "display_name": "Python 3 (ipykernel)",
   "language": "python",
   "name": "python3"
  },
  "language_info": {
   "codemirror_mode": {
    "name": "ipython",
    "version": 3
   },
   "file_extension": ".py",
   "mimetype": "text/x-python",
   "name": "python",
   "nbconvert_exporter": "python",
   "pygments_lexer": "ipython3",
   "version": "3.9.13"
  }
 },
 "nbformat": 4,
 "nbformat_minor": 5
}
