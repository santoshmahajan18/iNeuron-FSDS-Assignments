{
 "cells": [
  {
   "cell_type": "markdown",
   "id": "a71dd49c",
   "metadata": {},
   "source": [
    "# Solutions Assignment 9"
   ]
  },
  {
   "cell_type": "markdown",
   "id": "40b62cbd",
   "metadata": {},
   "source": [
    "<b>1. To what does a relative path refer?</b>\n",
    "\n",
    "<b>Answer:</b> The relative path is the path to some file with respect to my current working directory (cwd). For example if absolute path to a file called python practice.txt is C:\\Users\\sma068\\OneDrive - Wärtsilä Corporation\\Documents\\FSDS Inueron\\Assignment solutions\\Santosh Solutions\\Python practice. My present working directory is: C:\\\\Users\\\\sma068\\\\OneDrive - Wärtsilä Corporation\\\\Documents\\\\FSDS Inueron\\\\As|signment solutions\\\\Santosh Solutions.\n",
    "\n",
    "pwd + relative path = absolute path\n",
    "\n",
    "In this case, the relative path is \\Python practice\\python practice.txt."
   ]
  },
  {
   "cell_type": "code",
   "execution_count": 2,
   "id": "fdb07d0c",
   "metadata": {},
   "outputs": [
    {
     "data": {
      "text/plain": [
       "'C:\\\\Users\\\\sma068\\\\OneDrive - Wärtsilä Corporation\\\\Documents\\\\FSDS Inueron\\\\Assignment solutions\\\\Santosh Solutions'"
      ]
     },
     "execution_count": 2,
     "metadata": {},
     "output_type": "execute_result"
    }
   ],
   "source": [
    "import os\n",
    "\n",
    "os.getcwd()"
   ]
  },
  {
   "cell_type": "markdown",
   "id": "c4177b86",
   "metadata": {},
   "source": [
    "<b>2.Where does an absolute path start with your Operating System ?\n",
    "\n",
    "<b>Answer:</b> In Windows based systems absolute path starts with C. My system is windows based. The absolute patch to a file `python practice.txt` is:\n",
    "\n",
    "C:\\Users\\sma068\\OneDrive - Wärtsilä Corporation\\Documents\\FSDS Inueron\\Assignment solutions\\Santosh Solutions\\Python practice."
   ]
  },
  {
   "cell_type": "markdown",
   "id": "96b5bb7c",
   "metadata": {},
   "source": [
    "<b>3.What does the functions os.getcwd() and os.chdir() do ?\n",
    "\n",
    "<b>Answer:</b> os.getcwd() method tells me the location of current working directory (CWD). Whereas os.chdir() method in Python is used to change the current working directory to a specified path. "
   ]
  },
  {
   "cell_type": "code",
   "execution_count": 6,
   "id": "f54c9160",
   "metadata": {},
   "outputs": [
    {
     "name": "stdout",
     "output_type": "stream",
     "text": [
      "C:\\Users\\sma068\\OneDrive - Wärtsilä Corporation\\Documents\\FSDS Inueron\\Assignment solutions\\Santosh Solutions\n",
      "C:\\Users\\sma068\\New Python Folder\n"
     ]
    }
   ],
   "source": [
    "import os\n",
    "print(os.getcwd())\n",
    "new_path=r'C:\\\\Users\\\\sma068\\\\New Python Folder' #I am changing the wording directory to a new folder.\n",
    "os.chdir(new_path)\n",
    "print(os.getcwd())"
   ]
  },
  {
   "cell_type": "code",
   "execution_count": 7,
   "id": "2dceb977",
   "metadata": {},
   "outputs": [
    {
     "name": "stdout",
     "output_type": "stream",
     "text": [
      "C:\\Users\\sma068\\New Python Folder\n",
      "C:\\Users\\sma068\\OneDrive - Wärtsilä Corporation\\Documents\\FSDS Inueron\\Assignment solutions\\Santosh Solutions\n"
     ]
    }
   ],
   "source": [
    "import os\n",
    "print(os.getcwd()) #I am rechanging the wording directory to my original folder.\n",
    "new_path=r'C:\\\\Users\\sma068\\OneDrive - Wärtsilä Corporation\\\\Documents\\\\FSDS Inueron\\\\Assignment solutions\\\\Santosh Solutions'\n",
    "os.chdir(new_path)\n",
    "print(os.getcwd())"
   ]
  },
  {
   "cell_type": "markdown",
   "id": "c3308783",
   "metadata": {},
   "source": [
    "<b> 4.What are . and .. folders ?\n",
    "    \n",
    "<b>Answer:</b> . Represents the Current Directory Whereas .. Represents the Parent Directory of the Current Directory\n",
    "    \n",
    "For Example: if the below path is my absolute path:\n",
    "    \n",
    "C:\\\\Users\\\\sma068\\\\OneDrive - Wärtsilä Corporation\\\\Documents\\\\FSDS Inueron\\\\Assignment solutions\\\\Santosh Solutions\n",
    "    \n",
    "Then . represents the path C:\\\\Users\\sma068\\OneDrive - Wärtsilä Corporation\\\\Documents\\\\FSDS Inueron\\\\Assignment solutions\\\\Santosh Solutions\n",
    "    \n",
    "Where as .. represents the path C:\\\\Users\\sma068\\OneDrive - Wärtsilä Corporation\\\\Documents\\\\FSDS Inueron\\\\Assignment solutions"
   ]
  },
  {
   "cell_type": "markdown",
   "id": "95fb3fdd",
   "metadata": {},
   "source": [
    "<b> 5.In C:\\bacon\\eggs\\spam.txt which part is the dir name and which part is the base name ?\n",
    "    \n",
    "<b>Answer:</b> For C:\\bacon\\eggs\\spam.txt\n",
    "    \n",
    "The dir name is C:\\\\bacon\\\\eggs\n",
    "    \n",
    "The Base name is spam.txt"
   ]
  },
  {
   "cell_type": "code",
   "execution_count": 10,
   "id": "05b821de",
   "metadata": {},
   "outputs": [
    {
     "name": "stdout",
     "output_type": "stream",
     "text": [
      "C:\\bacon\\eggs\n",
      "spam.txt\n"
     ]
    }
   ],
   "source": [
    "import os\n",
    "path = r'C:\\bacon\\eggs\\spam.txt'\n",
    "print(os.path.dirname(path))\n",
    "print(os.path.basename(path))"
   ]
  },
  {
   "cell_type": "markdown",
   "id": "3baddfcd",
   "metadata": {},
   "source": [
    "<b>6.What are the three mode arguments that can be passed to the open() function ?\n",
    "\n",
    "<b>Answer:</b> A file can be accessed in python using open() function. An Open function takes two arguments: filename and mode of operation (optional). If mode of operation is not provided, the default mode of opening is: read mode.\n",
    "    \n",
    "The syntax of open function is: open(filename, mode). The different modes are:\n",
    "    \n",
    "* ‘r’ – Read Mode: This is the default mode for open(). The file is opened and a pointer is positioned at the beginning of the file’s content.\n",
    "* ‘w’ – Write Mode: Using this mode, I can overwrite any existing content in a file. If the given file does not exist, a new one will be created.\n",
    "* ‘r+’ – Read/Write Mode: I can use this mode to simultaneously read and write to a file.\n",
    "* ‘a’ – Append Mode: With this mode, I can append the data without overwriting any already existing data in the file.\n",
    "* ‘a+’ – Append and Read Mode: In this mode I can read and append the data without overwriting the original file.\n",
    "* ‘x’ – Exclusive Creating Mode: This mode is for the sole purpose of creating new files. This mode is to be used if I know the file to be written doesn’t exist beforehand."
   ]
  },
  {
   "cell_type": "markdown",
   "id": "f7b25f2f",
   "metadata": {},
   "source": [
    "<b>7.What happens if an existing file is opened in write mode ?\n",
    "    \n",
    "<b>Answer:</b> If I open a file in write mode and write anything in it, it will overwrite any existing content in that file. If the file doesn't exist, a new one with the given name will get created."
   ]
  },
  {
   "cell_type": "markdown",
   "id": "dad737ba",
   "metadata": {},
   "source": [
    "<b>8.How do you tell the difference between read() and readlines() ?\n",
    "    \n",
    "<b>Answer:</b> The main difference is that read() will read the whole file at once and then print out the first characters that take up as many bytes as you specify in the parenthesis\n",
    "\n",
    "The read() would treat each character in the file separately, meaning that the iteration would happen for every character.\n",
    "The readline() function, on the other hand, only reads a single line of the file. This means that if the first line of the file were three lines long, the readline() function would only parse (or iterate/operate) on the first line of the file."
   ]
  },
  {
   "cell_type": "code",
   "execution_count": 11,
   "id": "e39c3690",
   "metadata": {},
   "outputs": [
    {
     "name": "stdout",
     "output_type": "stream",
     "text": [
      "first line\n",
      "\n"
     ]
    }
   ],
   "source": [
    "with open(\"test.txt\", \"r\") as file:\n",
    "    line = file.readline() # Here the function will read the first line.\n",
    "    print(line)"
   ]
  },
  {
   "cell_type": "code",
   "execution_count": 19,
   "id": "8c563def",
   "metadata": {},
   "outputs": [
    {
     "name": "stdout",
     "output_type": "stream",
     "text": [
      "['first line\\n', 'second line\\n', 'third line']\n"
     ]
    }
   ],
   "source": [
    "with open(\"test.txt\", \"r\") as file:\n",
    "    lines = file.readlines() # Here the function will read all the lines.\n",
    "    print(lines)"
   ]
  },
  {
   "cell_type": "code",
   "execution_count": 15,
   "id": "0e1574fc",
   "metadata": {},
   "outputs": [
    {
     "name": "stdout",
     "output_type": "stream",
     "text": [
      "first line\n",
      "second line\n",
      "third line\n"
     ]
    }
   ],
   "source": [
    "with open(\"test.txt\", \"r\") as file:\n",
    "    text = file.read() # Here the function will reads the entire content of the file because i have not specified the \n",
    "                        # number of characters to be read.\n",
    "    print(text)"
   ]
  },
  {
   "cell_type": "markdown",
   "id": "872f42d8",
   "metadata": {},
   "source": [
    "<b>9.What data structure does a shelf value resemble ?\n",
    "\n",
    "<b>Answer:</b> A shelf value resembles a dictionary value; it has keys and values, along with keys() and values() methods that work similarly to the dictionary methods of the same names."
   ]
  },
  {
   "cell_type": "code",
   "execution_count": 23,
   "id": "04c1880e",
   "metadata": {},
   "outputs": [],
   "source": [
    "import shelve\n",
    "shelfFile = shelve.open('mydata')\n",
    "dogs = ['Tommy', 'Bruno', 'Jack']\n",
    "shelfFile['dogs'] = dogs\n",
    "shelfFile.close()"
   ]
  },
  {
   "cell_type": "code",
   "execution_count": 24,
   "id": "e198c2a1",
   "metadata": {},
   "outputs": [
    {
     "data": {
      "text/plain": [
       "shelve.DbfilenameShelf"
      ]
     },
     "execution_count": 24,
     "metadata": {},
     "output_type": "execute_result"
    }
   ],
   "source": [
    "shelfFile = shelve.open('mydata')\n",
    "type(shelfFile)"
   ]
  },
  {
   "cell_type": "code",
   "execution_count": 25,
   "id": "e9dc43ef",
   "metadata": {},
   "outputs": [
    {
     "data": {
      "text/plain": [
       "['Tommy', 'Bruno', 'Jack']"
      ]
     },
     "execution_count": 25,
     "metadata": {},
     "output_type": "execute_result"
    }
   ],
   "source": [
    "shelfFile['dogs']"
   ]
  },
  {
   "cell_type": "code",
   "execution_count": 26,
   "id": "cb6fabf8",
   "metadata": {},
   "outputs": [],
   "source": [
    "shelfFile.close()"
   ]
  },
  {
   "cell_type": "code",
   "execution_count": 27,
   "id": "e587c148",
   "metadata": {},
   "outputs": [
    {
     "data": {
      "text/plain": [
       "['dogs']"
      ]
     },
     "execution_count": 27,
     "metadata": {},
     "output_type": "execute_result"
    }
   ],
   "source": [
    "shelfFile = shelve.open('mydata')\n",
    "list(shelfFile.keys()) # this gives me the keys."
   ]
  },
  {
   "cell_type": "code",
   "execution_count": 28,
   "id": "02e60f24",
   "metadata": {},
   "outputs": [
    {
     "data": {
      "text/plain": [
       "[['Tommy', 'Bruno', 'Jack']]"
      ]
     },
     "execution_count": 28,
     "metadata": {},
     "output_type": "execute_result"
    }
   ],
   "source": [
    "list(shelfFile.values()) # this gives me the values"
   ]
  },
  {
   "cell_type": "code",
   "execution_count": 29,
   "id": "2e6518c2",
   "metadata": {},
   "outputs": [],
   "source": [
    "shelfFile.close()"
   ]
  }
 ],
 "metadata": {
  "kernelspec": {
   "display_name": "Python 3 (ipykernel)",
   "language": "python",
   "name": "python3"
  },
  "language_info": {
   "codemirror_mode": {
    "name": "ipython",
    "version": 3
   },
   "file_extension": ".py",
   "mimetype": "text/x-python",
   "name": "python",
   "nbconvert_exporter": "python",
   "pygments_lexer": "ipython3",
   "version": "3.9.13"
  }
 },
 "nbformat": 4,
 "nbformat_minor": 5
}
