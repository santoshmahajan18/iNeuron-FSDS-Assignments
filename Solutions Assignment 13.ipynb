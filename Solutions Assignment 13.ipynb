{
 "cells": [
  {
   "cell_type": "markdown",
   "id": "36572ec1",
   "metadata": {},
   "source": [
    "# Solutions Assignment 13"
   ]
  },
  {
   "cell_type": "markdown",
   "id": "32284a28",
   "metadata": {},
   "source": [
    "#### 1. What advantages do Excel spreadsheets have over CSV spreadsheets?¶\n",
    "\n",
    "<b>Answer: <b/> Following are the advantages of Excel over CSV:\n",
    "    \n",
    "    1. Files saved in Excel format cannot be edited by text editors and also Excel files can be password protected. Files saved in CSV format can be edited by text editors and CSV files cannot be password protected.\n",
    "    \n",
    "    2. Excel provides the user with the option for external linking of data from other sources and also the user can do custom add-ins. No such feature available in CSV.\n",
    "    \n",
    "    3. Reading large dataset is much easier for the end user to read, comprehend and understand in Excel as compared to in CSV."
   ]
  },
  {
   "cell_type": "markdown",
   "id": "87456739",
   "metadata": {},
   "source": [
    "#### 2.What do you pass to csv.reader() and csv.writer() to create reader and writer objects?\n",
    "\n",
    "<b> Answer:</b> To read a CSV file with the csv module, first open it using the open() function, just as you would any other text file. But instead of calling the read() or readlines() method on the File object that open() returns, pass it to the csv.reader() function. This will return a Reader object for you to use. Note that you don’t pass a filename string directly to the csv.reader() function. The most direct way to access the values in the Reader object is to convert it to a plain Python list by passing it to list(). Using list() on this Reader object returns a list of lists, which you can store in a variable like exampleData. Printing exampleData displays the list of lists.\n",
    "\n",
    "A Writer object lets you write data to a CSV file. To create a Writer object, you use the csv.writer() function. First, call open() and pass it 'w' to open a file in write mode. This will create the object you can then pass to csv.writer() to create a Writer object.\n",
    "\n",
    "Please refer example below:\n"
   ]
  },
  {
   "cell_type": "code",
   "execution_count": 24,
   "id": "3e0c8567",
   "metadata": {},
   "outputs": [],
   "source": [
    "# code to create a writer object\n",
    "import csv\n",
    "outputFile = open('output.csv', 'w', newline='')\n",
    "outputWriter = csv.writer(outputFile)\n",
    "outputWriter.writerow(['carrot', 'beans', 'peas', 'spinach'])\n",
    "outputWriter.writerow(['Hello, world!', 'cat', 'dog', 'camel'])\n",
    "outputWriter.writerow([11, 42, 13.14, 40,32])\n",
    "outputFile.close()"
   ]
  },
  {
   "cell_type": "markdown",
   "id": "94401e08",
   "metadata": {},
   "source": [
    "#### 4. What method takes a list argument and writes it to a CSV file?\n",
    "\n",
    "<b>Answer:</b> csv.writer class provides two methods for writing to CSV. They are writerow() and writerows(). writerow() method writes a single row at a time. Whereas writerows() method is used to write multiple rows at a time. Please refer example code below:"
   ]
  },
  {
   "cell_type": "code",
   "execution_count": 29,
   "id": "eff78def",
   "metadata": {},
   "outputs": [],
   "source": [
    "# Example Program\n",
    "import csv      \n",
    "fields = ['Roll number', 'Name', 'Class', 'Weight'] #column names \n",
    "rows = [ \n",
    "            ['1', 'Sam', '2', '25'],  # data rows of csv file \n",
    "            ['2', 'Ajay', '3', '26'], \n",
    "            ['3', 'Som', '4', '28']\n",
    "       ] \n",
    "with open(\"school_records.csv\", 'w') as csvfile: \n",
    "    my_csvfile = csv.writer(csvfile) # creating a csv writer object \n",
    "    my_csvfile.writerow(fields) # writing the fields \n",
    "    my_csvfile.writerows(rows) # writing the data rows "
   ]
  },
  {
   "cell_type": "markdown",
   "id": "62c81a4e",
   "metadata": {},
   "source": [
    "#### 5. What do the keyword arguments delimiter and line terminator do?\n",
    "\n",
    "<b>Answer:</b> The delimiter is the character that appears between cells on a row. By default, the delimiter for a CSV file is a comma. The line terminator is the character that comes at the end of a row. By default, the line terminator is a newline. You can change characters to different values by using the delimiter and lineterminator keyword arguments with csv.writer().\n",
    "Passing delimeter='\\t' and lineterminator='\\n\\n' changes the character between cells to a tab and the character between rows to two newlines. We then call writerow() three times to give us three rows."
   ]
  },
  {
   "cell_type": "code",
   "execution_count": 31,
   "id": "7c2c7312",
   "metadata": {},
   "outputs": [],
   "source": [
    "import csv\n",
    "test_file1=open(\"file1.csv\",'w',newline='')\n",
    "my_file=csv.writer(test_file1,delimiter='\\t', lineterminator='\\n\\n')\n",
    "my_file.writerow(['apples', 'oranges', 'grapes'])\n",
    "my_file.writerow(['eggs', 'bacon', 'ham'])\n",
    "my_file.writerow(['spam', 'spam', 'spam', 'spam', 'spam', 'spam'])\n",
    "test_file1.close()"
   ]
  },
  {
   "cell_type": "markdown",
   "id": "074ea873",
   "metadata": {},
   "source": [
    "### 6. What function takes a string of JSON data and returns a Python data structure?\n",
    "\n",
    "<b>Answer:</b> loads() method takes a string of JSON data and returns a Python data structure. Please refer code below:"
   ]
  },
  {
   "cell_type": "code",
   "execution_count": 35,
   "id": "5b2ce087",
   "metadata": {},
   "outputs": [
    {
     "name": "stdout",
     "output_type": "stream",
     "text": [
      "{\n",
      "    \"Name\": \"Amit Kumar\",\n",
      "    \"School\": \"KVS Ranchi\",\n",
      "    \"Stream\": \"CBSE\",\"age\":12\n",
      "}\n",
      "Type of my_details_json is <class 'str'>\n",
      "{'Name': 'Amit Kumar', 'School': 'KVS Ranchi', 'Stream': 'CBSE', 'age': 12}\n",
      "Type of my_details is <class 'dict'>\n"
     ]
    }
   ],
   "source": [
    "# Example of json.loads() method\n",
    "import json\n",
    "my_json ='''{\n",
    "    \"Name\": \"Amit Kumar\",\n",
    "    \"School\": \"KVS Ranchi\",\n",
    "    \"Stream\": \"CBSE\",\"age\":12\n",
    "}'''\n",
    "print(my_json)\n",
    "print(f'Type of my_details_json is {type(my_json)}')\n",
    "my_details = json.loads(my_json)\n",
    "print(my_details)\n",
    "type(my_details)\n",
    "print(f'Type of my_details is {type(my_details)}')"
   ]
  },
  {
   "cell_type": "markdown",
   "id": "4409f808",
   "metadata": {},
   "source": [
    "#### 7. What function takes a Python data structure and returns a string of JSON data?¶\n",
    "\n",
    "<b>Answer:<b/> \n",
    "    \n",
    "`dumps()` method takes a python data structure and returns a string of JSON data. Please refer code below:"
   ]
  },
  {
   "cell_type": "code",
   "execution_count": 41,
   "id": "e9edb046",
   "metadata": {},
   "outputs": [
    {
     "name": "stdout",
     "output_type": "stream",
     "text": [
      "{\n",
      "\"name\":\"Vivek K\",'age':'14','class':10,'weight':40\n",
      "}\n",
      "Type of my_info is <class 'str'>\n",
      "\"{\\n\\\"name\\\":\\\"Vivek K\\\",'age':'14','class':10,'weight':40\\n}\"\n",
      "Type of my details is <class 'str'>\n"
     ]
    }
   ],
   "source": [
    "# Example of json.dumps() method\n",
    "import json\n",
    "my_info='''{\n",
    "\"name\":\"Vivek K\",'age':'14','class':10,'weight':40\n",
    "}'''\n",
    "print(my_info)\n",
    "print(f'Type of my_info is {type(my_info)}')\n",
    "my_details=json.dumps(my_info,indent=4,sort_keys=True)\n",
    "print(my_details)\n",
    "print(f'Type of my details is {type(my_details)}')"
   ]
  }
 ],
 "metadata": {
  "kernelspec": {
   "display_name": "Python 3 (ipykernel)",
   "language": "python",
   "name": "python3"
  },
  "language_info": {
   "codemirror_mode": {
    "name": "ipython",
    "version": 3
   },
   "file_extension": ".py",
   "mimetype": "text/x-python",
   "name": "python",
   "nbconvert_exporter": "python",
   "pygments_lexer": "ipython3",
   "version": "3.9.13"
  }
 },
 "nbformat": 4,
 "nbformat_minor": 5
}
