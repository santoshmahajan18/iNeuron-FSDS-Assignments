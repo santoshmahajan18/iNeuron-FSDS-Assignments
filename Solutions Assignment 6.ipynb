{
 "cells": [
  {
   "cell_type": "markdown",
   "id": "ab070c49",
   "metadata": {},
   "source": [
    "#  Assignment 6 Solutions\n"
   ]
  },
  {
   "cell_type": "markdown",
   "id": "fc59598f",
   "metadata": {},
   "source": [
    "<b>1. What are escape characters, and how do you use them?</b>\n",
    "\n",
    "<b>Answer:</b> Escape characters or sequences are characters which never get printed in Python as they are considered illegal. When a backlash is used in front of escape characters such as t, n, e or backlash itself, print function skips the next character after backlash symbol and prints rest of the characters/symbols. Plesae refer example below:\n"
   ]
  },
  {
   "cell_type": "code",
   "execution_count": 8,
   "id": "d216281e",
   "metadata": {},
   "outputs": [
    {
     "name": "stdout",
     "output_type": "stream",
     "text": [
      "FSDS\n",
      "Batch Mar 2022\n"
     ]
    }
   ],
   "source": [
    "course = \"FSDS\\nBatch Mar 2022\" \n",
    "# while printing \\n will be skipped and instead the characters after \\n will be printed in the next line.\n",
    "print(course)"
   ]
  },
  {
   "cell_type": "code",
   "execution_count": 9,
   "id": "3eb54fa1",
   "metadata": {},
   "outputs": [
    {
     "name": "stdout",
     "output_type": "stream",
     "text": [
      "FSDS\tBatch Mar 2022\n"
     ]
    }
   ],
   "source": [
    "course = \"FSDS\\tBatch Mar 2022\" \n",
    "# while printing \\t will be skipped and instead the characters after \\t will be printed after a tab spacing.\n",
    "print(course)"
   ]
  },
  {
   "cell_type": "code",
   "execution_count": 10,
   "id": "5929ce0d",
   "metadata": {},
   "outputs": [
    {
     "name": "stdout",
     "output_type": "stream",
     "text": [
      "FSDS\\Batch Mar 2022\n"
     ]
    }
   ],
   "source": [
    "course = \"FSDS\\\\Batch Mar 2022\" # while printing, one backlash character will be skipped.\n",
    "print(course)"
   ]
  },
  {
   "cell_type": "markdown",
   "id": "7a643359",
   "metadata": {},
   "source": [
    "<b>2. What do the escape characters n and t stand for?</b>\n",
    "\n",
    "<b>Answer:</b> \\n stands for inserting a new line and \\t stands for inserting a tab space between strings. Please refer below:"
   ]
  },
  {
   "cell_type": "code",
   "execution_count": 13,
   "id": "6a2e9f96",
   "metadata": {},
   "outputs": [
    {
     "name": "stdout",
     "output_type": "stream",
     "text": [
      "FSDS\n",
      "Python\n"
     ]
    }
   ],
   "source": [
    "learning='FSDS\\nPython' # escape character \\n inserts a new line between characters while printing.\n",
    "print(learning)"
   ]
  },
  {
   "cell_type": "code",
   "execution_count": 14,
   "id": "3f269bc1",
   "metadata": {},
   "outputs": [
    {
     "name": "stdout",
     "output_type": "stream",
     "text": [
      "FSDS\tPython\n"
     ]
    }
   ],
   "source": [
    "learning='FSDS\\tPython'  # escape character \\t inserts a tab space between characters while printing.\n",
    "print(learning)"
   ]
  },
  {
   "cell_type": "markdown",
   "id": "b170cbcb",
   "metadata": {},
   "source": [
    "<b>3. What is the way to include backslash characters in a string?<b>\n",
    "\n",
    "<b>Answer:</b>We have to use double backlash characters. Please refer example below:\n",
    "    "
   ]
  },
  {
   "cell_type": "code",
   "execution_count": 15,
   "id": "f9ae71d1",
   "metadata": {},
   "outputs": [
    {
     "name": "stdout",
     "output_type": "stream",
     "text": [
      "FSDS\\Batch Mar 2022\n"
     ]
    }
   ],
   "source": [
    "course = \"FSDS\\\\Batch Mar 2022\" # while printing, one backlash character will be skipped.\n",
    "print(course)"
   ]
  },
  {
   "cell_type": "markdown",
   "id": "8b83fbbd",
   "metadata": {},
   "source": [
    "<b>4. The string \"Howl's Moving Castle\" is a correct value. Why isn't the single quote character in the word Howl's not escaped a problem?</b>\n",
    "\n",
    "<b>Answer:</b> In the string \"Howl's Moving Castle\", the single quote character Howl's has not been escaped using a backlast symbol. While printing this string, there is no error because the whole string is enclosed in double quotation. Had the string being enclosed in single quotation, we cannot write Howl's without using a backlash symbol. Please see example below:\n"
   ]
  },
  {
   "cell_type": "code",
   "execution_count": 16,
   "id": "6bd6aab2",
   "metadata": {},
   "outputs": [
    {
     "name": "stdout",
     "output_type": "stream",
     "text": [
      "Howl's Moving Castle\n"
     ]
    }
   ],
   "source": [
    "a=\"Howl's Moving Castle\" # The string is in double quotation and hence the print statement gives no error.\n",
    "print(a)"
   ]
  },
  {
   "cell_type": "code",
   "execution_count": 17,
   "id": "75070632",
   "metadata": {},
   "outputs": [
    {
     "name": "stdout",
     "output_type": "stream",
     "text": [
      "Howl's Moving Castle\n"
     ]
    }
   ],
   "source": [
    "a='Howl\\'s Moving Castle' # Here the string is in single quote but still the print stantement gives no error as I have\n",
    "                        # used one backlash here.\n",
    "print(a)"
   ]
  },
  {
   "cell_type": "markdown",
   "id": "3f10b1bd",
   "metadata": {},
   "source": [
    "<b>5. How do you write a string of newlines if you don't want to use the n character?</b>\n",
    "    \n",
    "<b>Answer:</b> I can use multiline strings to use newlines in string without the \\n escape character. Please refer below:"
   ]
  },
  {
   "cell_type": "code",
   "execution_count": 20,
   "id": "96d0cc4a",
   "metadata": {},
   "outputs": [
    {
     "name": "stdout",
     "output_type": "stream",
     "text": [
      "\n",
      "I am able to improve my programming skills by\n",
      "reading, \n",
      "understanding and by\n",
      "writing small codes.\n"
     ]
    }
   ],
   "source": [
    "a='''\n",
    "I am able to improve my programming skills by\n",
    "reading, \n",
    "understanding and by\n",
    "writing small codes.'''\n",
    "print(a)"
   ]
  },
  {
   "cell_type": "markdown",
   "id": "6571e9a1",
   "metadata": {},
   "source": [
    "<b> 6. What are the values of the given expressions? </b>\n",
    "* 'Hello, world!'[1]\n",
    "* 'Hello, world!'[0:5]\n",
    "* 'Hello, world!'[:5]\n",
    "* 'Hello, world!'[3:]\n"
   ]
  },
  {
   "cell_type": "code",
   "execution_count": 21,
   "id": "51796243",
   "metadata": {},
   "outputs": [
    {
     "data": {
      "text/plain": [
       "'e'"
      ]
     },
     "execution_count": 21,
     "metadata": {},
     "output_type": "execute_result"
    }
   ],
   "source": [
    "'Hello, world!'[1] # prints the characters at index value 1."
   ]
  },
  {
   "cell_type": "code",
   "execution_count": 22,
   "id": "ed0478c3",
   "metadata": {},
   "outputs": [
    {
     "data": {
      "text/plain": [
       "'Hello'"
      ]
     },
     "execution_count": 22,
     "metadata": {},
     "output_type": "execute_result"
    }
   ],
   "source": [
    "'Hello, world!'[0:5] # prints all the characters at indexes from value 0 to 4."
   ]
  },
  {
   "cell_type": "code",
   "execution_count": 23,
   "id": "163098e1",
   "metadata": {},
   "outputs": [
    {
     "data": {
      "text/plain": [
       "'Hello'"
      ]
     },
     "execution_count": 23,
     "metadata": {},
     "output_type": "execute_result"
    }
   ],
   "source": [
    "'Hello, world!'[:5] # prints all the characters from index 0 till index 4."
   ]
  },
  {
   "cell_type": "code",
   "execution_count": 25,
   "id": "37fd300f",
   "metadata": {},
   "outputs": [
    {
     "data": {
      "text/plain": [
       "'lo, world!'"
      ]
     },
     "execution_count": 25,
     "metadata": {},
     "output_type": "execute_result"
    }
   ],
   "source": [
    "'Hello, world!'[3:] # prints all the characters from index 3 till end."
   ]
  },
  {
   "cell_type": "markdown",
   "id": "15938dc2",
   "metadata": {},
   "source": [
    "<b> 7. What are the values of the following expressions? </b>\n",
    "* 'Hello'.upper()\n",
    "* 'Hello'.upper().isupper()\n",
    "* 'Hello'.upper().lower()\n"
   ]
  },
  {
   "cell_type": "code",
   "execution_count": 26,
   "id": "998d2084",
   "metadata": {},
   "outputs": [
    {
     "data": {
      "text/plain": [
       "'HELLO'"
      ]
     },
     "execution_count": 26,
     "metadata": {},
     "output_type": "execute_result"
    }
   ],
   "source": [
    "'Hello'.upper() # coverts all characters of a string to upper case."
   ]
  },
  {
   "cell_type": "code",
   "execution_count": 28,
   "id": "3f7e7029",
   "metadata": {},
   "outputs": [
    {
     "data": {
      "text/plain": [
       "True"
      ]
     },
     "execution_count": 28,
     "metadata": {},
     "output_type": "execute_result"
    }
   ],
   "source": [
    "'Hello'.upper().isupper() # coverts all characters of a string to upper case and checks if the characters are in upper case."
   ]
  },
  {
   "cell_type": "code",
   "execution_count": 29,
   "id": "5746574e",
   "metadata": {},
   "outputs": [
    {
     "data": {
      "text/plain": [
       "'hello'"
      ]
     },
     "execution_count": 29,
     "metadata": {},
     "output_type": "execute_result"
    }
   ],
   "source": [
    "'Hello'.upper().lower() # converts all characters of a string first to upper case and then to a lower case."
   ]
  },
  {
   "cell_type": "markdown",
   "id": "8e61d23e",
   "metadata": {},
   "source": [
    "<b>8. What are the values of the following expressions?<\n",
    "\n",
    "* 'Remember, remember, the fifth of July.'.split()\n",
    "\n",
    "* '-'.join('There can only one.'.split())\n"
   ]
  },
  {
   "cell_type": "code",
   "execution_count": 31,
   "id": "8cc38621",
   "metadata": {},
   "outputs": [
    {
     "data": {
      "text/plain": [
       "['Remember,', 'remember,', 'the', 'fifth', 'of', 'July.']"
      ]
     },
     "execution_count": 31,
     "metadata": {},
     "output_type": "execute_result"
    }
   ],
   "source": [
    "'Remember, remember, the fifth of July.'.split() #splits the whole string into sub strings separated by inverted commas."
   ]
  },
  {
   "cell_type": "code",
   "execution_count": 37,
   "id": "01ecbe39",
   "metadata": {},
   "outputs": [
    {
     "data": {
      "text/plain": [
       "'There-can-only-one.'"
      ]
     },
     "execution_count": 37,
     "metadata": {},
     "output_type": "execute_result"
    }
   ],
   "source": [
    "'-'.join('There can only one.'.split())\n",
    "# The splits function splits the whole string into substrings and the join function joins all the sub strings using -."
   ]
  },
  {
   "cell_type": "markdown",
   "id": "96d6afd7",
   "metadata": {},
   "source": [
    "<b>9. What are the methods for right-justifying, left-justifying, and centering a string?</b>\n",
    "\n",
    "<b>Answer:</b> The methods are:\n",
    "* `rjust()`,\n",
    "* `ljust()`,\n",
    "* `center()` "
   ]
  },
  {
   "cell_type": "code",
   "execution_count": 39,
   "id": "188b9042",
   "metadata": {},
   "outputs": [
    {
     "name": "stdout",
     "output_type": "stream",
     "text": [
      "           I love programming.\n"
     ]
    }
   ],
   "source": [
    "a=\" I love programming.\" # Here I want to right justify the whole string in the specified width.\n",
    "print(a.rjust(30)) #30 is the total width in which I want to fit this whole string a."
   ]
  },
  {
   "cell_type": "code",
   "execution_count": 41,
   "id": "2dab3756",
   "metadata": {},
   "outputs": [
    {
     "name": "stdout",
     "output_type": "stream",
     "text": [
      " I love programming.                    \n"
     ]
    }
   ],
   "source": [
    "a=\" I love programming.\" # Here I want to left justify the whole string in the specified width.\n",
    "print(a.ljust(40)) #40 is the total width in which I want to fit this whole string a."
   ]
  },
  {
   "cell_type": "code",
   "execution_count": 42,
   "id": "869656a2",
   "metadata": {},
   "outputs": [
    {
     "name": "stdout",
     "output_type": "stream",
     "text": [
      "           I love programming.          \n"
     ]
    }
   ],
   "source": [
    "a=\" I love programming.\" # Here I want to centralize the string in the specified width.\n",
    "print(a.center(40)) #40 is the total width in which I want to fit this whole string a."
   ]
  },
  {
   "cell_type": "markdown",
   "id": "2d07cc69",
   "metadata": {},
   "source": [
    "<b>10. What is the best way to remove whitespace characters from the start or end?</b>\n",
    "\n",
    "<b>Answer:</b> I should use rstrip and lstrip commands. Plesae refer below:"
   ]
  },
  {
   "cell_type": "code",
   "execution_count": 48,
   "id": "001fcacb",
   "metadata": {},
   "outputs": [
    {
     "name": "stdout",
     "output_type": "stream",
     "text": [
      " I love programming.\n"
     ]
    }
   ],
   "source": [
    "a=\" I love programming.                         \"\n",
    "print(a.rstrip()) # removes whitespaces in the right side."
   ]
  },
  {
   "cell_type": "code",
   "execution_count": 50,
   "id": "e4c68ea5",
   "metadata": {},
   "outputs": [
    {
     "name": "stdout",
     "output_type": "stream",
     "text": [
      "I love programming.\n"
     ]
    }
   ],
   "source": [
    "a=\"                                        I love programming.\"\n",
    "print(a.lstrip()) # removes whitespaces in the left side."
   ]
  },
  {
   "cell_type": "code",
   "execution_count": 53,
   "id": "da00463a",
   "metadata": {},
   "outputs": [
    {
     "name": "stdout",
     "output_type": "stream",
     "text": [
      "I love programming.\n"
     ]
    }
   ],
   "source": [
    "a=\"                       I love programming.         \"\n",
    "b=a.rstrip()\n",
    "c=b.lstrip()\n",
    "print(c) # doint both left stripping and right stripping."
   ]
  },
  {
   "cell_type": "markdown",
   "id": "60814bc3",
   "metadata": {},
   "source": []
  }
 ],
 "metadata": {
  "kernelspec": {
   "display_name": "Python 3 (ipykernel)",
   "language": "python",
   "name": "python3"
  },
  "language_info": {
   "codemirror_mode": {
    "name": "ipython",
    "version": 3
   },
   "file_extension": ".py",
   "mimetype": "text/x-python",
   "name": "python",
   "nbconvert_exporter": "python",
   "pygments_lexer": "ipython3",
   "version": "3.9.13"
  }
 },
 "nbformat": 4,
 "nbformat_minor": 5
}
