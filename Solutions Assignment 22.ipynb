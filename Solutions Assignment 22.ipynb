{
 "cells": [
  {
   "cell_type": "markdown",
   "id": "edce803c",
   "metadata": {},
   "source": [
    "# Solutions Assignment 22"
   ]
  },
  {
   "cell_type": "markdown",
   "id": "4685ff0e",
   "metadata": {},
   "source": [
    "#### 1. What is the result of the code, and explain?"
   ]
  },
  {
   "cell_type": "markdown",
   "id": "612d9f37",
   "metadata": {},
   "source": [
    "Please refer code below. The function looks for local variable X. But since the local variable X is not defined, the function looks for global variable X, the value of which is given as iNeuron."
   ]
  },
  {
   "cell_type": "code",
   "execution_count": 3,
   "id": "9ac565dc",
   "metadata": {},
   "outputs": [
    {
     "name": "stdout",
     "output_type": "stream",
     "text": [
      "iNeuron\n"
     ]
    }
   ],
   "source": [
    "X = 'iNeuron'\n",
    "def func():\n",
    "    print(X)\n",
    "func()"
   ]
  },
  {
   "cell_type": "markdown",
   "id": "c69cefe6",
   "metadata": {},
   "source": [
    "#### 2. What is the result of the code, and explain?\n",
    "\n",
    "`>>> X = 'iNeuron'`\n",
    "\n",
    "`>>> def func():`\n",
    "\n",
    "`X = 'NI!'`\n",
    "\n",
    "`>>> func()`\n",
    "\n",
    "`>>> print(X)`\n",
    "\n",
    "Ans: The Result of this code is iNeuron. The print function is called outside the function and hence the global value\n",
    "of X is printed."
   ]
  },
  {
   "cell_type": "code",
   "execution_count": 11,
   "id": "c60245c6",
   "metadata": {},
   "outputs": [
    {
     "name": "stdout",
     "output_type": "stream",
     "text": [
      "iNeuron\n"
     ]
    }
   ],
   "source": [
    "X='iNeuron'\n",
    "def fun():\n",
    "    X='NI!'\n",
    "    \n",
    "fun()\n",
    "print(X)   "
   ]
  },
  {
   "cell_type": "markdown",
   "id": "55d48b16",
   "metadata": {},
   "source": [
    "#### 3. What does this code print, and why?\n",
    "`>>> X = 'iNeuron'`  \n",
    "`>>> def func():`  \n",
    "`X = 'NI'`  \n",
    "`print(X)`  \n",
    "`>>> func()`  \n",
    "`>>> print(X)`"
   ]
  },
  {
   "cell_type": "code",
   "execution_count": 12,
   "id": "9d4db442",
   "metadata": {},
   "outputs": [
    {
     "name": "stdout",
     "output_type": "stream",
     "text": [
      "NI\n",
      "iNeuron\n"
     ]
    }
   ],
   "source": [
    "X = 'iNeuron'\n",
    "def func():\n",
    "    X = 'NI'\n",
    "    print(X)\n",
    "func()\n",
    "print(X)\n",
    "#The output of the code is NI and iNeuron. X=NI is in the local scope of the function func() hence the\n",
    "# function prints the x value as NI. X = 'iNeuron' is in the global scope. hence print(X) prints output as iNeuron"
   ]
  },
  {
   "cell_type": "markdown",
   "id": "db89404e",
   "metadata": {},
   "source": [
    "#### 4. What output does this code produce? Why?\n",
    "`>>> X = 'iNeuron'`   \n",
    "`>>> def func():`   \n",
    "`global X`   \n",
    "`X = 'NI'`   \n",
    "`>>> func()`   \n",
    "`>>> print(X)`   \n",
    "**Ans:** The output of the code is `NI`. the `global` keyword allows a variable to be accessible in the current scope. Since we are using global keyword inside the function `func` it directly access the variable in `X` in global scope. and changes its value to `NI`. hence the output of the code is `NI`"
   ]
  },
  {
   "cell_type": "code",
   "execution_count": 13,
   "id": "23e75fc5",
   "metadata": {},
   "outputs": [
    {
     "name": "stdout",
     "output_type": "stream",
     "text": [
      "NI\n"
     ]
    }
   ],
   "source": [
    "X = 'iNeuron'\n",
    "def func():\n",
    "    global X\n",
    "    X = 'NI'\n",
    "func()\n",
    "print(X)\n"
   ]
  },
  {
   "cell_type": "markdown",
   "id": "ad8defb9",
   "metadata": {},
   "source": [
    "#### 5. What about this code—what’s the output, and why?\n",
    "`>>> X = 'iNeuron'`\n",
    "\n",
    "`>>> def func():`\n",
    "\n",
    "`X = 'NI'`\n",
    "\n",
    "`def nested():`\n",
    "\n",
    "`print(X)`\n",
    "\n",
    "`nested()`\n",
    "\n",
    "`>>> func()`\n",
    "\n",
    "`>>> X`\n",
    "\n",
    "Ans: The output of the code is NI. the reason for this output is if a function wants to access a variable, if its not available in its localscope, it looks for the variable in its global scope i.e for a value specified outside of this function, which in this case is NI. Hence the output of the code is NI."
   ]
  },
  {
   "cell_type": "code",
   "execution_count": 19,
   "id": "7ac5a849",
   "metadata": {},
   "outputs": [
    {
     "name": "stdout",
     "output_type": "stream",
     "text": [
      "NI\n"
     ]
    },
    {
     "data": {
      "text/plain": [
       "'iNeuron'"
      ]
     },
     "execution_count": 19,
     "metadata": {},
     "output_type": "execute_result"
    }
   ],
   "source": [
    "X = 'iNeuron'\n",
    "def func():\n",
    "    X = 'NI'\n",
    "    def nested():\n",
    "        print(X)\n",
    "    nested()\n",
    "func()\n",
    "X"
   ]
  },
  {
   "cell_type": "markdown",
   "id": "35063ab2",
   "metadata": {},
   "source": [
    "#### 6. How about this code: what is its output in Python 3, and explain?\n",
    "\n",
    "`>>> def func():`\n",
    "\n",
    "`X = 'NI'`\n",
    "\n",
    "`def nested():`\n",
    "\n",
    "`nonlocal X`\n",
    "\n",
    "`X = 'Spam'`\n",
    "\n",
    "`nested()`\n",
    "\n",
    "`print(X)`\n",
    "\n",
    "`>>> func()`\n",
    "\n",
    "Ans: The output of the code is Spam. A nonlocal keyword in python is used to declare a variable as not local. Hence the statement X = \"Spam\" is modified in the global scope. hence the output of print(X) statement is Spam"
   ]
  },
  {
   "cell_type": "code",
   "execution_count": 20,
   "id": "18ed2cc6",
   "metadata": {},
   "outputs": [
    {
     "name": "stdout",
     "output_type": "stream",
     "text": [
      "Spam\n"
     ]
    }
   ],
   "source": [
    "def func():\n",
    "    X = 'NI'\n",
    "    def nested():\n",
    "        nonlocal X\n",
    "        X = 'Spam'\n",
    "    nested()\n",
    "    print(X)\n",
    "func()"
   ]
  }
 ],
 "metadata": {
  "kernelspec": {
   "display_name": "Python 3 (ipykernel)",
   "language": "python",
   "name": "python3"
  },
  "language_info": {
   "codemirror_mode": {
    "name": "ipython",
    "version": 3
   },
   "file_extension": ".py",
   "mimetype": "text/x-python",
   "name": "python",
   "nbconvert_exporter": "python",
   "pygments_lexer": "ipython3",
   "version": "3.9.13"
  }
 },
 "nbformat": 4,
 "nbformat_minor": 5
}
