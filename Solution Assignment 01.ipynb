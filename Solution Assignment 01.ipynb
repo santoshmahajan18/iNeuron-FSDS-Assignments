{
 "cells": [
  {
   "cell_type": "markdown",
   "id": "f8eb8f72",
   "metadata": {},
   "source": [
    "# Assignment 1 Solution"
   ]
  },
  {
   "cell_type": "markdown",
   "id": "c469158f",
   "metadata": {},
   "source": [
    "<b> 1. In the below elements which of them are values or an expression? eg:- values can be integer or string \n",
    "and expressions will be mathematical operators. </b>\n",
    "\n",
    "* \n",
    "'hello'\n",
    "-87.8\n",
    "- \n",
    "/ \n",
    "+\t\n",
    "6 \n",
    "Answer:\n",
    "* is an operator\n",
    "'hello' is a string/expression\n",
    "-87.8 is a float/expression\n",
    "- is an operator\n",
    "/ is an operator\n",
    "+ is an operator\n",
    "6 is an integer/expression"
   ]
  },
  {
   "cell_type": "markdown",
   "id": "83bce47b",
   "metadata": {},
   "source": [
    "<b> 2. What is the difference between string and variable?</b> \n",
    "\n",
    "**Answer:** A variable is a type of basket where an information can be stored. A string is type of information which can be stored in a variable. The other type of information that can be stored in a variable is: integer, float, complex number. A string is differentiated from other variables by use of single quote or doube quote. For example: \"India\" is an example of string."
   ]
  },
  {
   "cell_type": "markdown",
   "id": "962ad93a",
   "metadata": {},
   "source": [
    "<b> 3. Describe three different data types. </b>\n",
    "\n",
    "<b>Answer:</b> Three type of data types are: \n",
    "a. Int : Here we consider all types of integer number (positive/negative/zero).\n",
    "b. Float: this consists of positive or negative decimal numbers.\n",
    "c. Complex: This consits of two parts: real part and imaginary part. The fomat is a+bj where a is the real part and b\n",
    "is the imaginary part.\n"
   ]
  },
  {
   "cell_type": "code",
   "execution_count": null,
   "id": "96afa33e",
   "metadata": {},
   "outputs": [],
   "source": [
    "# example of int\n",
    "a=43\n",
    "print(type(a))"
   ]
  },
  {
   "cell_type": "code",
   "execution_count": null,
   "id": "ecc57d6a",
   "metadata": {},
   "outputs": [],
   "source": [
    "# example of float\n",
    "b=32.65\n",
    "print(type(b))"
   ]
  },
  {
   "cell_type": "code",
   "execution_count": null,
   "id": "3bfb8f69",
   "metadata": {},
   "outputs": [],
   "source": [
    "# example of complex number\n",
    "c=5+2j\n",
    "print(type(c))"
   ]
  },
  {
   "cell_type": "markdown",
   "id": "cf44f6e3",
   "metadata": {},
   "source": [
    "<b>4. What is an expression made up of? What do all expressions do?</b>\n",
    "\n",
    "<b>Answer:</b> An expression consists of operands and operators. The purpose of an expression is to produce a result. When there are more than one operators such as +, -, *, / , parenthesis, the sequence in which these operators are executed is governed by BODMAS rule. An example is shown below:"
   ]
  },
  {
   "cell_type": "code",
   "execution_count": null,
   "id": "9468c499",
   "metadata": {},
   "outputs": [],
   "source": [
    "3*4+6/2*(8-5) # This is an example of expression."
   ]
  },
  {
   "cell_type": "markdown",
   "id": "fef3ea35",
   "metadata": {},
   "source": [
    "<b> 5.This assignment statements, like spam = 10. What is the difference between an expression and a statement?\n",
    "    \n",
    "Answer: </b> An expression is a combination of operands,variables and operators. Whenever we want to execute an expression, we type it in the prompt and the python interpreter evaluates and gives us the result or value of the result. Whereas a statement is a set of code which either creates or defines a variable or displays a value. For example a print function is a statement which prints whatever the user asks it to. Please refe examples below: "
   ]
  },
  {
   "cell_type": "code",
   "execution_count": 2,
   "id": "2391ffda",
   "metadata": {},
   "outputs": [
    {
     "name": "stdout",
     "output_type": "stream",
     "text": [
      "My coding is improving by practice.\n"
     ]
    }
   ],
   "source": [
    "2*25-33 # this is an expression\n",
    "count_number=12 # this is a statement as it defines a variable\n",
    "print(\"My coding is improving by practice.\") # this is a statement as it prints what the user asks it to."
   ]
  },
  {
   "cell_type": "markdown",
   "id": "cb905ee3",
   "metadata": {},
   "source": [
    "<b> 6.After running the following code, what does the variable bacon contain? </b>\n",
    "\n",
    "\n",
    "bacon = 22\n",
    "\n",
    "bacon + 1\n",
    "\n",
    "**Ans:** Initially, the variable bacon is set to 22 .The expression bacon + 1 does not reassign the value in bacon. If we wish to reassign the value to bacon then we need to use an expression: bacon=bacon+1."
   ]
  },
  {
   "cell_type": "code",
   "execution_count": 4,
   "id": "90d6527f",
   "metadata": {},
   "outputs": [
    {
     "name": "stdout",
     "output_type": "stream",
     "text": [
      "23\n"
     ]
    }
   ],
   "source": [
    "bacon=22 #initially the variable bacon is assigned value of 22\n",
    "print(bacon + 1) # though this statement gives 23 as result, the value of variable bacon is still 22."
   ]
  },
  {
   "cell_type": "markdown",
   "id": "090db6f5",
   "metadata": {},
   "source": [
    "<b>7. What should the values of the following two terms be? <b>\n",
    "    \n",
    "'spam' + 'spamspam'\n",
    "    \n",
    "'spam' * 3\n"
   ]
  },
  {
   "cell_type": "code",
   "execution_count": 5,
   "id": "6bdfd0e1",
   "metadata": {},
   "outputs": [
    {
     "data": {
      "text/plain": [
       "'spamspamspam'"
      ]
     },
     "execution_count": 5,
     "metadata": {},
     "output_type": "execute_result"
    }
   ],
   "source": [
    "'spam' + 'spamspam'"
   ]
  },
  {
   "cell_type": "code",
   "execution_count": 6,
   "id": "7ee2e4f8",
   "metadata": {},
   "outputs": [
    {
     "data": {
      "text/plain": [
       "'spamspamspam'"
      ]
     },
     "execution_count": 6,
     "metadata": {},
     "output_type": "execute_result"
    }
   ],
   "source": [
    "'spam' * 3"
   ]
  },
  {
   "cell_type": "markdown",
   "id": "5a00ad17",
   "metadata": {},
   "source": [
    "<b>8. Why is eggs a valid variable name while 100 is invalid? </b>\n",
    "\n",
    "<b> Answer: </b> As per python rules, the names of variables has certain restrictions, which are as follows:\n",
    "1. Variable name must start with a letter or the underscore character.\n",
    "2. Variable name cannot start with a number.\n",
    "3. Variable name can only contain alpha-numeric characters and underscores (A-z, 0-9, & _ ).\n",
    "4. Variable names are case-sensitive (`EGG`, `Egg` and `egg` are three different variables).\n",
    "5. The reserved words(keywords) cannot be used naming the variable."
   ]
  },
  {
   "cell_type": "markdown",
   "id": "45c1a659",
   "metadata": {},
   "source": [
    "<b> 9. What three functions can be used to get the integer, floating-point number, or string version of a value?\n",
    "    \n",
    "Answer: </b> The `int()` functions will evaluate to the integer,\n",
    "`float()` will evaluate to floating-point number,\n",
    "and `str()` will evaluate to string version of the value passed to them."
   ]
  },
  {
   "cell_type": "markdown",
   "id": "0061dee8",
   "metadata": {},
   "source": [
    "<b> 10. Why does this expression cause an error? How can you fix it? </b>\n",
    "\n",
    "'I have eaten ' + 99 + ' burritos.'\n"
   ]
  },
  {
   "cell_type": "code",
   "execution_count": 8,
   "id": "e5ddce1b",
   "metadata": {},
   "outputs": [],
   "source": [
    "#'I have eaten ' + 99 + ' burritos.' # This will give an error because a string cannot be added to an integer"
   ]
  },
  {
   "cell_type": "code",
   "execution_count": 9,
   "id": "c30459de",
   "metadata": {},
   "outputs": [
    {
     "data": {
      "text/plain": [
       "'I have eaten 99 burritos.'"
      ]
     },
     "execution_count": 9,
     "metadata": {},
     "output_type": "execute_result"
    }
   ],
   "source": [
    "'I have eaten ' + str(99) + ' burritos.' # we can covert the integer 99 to string type and then add the three strings."
   ]
  },
  {
   "cell_type": "code",
   "execution_count": null,
   "id": "0165d0c8",
   "metadata": {},
   "outputs": [],
   "source": []
  }
 ],
 "metadata": {
  "kernelspec": {
   "display_name": "Python 3 (ipykernel)",
   "language": "python",
   "name": "python3"
  },
  "language_info": {
   "codemirror_mode": {
    "name": "ipython",
    "version": 3
   },
   "file_extension": ".py",
   "mimetype": "text/x-python",
   "name": "python",
   "nbconvert_exporter": "python",
   "pygments_lexer": "ipython3",
   "version": "3.9.13"
  }
 },
 "nbformat": 4,
 "nbformat_minor": 5
}
