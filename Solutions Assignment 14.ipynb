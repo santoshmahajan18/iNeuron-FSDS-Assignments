{
 "cells": [
  {
   "cell_type": "markdown",
   "id": "91b622f2",
   "metadata": {},
   "source": [
    "# Solutions Assignment 14"
   ]
  },
  {
   "cell_type": "markdown",
   "id": "c76f7973",
   "metadata": {},
   "source": [
    "# 1. What does RGBA stand for?\n",
    "\n",
    "<b>Answer:<b/> \n",
    "    \n",
    "Computer programs often represent a color in an image as an RGBA value. An RGBA value is a group of numbers that specify the amount of red, green, blue, and alpha (or transparency) in a color. Each of these component values is an integer from 0 (none at all) to 255 (the maximum). These RGBA values are assigned to individual pixels; a pixel is the smallest dot of a single color the computer screen can show (as you can imagine, there are millions of pixels on a screen). A pixel’s RGB setting tells it precisely what shade of color it should display. Images also have an alpha value to create RGBA values. If an image is displayed on the screen over a background image or desktop wallpaper, the alpha value determines how much of the background you can “see through” the image’s pixel.   \n"
   ]
  },
  {
   "cell_type": "markdown",
   "id": "1f10f143",
   "metadata": {},
   "source": [
    "#### 2. From the Pillow module, how do you get the RGBA value of any images?\n",
    "\n",
    "<b>Answer:<b/> \n",
    "    \n",
    "In Pillow, RGBA values are represented by a tuple of four integer values. For example, the color red is represented by (255, 0, 0, 255). This color has the maximum amount of red, no green or blue, and the maximum alpha value, meaning it is fully opaque. Pillow offers the function: ImageColor.getcolor() which helps to get the RGBA values for the colors that I wish to use. This function takes a color name string as its first argument, and the string 'RGBA' as its second argument, and it returns an RGBA tuple."
   ]
  },
  {
   "cell_type": "code",
   "execution_count": 19,
   "id": "9d88e5b7",
   "metadata": {},
   "outputs": [
    {
     "data": {
      "text/plain": [
       "(255, 0, 0, 255)"
      ]
     },
     "execution_count": 19,
     "metadata": {},
     "output_type": "execute_result"
    }
   ],
   "source": [
    "from PIL import ImageColor\n",
    "ImageColor.getcolor('red', 'RGBA')"
   ]
  },
  {
   "cell_type": "markdown",
   "id": "b05009b3",
   "metadata": {},
   "source": [
    "#### 3. What is a box tuple, and how does it work?\n",
    "\n",
    "#### Answer:\n",
    "Image pixels are addressed with x- and y-coordinates, which respectively specify a pixel’s horizontal and vertical location in an image. The origin is the pixel at the top-left corner of the image and is specified with the notation (0, 0).\n",
    "Many of Pillow’s functions and methods take a box tuple argument. This means Pillow is expecting a tuple of four integer coordinates that represent a rectangular region in an image.  The four integers are, in order, as follows:\n",
    "\n",
    "* Left: The x-coordinate of the leftmost edge of the box.\n",
    "\n",
    "* Top: The y-coordinate of the top edge of the box.\n",
    "\n",
    "* Right: The x-coordinate of one pixel to the right of the rightmost edge of the box. This integer must be greater than the left integer.\n",
    "\n",
    "* Bottom: The y-coordinate of one pixel lower than the bottom edge of the box. This integer must be greater than the top integer.\n",
    "\n",
    "For example, In the x- and y-coordinates of a 27×26 image, the area represented by the box tuple is (3, 1, 9, 6)."
   ]
  },
  {
   "cell_type": "markdown",
   "id": "15f27712",
   "metadata": {},
   "source": [
    "#### 4. Use your image and load in notebook then, How can you find out the width and height of an Image object?\n",
    "\n",
    "#### Answer:\n",
    "In order to find the height and width of an image, there are two approaches. The first approach is by using the PIL(Pillow) library and the second approach is by using the Open-CV library. PIL stands for python image library."
   ]
  },
  {
   "cell_type": "code",
   "execution_count": 5,
   "id": "4195248f",
   "metadata": {},
   "outputs": [
    {
     "name": "stdout",
     "output_type": "stream",
     "text": [
      "The width of the image is:  413\n",
      "The height of the image is:  531\n"
     ]
    }
   ],
   "source": [
    "# code to find width and height of an image object\n",
    "\n",
    "from PIL import Image\n",
    "picture=Image.open('photo.jpg')\n",
    "\n",
    "# get width and height of the image\n",
    "width=picture.width\n",
    "height=picture.height\n",
    "\n",
    "# display image's width and height\n",
    "print(\"The width of the image is: \",width)\n",
    "print(\"The height of the image is: \",height)\n",
    "picture.show()"
   ]
  },
  {
   "cell_type": "code",
   "execution_count": 26,
   "id": "fc61af5b",
   "metadata": {},
   "outputs": [
    {
     "name": "stdout",
     "output_type": "stream",
     "text": [
      "The height of the image is:  531\n",
      "The width of the image is:  413\n"
     ]
    }
   ],
   "source": [
    "# An alternate way to get height and width is using .size property.\n",
    "from PIL import Image\n",
    "picture=Image.open('photo.jpg')\n",
    "width,height = picture.size\n",
    "print(\"The height of the image is: \", height)\n",
    "print(\"The width of the image is: \", width)\n",
    "picture.show()"
   ]
  },
  {
   "cell_type": "markdown",
   "id": "a6495298",
   "metadata": {},
   "source": [
    "#### 5. What method would you call to get Image object for a 100×100 image, excluding the lower-left quarter of it?¶\n",
    "\n",
    "#### Answer: \n",
    "When we want to select a rectangular region inside an image and remove everything outside the rectange, we use the crop() method. The crop() method on Image objects takes a box tuple and returns an Image object representing the cropped image. The cropping does not happen in place—that is, the original Image object is left untouched, and the crop() method returns a new Image object. "
   ]
  },
  {
   "cell_type": "code",
   "execution_count": 25,
   "id": "88342753",
   "metadata": {},
   "outputs": [],
   "source": [
    "from PIL import Image\n",
    "import numpy as np      \n",
    "# Opening the image and converting \n",
    "# it to RGB color mode\n",
    "\n",
    "img = Image.open(r\"photo.jpg\").convert('RGB')\n",
    "\n",
    "# Extracting the image data &\n",
    "# creating an numpy array out of it\n",
    "image_arr = np.array(img)\n",
    "\n",
    "# Turning the pixel values of the 400x400 pixels to black \n",
    "image_arr[400 : 800, 0 : 200] = (0, 0, 0)\n",
    "  \n",
    "# Creating an image out of the previously modified array\n",
    "img = Image.fromarray(image_arr)\n",
    "  \n",
    "# Displaying the image\n",
    "img.show()\n"
   ]
  },
  {
   "cell_type": "markdown",
   "id": "9fcd3474",
   "metadata": {},
   "source": [
    "#### 6. After making changes to an Image object, how could you save it as an image file?¶\n",
    "\n",
    "#### Answer:\n",
    "Please refer code below:"
   ]
  },
  {
   "cell_type": "code",
   "execution_count": 31,
   "id": "69e21dca",
   "metadata": {},
   "outputs": [],
   "source": [
    "#code to save an edited image as a new image file\n",
    "from PIL import Image\n",
    "image1=Image.open('photo.jpg')\n",
    "\n",
    "image1=image1.save('pic.jpg')\n"
   ]
  },
  {
   "cell_type": "markdown",
   "id": "ab686ee8",
   "metadata": {},
   "source": [
    "#### 7. What module contains Pillow’s shape-drawing code?\n",
    "\n",
    "**Ans:** Pillows **`ImageDraw`** module contains Shape drawing methods. Please refer code below:"
   ]
  },
  {
   "cell_type": "code",
   "execution_count": 27,
   "id": "a63bc3b8",
   "metadata": {},
   "outputs": [],
   "source": [
    "# Importing Image and ImageDraw from PIL\n",
    "from PIL import Image, ImageDraw\n",
    "\n",
    "# Opening the image to be used\n",
    "my_img = Image.open('moon.jpg')\n",
    "\n",
    "# Creating a Draw object\n",
    "draw = ImageDraw.Draw(my_img)\n",
    "\n",
    "# Drawing a green rectangle\n",
    "# overlapping with the image\n",
    "draw.rectangle(xy =(100,100,200,200),\n",
    "               fill=(0,90,0),\n",
    "               outline=(100,100,100,100),\n",
    "               width=5)\n",
    "# Method to display the modified image\n",
    "my_img.show()\n",
    "  "
   ]
  },
  {
   "cell_type": "markdown",
   "id": "abf19cf3",
   "metadata": {},
   "source": [
    "#### 8. Image objects do not have drawing methods. What kind of object does? How do you get this kind of object?\n",
    "\n",
    "**Answer:** Image objects do not have drawing methods. ImageDraw objects have drawing methods such as `point()`, `line()`, or `rectangle`. These are returned by passing the image object to the `ImageDraw.Draw()` function. This has been demonstrated in example above."
   ]
  }
 ],
 "metadata": {
  "kernelspec": {
   "display_name": "Python 3 (ipykernel)",
   "language": "python",
   "name": "python3"
  },
  "language_info": {
   "codemirror_mode": {
    "name": "ipython",
    "version": 3
   },
   "file_extension": ".py",
   "mimetype": "text/x-python",
   "name": "python",
   "nbconvert_exporter": "python",
   "pygments_lexer": "ipython3",
   "version": "3.9.13"
  }
 },
 "nbformat": 4,
 "nbformat_minor": 5
}
