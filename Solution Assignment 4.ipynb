{
 "cells": [
  {
   "cell_type": "markdown",
   "id": "c9796493",
   "metadata": {},
   "source": [
    "### Solutions Assignment 4"
   ]
  },
  {
   "cell_type": "markdown",
   "id": "d725ed7f",
   "metadata": {},
   "source": [
    "<b>1. What exactly is `[ ]`?</b>\n",
    "\n",
    "<b>Answer:</b> This is the symbol for an empty list (a list with no elements in it). "
   ]
  },
  {
   "cell_type": "markdown",
   "id": "83a64fa7",
   "metadata": {},
   "source": [
    "<b>2. In a list of values stored in a variable called spam, how would you assign the value 'hello' as the third value? (Assume [2, 4, 6, 8, 10] are in spam.)</b>\n",
    "\n",
    "<b>Answer:</b>"
   ]
  },
  {
   "cell_type": "code",
   "execution_count": 1,
   "id": "fdb49736",
   "metadata": {},
   "outputs": [],
   "source": [
    "spam=[2,4,6,8,10]"
   ]
  },
  {
   "cell_type": "code",
   "execution_count": 2,
   "id": "2162017f",
   "metadata": {},
   "outputs": [],
   "source": [
    "# to assign the value 'hello' at the third location, i will use following command:\n",
    "spam[2]='hello' # I am inserting 'hello' and 2nd index which is the third position in the given list."
   ]
  },
  {
   "cell_type": "code",
   "execution_count": 3,
   "id": "00b033bb",
   "metadata": {},
   "outputs": [
    {
     "data": {
      "text/plain": [
       "[2, 4, 'hello', 8, 10]"
      ]
     },
     "execution_count": 3,
     "metadata": {},
     "output_type": "execute_result"
    }
   ],
   "source": [
    "spam"
   ]
  },
  {
   "cell_type": "markdown",
   "id": "4a79b962",
   "metadata": {},
   "source": [
    "<b>Let's pretend the spam includes the list ['a', 'b', 'c', 'd'] for the next three queries.</b>"
   ]
  },
  {
   "cell_type": "markdown",
   "id": "68276d1e",
   "metadata": {},
   "source": [
    "<b>3. What is the value of spam[int(int('3' * 2) / 11)]?</b>\n",
    "\n",
    "<b>Answer:</b> Please refer below:"
   ]
  },
  {
   "cell_type": "code",
   "execution_count": 7,
   "id": "63389460",
   "metadata": {},
   "outputs": [
    {
     "data": {
      "text/plain": [
       "'d'"
      ]
     },
     "execution_count": 7,
     "metadata": {},
     "output_type": "execute_result"
    }
   ],
   "source": [
    "spam=['a','b','c','d']\n",
    "spam[int(int('3'*2)/11)] # integer value of '3'*2 is 33. Integer value of 33/11 is 3. spam[3] means the element found at \n",
    "# index 3 of the list ['a','b','c','d'] which is element 'd'."
   ]
  },
  {
   "cell_type": "markdown",
   "id": "49d012e9",
   "metadata": {},
   "source": [
    "<b>4. What is the value of spam[-1]?</b>\n",
    "\n",
    "<b>Answer:</b> Please refer below:"
   ]
  },
  {
   "cell_type": "code",
   "execution_count": 8,
   "id": "4897ccd3",
   "metadata": {},
   "outputs": [
    {
     "data": {
      "text/plain": [
       "'d'"
      ]
     },
     "execution_count": 8,
     "metadata": {},
     "output_type": "execute_result"
    }
   ],
   "source": [
    "spam[-1] # This gives the element at -1 index of the list spam. -1 is the first element considered from right \n",
    "# end of the list."
   ]
  },
  {
   "cell_type": "markdown",
   "id": "048fea30",
   "metadata": {},
   "source": [
    "<b>5. What is the value of spam[:2]?</b>\n",
    "\n",
    "<b>Answer:</b> Please refer below:"
   ]
  },
  {
   "cell_type": "code",
   "execution_count": 71,
   "id": "28841e53",
   "metadata": {},
   "outputs": [
    {
     "data": {
      "text/plain": [
       "['a', 'b']"
      ]
     },
     "execution_count": 71,
     "metadata": {},
     "output_type": "execute_result"
    }
   ],
   "source": [
    "spam[:2] # these gives the element starting from index 0 of the list spam till index 2 \n",
    "# (element at index 2 is not considered)"
   ]
  },
  {
   "cell_type": "markdown",
   "id": "1036ea4b",
   "metadata": {},
   "source": [
    "<b>Let's pretend bacon has the list [3.14, 'cat,' 11, 'cat,' True] for the next three questions.</b>"
   ]
  },
  {
   "cell_type": "code",
   "execution_count": 10,
   "id": "83c02796",
   "metadata": {},
   "outputs": [],
   "source": [
    "bacon=[3.14,'cat',11,'cat',True]"
   ]
  },
  {
   "cell_type": "markdown",
   "id": "d0104372",
   "metadata": {},
   "source": [
    "<b>6. What is the value of bacon.index('cat')?</b>\n",
    "\n",
    "<b>Answer:</b> Please refer below:"
   ]
  },
  {
   "cell_type": "code",
   "execution_count": 11,
   "id": "02337789",
   "metadata": {},
   "outputs": [
    {
     "data": {
      "text/plain": [
       "1"
      ]
     },
     "execution_count": 11,
     "metadata": {},
     "output_type": "execute_result"
    }
   ],
   "source": [
    "bacon.index('cat') #this gives the index of first occurence of the string 'cat'"
   ]
  },
  {
   "cell_type": "markdown",
   "id": "7439bed2",
   "metadata": {},
   "source": [
    "<b>7. How does bacon.append(99) change the look of the list value in bacon?</b>\n",
    "\n",
    "<b>Answer:</b> Please refer below:"
   ]
  },
  {
   "cell_type": "code",
   "execution_count": 27,
   "id": "3cc1c2b8",
   "metadata": {},
   "outputs": [],
   "source": [
    "bacon=[3.14,'cat',11,'cat',True]"
   ]
  },
  {
   "cell_type": "code",
   "execution_count": 28,
   "id": "6a01257a",
   "metadata": {},
   "outputs": [
    {
     "data": {
      "text/plain": [
       "[3.14, 'cat', 11, 'cat', True, 99]"
      ]
     },
     "execution_count": 28,
     "metadata": {},
     "output_type": "execute_result"
    }
   ],
   "source": [
    "bacon.append(99)\n",
    "bacon"
   ]
  },
  {
   "cell_type": "markdown",
   "id": "51fbf615",
   "metadata": {},
   "source": [
    "<b>8. How does bacon.remove('cat') change the look of the list in bacon?</b>\n",
    "\n",
    "<b>Answer:</b> Please refer below:"
   ]
  },
  {
   "cell_type": "code",
   "execution_count": 29,
   "id": "4d53e8c6",
   "metadata": {},
   "outputs": [],
   "source": [
    "bacon.remove('cat') # This removes first occurence of the string 'cat' from the list bacon."
   ]
  },
  {
   "cell_type": "code",
   "execution_count": 30,
   "id": "d6eedabb",
   "metadata": {},
   "outputs": [
    {
     "data": {
      "text/plain": [
       "[3.14, 11, 'cat', True, 99]"
      ]
     },
     "execution_count": 30,
     "metadata": {},
     "output_type": "execute_result"
    }
   ],
   "source": [
    "bacon"
   ]
  },
  {
   "cell_type": "markdown",
   "id": "181bfd04",
   "metadata": {},
   "source": [
    "<b>9. What are the list concatenation and list replication operators?</b>\n",
    "<b>Answer: </b> The operator for list concatenation is `+` and the operator for list replication is `*`. # Please refer\n",
    "    #example below:"
   ]
  },
  {
   "cell_type": "code",
   "execution_count": 31,
   "id": "45741487",
   "metadata": {},
   "outputs": [
    {
     "data": {
      "text/plain": [
       "['a', 'b', 'c', 'd', 'e', 'f', 'g']"
      ]
     },
     "execution_count": 31,
     "metadata": {},
     "output_type": "execute_result"
    }
   ],
   "source": [
    "list_1=['a','b','c','d']\n",
    "list_2=['e','f','g']\n",
    "list_1+list_2 #contatination operation "
   ]
  },
  {
   "cell_type": "code",
   "execution_count": 32,
   "id": "508badff",
   "metadata": {},
   "outputs": [
    {
     "data": {
      "text/plain": [
       "['a', 'b', 'c', 'd', 'a', 'b', 'c', 'd']"
      ]
     },
     "execution_count": 32,
     "metadata": {},
     "output_type": "execute_result"
    }
   ],
   "source": [
    "list_1*2 #replication operation of list_1"
   ]
  },
  {
   "cell_type": "markdown",
   "id": "58930b04",
   "metadata": {},
   "source": [
    "<b>10. What is difference between the list methods append() and insert()?<b>\n",
    "\n",
    "<b>Answer:</b> The append method appends an element at the end of a list whereas the insert method can be used to insert any element at a partical location. The following example illustrates this:"
   ]
  },
  {
   "cell_type": "code",
   "execution_count": 49,
   "id": "c0c08af1",
   "metadata": {},
   "outputs": [
    {
     "data": {
      "text/plain": [
       "['a', 'b', 'c', 'd', 'hello']"
      ]
     },
     "execution_count": 49,
     "metadata": {},
     "output_type": "execute_result"
    }
   ],
   "source": [
    "list_1=['a','b','c','d']\n",
    "list_1.append('hello')# this operation appends the string 'hello' at the end of the list.\n",
    "list_1"
   ]
  },
  {
   "cell_type": "code",
   "execution_count": 50,
   "id": "9d5bca88",
   "metadata": {},
   "outputs": [
    {
     "data": {
      "text/plain": [
       "['a', 'b', 'iNeuron', 'c', 'd', 'hello']"
      ]
     },
     "execution_count": 50,
     "metadata": {},
     "output_type": "execute_result"
    }
   ],
   "source": [
    "list_1.insert(2,\"iNeuron\") # this operation inserts word 'iNeuron' at index 2 of the list.\n",
    "list_1"
   ]
  },
  {
   "cell_type": "markdown",
   "id": "cc7bba49",
   "metadata": {},
   "source": [
    "<b>11. What are the two methods for removing items from a list?</b>\n",
    "    \n",
    "<b>Answer:</b> There are many methods to remove items from a list. They are `pop` and `del`,`remove`,`clear`. Please refer examples below:"
   ]
  },
  {
   "cell_type": "code",
   "execution_count": 42,
   "id": "e4aeea2d",
   "metadata": {},
   "outputs": [
    {
     "data": {
      "text/plain": [
       "'a'"
      ]
     },
     "execution_count": 42,
     "metadata": {},
     "output_type": "execute_result"
    }
   ],
   "source": [
    "list_1=['a','b','c','d']\n",
    "list_1.pop(0) # This operation removes the element at the mentioned index in the pop command.Here it has removed\n",
    " # element from index 0 in list_1.\n"
   ]
  },
  {
   "cell_type": "code",
   "execution_count": 47,
   "id": "31728405",
   "metadata": {},
   "outputs": [
    {
     "data": {
      "text/plain": [
       "[]"
      ]
     },
     "execution_count": 47,
     "metadata": {},
     "output_type": "execute_result"
    }
   ],
   "source": [
    "list_1.remove('b') # We can use `remove` command to remove a particular element in the given list.\n",
    "list_1"
   ]
  },
  {
   "cell_type": "code",
   "execution_count": 46,
   "id": "16477392",
   "metadata": {},
   "outputs": [
    {
     "data": {
      "text/plain": [
       "['b']"
      ]
     },
     "execution_count": 46,
     "metadata": {},
     "output_type": "execute_result"
    }
   ],
   "source": [
    "del list_1[1] # We can remove an element at a particular index by using `del` method.\n",
    "list_1"
   ]
  },
  {
   "cell_type": "code",
   "execution_count": 48,
   "id": "e594ca7c",
   "metadata": {},
   "outputs": [
    {
     "data": {
      "text/plain": [
       "['e', 'h', 'i', 'j', 'k']"
      ]
     },
     "execution_count": 48,
     "metadata": {},
     "output_type": "execute_result"
    }
   ],
   "source": [
    "list_2=['e','f','g','h','i','j','k'] # we can also delete a series of elements by using del command.\n",
    "del list_2[1:3] # here the elements from index 1 and index 2 are deleted from the list.\n",
    "list_2"
   ]
  },
  {
   "cell_type": "markdown",
   "id": "9862b329",
   "metadata": {},
   "source": [
    "<b>12. Describe how list values and string values are identical.</b>\n",
    "    \n",
    "<b>Answer:</b> The list values and string values are identical in following ways:\n",
    "1. They both can be passed to len() function.\n",
    "2. They both have indexes and can be sliced within a given index range.\n",
    "3. They both can be used in 'for' loops.\n",
    "4. They both can be concatinated as well as replicated.\n",
    "5. We can use `in` operator and `not in` operators in both list values and in string values."
   ]
  },
  {
   "cell_type": "code",
   "execution_count": 51,
   "id": "387743cc",
   "metadata": {},
   "outputs": [
    {
     "data": {
      "text/plain": [
       "11"
      ]
     },
     "execution_count": 51,
     "metadata": {},
     "output_type": "execute_result"
    }
   ],
   "source": [
    "list_1=['a','b','c','d','e','f','g','h','i','j','k'] # finding length of a list.\n",
    "len(list_1)"
   ]
  },
  {
   "cell_type": "code",
   "execution_count": 52,
   "id": "5c5c0cb6",
   "metadata": {},
   "outputs": [
    {
     "data": {
      "text/plain": [
       "7"
      ]
     },
     "execution_count": 52,
     "metadata": {},
     "output_type": "execute_result"
    }
   ],
   "source": [
    "a='iNeuron'# finding length of a string.\n",
    "len(a)"
   ]
  },
  {
   "cell_type": "code",
   "execution_count": 54,
   "id": "60ce13d5",
   "metadata": {},
   "outputs": [
    {
     "data": {
      "text/plain": [
       "['a', 'f', 'g', 'h', 'i', 'j', 'k']"
      ]
     },
     "execution_count": 54,
     "metadata": {},
     "output_type": "execute_result"
    }
   ],
   "source": [
    "del list_1[1:3] # Deleting elements from a list or slicing a list.\n",
    "list_1"
   ]
  },
  {
   "cell_type": "code",
   "execution_count": 56,
   "id": "4a936147",
   "metadata": {},
   "outputs": [
    {
     "data": {
      "text/plain": [
       "'Neur'"
      ]
     },
     "execution_count": 56,
     "metadata": {},
     "output_type": "execute_result"
    }
   ],
   "source": [
    "a[1:5] # Slicing elements from a string."
   ]
  },
  {
   "cell_type": "code",
   "execution_count": 57,
   "id": "0ad3d5fa",
   "metadata": {},
   "outputs": [
    {
     "name": "stdout",
     "output_type": "stream",
     "text": [
      "a b c d e f g h i j k "
     ]
    }
   ],
   "source": [
    "list_1=['a','b','c','d','e','f','g','h','i','j','k']\n",
    "for i in list_1: # implementing for loop in a list.\n",
    "    print(i,end=\" \")"
   ]
  },
  {
   "cell_type": "code",
   "execution_count": 58,
   "id": "66aae6e9",
   "metadata": {},
   "outputs": [
    {
     "name": "stdout",
     "output_type": "stream",
     "text": [
      "i N e u r o n "
     ]
    }
   ],
   "source": [
    "a='iNeuron'\n",
    "for i in a: # implementing for loop in a string.\n",
    "    print(i,end=' ')"
   ]
  },
  {
   "cell_type": "code",
   "execution_count": 59,
   "id": "e1ccaeab",
   "metadata": {},
   "outputs": [
    {
     "data": {
      "text/plain": [
       "[1, 2, 3, 4, 5, 6]"
      ]
     },
     "execution_count": 59,
     "metadata": {},
     "output_type": "execute_result"
    }
   ],
   "source": [
    "list_1=[1,2,3]\n",
    "list_2=[4,5,6]\n",
    "list_1+list_2 #concatinating lists."
   ]
  },
  {
   "cell_type": "code",
   "execution_count": 60,
   "id": "01163264",
   "metadata": {},
   "outputs": [
    {
     "data": {
      "text/plain": [
       "'iNeuronfsds'"
      ]
     },
     "execution_count": 60,
     "metadata": {},
     "output_type": "execute_result"
    }
   ],
   "source": [
    "a='iNeuron'\n",
    "b=\"fsds\"\n",
    "a+b # concatinating strings."
   ]
  },
  {
   "cell_type": "code",
   "execution_count": 61,
   "id": "e91bc549",
   "metadata": {},
   "outputs": [
    {
     "data": {
      "text/plain": [
       "[1, 2, 3, 1, 2, 3]"
      ]
     },
     "execution_count": 61,
     "metadata": {},
     "output_type": "execute_result"
    }
   ],
   "source": [
    "list_1*2 # replicating a list."
   ]
  },
  {
   "cell_type": "code",
   "execution_count": 62,
   "id": "7ff152f8",
   "metadata": {},
   "outputs": [
    {
     "data": {
      "text/plain": [
       "'iNeuroniNeuron'"
      ]
     },
     "execution_count": 62,
     "metadata": {},
     "output_type": "execute_result"
    }
   ],
   "source": [
    "a*2 # replicating a string."
   ]
  },
  {
   "cell_type": "code",
   "execution_count": 63,
   "id": "b8d8ccd2",
   "metadata": {},
   "outputs": [
    {
     "data": {
      "text/plain": [
       "True"
      ]
     },
     "execution_count": 63,
     "metadata": {},
     "output_type": "execute_result"
    }
   ],
   "source": [
    "1 in list_1 # using `in` method to find if an element exists in the given list."
   ]
  },
  {
   "cell_type": "code",
   "execution_count": 65,
   "id": "e0f76141",
   "metadata": {},
   "outputs": [
    {
     "data": {
      "text/plain": [
       "True"
      ]
     },
     "execution_count": 65,
     "metadata": {},
     "output_type": "execute_result"
    }
   ],
   "source": [
    "10 not in list_1 # using 'not in' method in a list."
   ]
  },
  {
   "cell_type": "code",
   "execution_count": 67,
   "id": "57cc52ea",
   "metadata": {},
   "outputs": [
    {
     "data": {
      "text/plain": [
       "True"
      ]
     },
     "execution_count": 67,
     "metadata": {},
     "output_type": "execute_result"
    }
   ],
   "source": [
    " 'i' in a # checking if an element exists in a string"
   ]
  },
  {
   "cell_type": "code",
   "execution_count": 68,
   "id": "612ff53a",
   "metadata": {},
   "outputs": [
    {
     "data": {
      "text/plain": [
       "True"
      ]
     },
     "execution_count": 68,
     "metadata": {},
     "output_type": "execute_result"
    }
   ],
   "source": [
    "'z' not in a # checking if an element does not exist in a string"
   ]
  },
  {
   "cell_type": "markdown",
   "id": "e8cde7d6",
   "metadata": {},
   "source": [
    "<b>13. What's the difference between tuples and lists?</b>\n",
    "<b>Answer:</b> The main difference between tuples and lists is that tuples are `immutable` whereas the lists are `mutable`. Tuples are represented by `()` whereas the list is represented by `[]`. It is important to note that both lists and tuples are `indexable` and `slicable`. "
   ]
  },
  {
   "cell_type": "markdown",
   "id": "144d3c97",
   "metadata": {},
   "source": [
    "<b>14. How do you type a tuple value that only contains the integer 42?</b>\n",
    "    \n",
    "<b>Answer:</b> We have to use a comman after 42 if we want the data type to be a tuple. Otherwise the data type is considered as an integer. Please refer below:"
   ]
  },
  {
   "cell_type": "code",
   "execution_count": 69,
   "id": "2421e4ae",
   "metadata": {},
   "outputs": [
    {
     "data": {
      "text/plain": [
       "int"
      ]
     },
     "execution_count": 69,
     "metadata": {},
     "output_type": "execute_result"
    }
   ],
   "source": [
    "x=(42) # with only a single integer, the type class is int\n",
    "type(x)\n"
   ]
  },
  {
   "cell_type": "code",
   "execution_count": 70,
   "id": "3da39d36",
   "metadata": {},
   "outputs": [
    {
     "data": {
      "text/plain": [
       "tuple"
      ]
     },
     "execution_count": 70,
     "metadata": {},
     "output_type": "execute_result"
    }
   ],
   "source": [
    "y=(42,) # with only a single integer followed by a comma, the type class is tuple.\n",
    "type(y)\n"
   ]
  },
  {
   "cell_type": "markdown",
   "id": "aaacda60",
   "metadata": {},
   "source": [
    "<b>15. How do you get a list value's tuple form? How do you get a tuple value's list form?</b>\n",
    "<b>Answer:</b> We have to use tuple() and list() functions. Please refer below:\n"
   ]
  },
  {
   "cell_type": "code",
   "execution_count": 74,
   "id": "f2718428",
   "metadata": {},
   "outputs": [
    {
     "data": {
      "text/plain": [
       "(1, 2, 3)"
      ]
     },
     "execution_count": 74,
     "metadata": {},
     "output_type": "execute_result"
    }
   ],
   "source": [
    "list_1=[1,2,3]\n",
    "b=tuple(list_1) # changing list to a tuple.\n",
    "b"
   ]
  },
  {
   "cell_type": "code",
   "execution_count": 75,
   "id": "bc8e84af",
   "metadata": {},
   "outputs": [
    {
     "data": {
      "text/plain": [
       "[5, 6, 7, 8]"
      ]
     },
     "execution_count": 75,
     "metadata": {},
     "output_type": "execute_result"
    }
   ],
   "source": [
    "a=(5,6,7,8)\n",
    "c=list(a) # changing tuple to a list.\n",
    "c"
   ]
  },
  {
   "cell_type": "markdown",
   "id": "0d41332b",
   "metadata": {},
   "source": [
    "<b>16. Variables that \"contain\" list values are not necessarily lists themselves. Instead, what do they contain?</b>\n",
    "\n",
    "\n",
    "<b>Answer</b> Variables that 'contain' list contain references to list value."
   ]
  },
  {
   "cell_type": "markdown",
   "id": "bb82f19c",
   "metadata": {},
   "source": [
    "<b>17. How do you distinguish between copy.copy() and copy.deepcopy()?</b>\n",
    "<b>Answer:</b> A shallow copy creates a new object which stores the reference of the original elements. A deep copy creates a new object and recursively adds the copies of nested objects present in the original elements. Please see example below:"
   ]
  },
  {
   "cell_type": "code",
   "execution_count": 76,
   "id": "85c01b7d",
   "metadata": {},
   "outputs": [],
   "source": [
    "import copy\n",
    "old_list=[[1,2,3],[4,5],[8,9]]\n",
    "new_list=copy.copy(old_list)"
   ]
  },
  {
   "cell_type": "code",
   "execution_count": 77,
   "id": "ad99c92a",
   "metadata": {},
   "outputs": [
    {
     "name": "stdout",
     "output_type": "stream",
     "text": [
      "Old list:  [[1, 2, 3], [4, 5], [8, 9]]\n"
     ]
    }
   ],
   "source": [
    "print(\"Old list: \",old_list)"
   ]
  },
  {
   "cell_type": "code",
   "execution_count": 78,
   "id": "cac4eae3",
   "metadata": {},
   "outputs": [
    {
     "name": "stdout",
     "output_type": "stream",
     "text": [
      "New list:  [[1, 2, 3], [4, 5], [8, 9]]\n"
     ]
    }
   ],
   "source": [
    "print(\"New list: \",new_list)"
   ]
  },
  {
   "cell_type": "code",
   "execution_count": 79,
   "id": "d6a33752",
   "metadata": {},
   "outputs": [],
   "source": [
    "old_list.append([99,100,105])"
   ]
  },
  {
   "cell_type": "code",
   "execution_count": 80,
   "id": "841e9c5c",
   "metadata": {},
   "outputs": [
    {
     "data": {
      "text/plain": [
       "[[1, 2, 3], [4, 5], [8, 9], [99, 100, 105]]"
      ]
     },
     "execution_count": 80,
     "metadata": {},
     "output_type": "execute_result"
    }
   ],
   "source": [
    "old_list"
   ]
  },
  {
   "cell_type": "code",
   "execution_count": 81,
   "id": "7ff61aa0",
   "metadata": {},
   "outputs": [
    {
     "data": {
      "text/plain": [
       "[[1, 2, 3], [4, 5], [8, 9]]"
      ]
     },
     "execution_count": 81,
     "metadata": {},
     "output_type": "execute_result"
    }
   ],
   "source": [
    "new_list"
   ]
  },
  {
   "cell_type": "markdown",
   "id": "8e8ae64b",
   "metadata": {},
   "source": [
    "In the above program, we created a shallow copy of old_list. The new_list contains references to original nested objects stored in old_list. Then we add the new list i.e [99, 100, 105] into old_list. This new sublist was not copied in new_list. However, when you change any nested objects in old_list, the changes appear in new_list.\n"
   ]
  },
  {
   "cell_type": "code",
   "execution_count": 82,
   "id": "998ba72f",
   "metadata": {},
   "outputs": [
    {
     "name": "stdout",
     "output_type": "stream",
     "text": [
      "Old list:  [[1, 2, 3], [4, 'Hello'], [8, 9]]\n"
     ]
    }
   ],
   "source": [
    "import copy\n",
    "old_list=[[1,2,3],[4,5],[8,9]]\n",
    "new_list=copy.copy(old_list)\n",
    "old_list[1][1]='Hello'\n",
    "print(\"Old list: \",old_list)\n"
   ]
  },
  {
   "cell_type": "code",
   "execution_count": 83,
   "id": "eb8d2998",
   "metadata": {},
   "outputs": [
    {
     "name": "stdout",
     "output_type": "stream",
     "text": [
      "New list:  [[1, 2, 3], [4, 'Hello'], [8, 9]]\n"
     ]
    }
   ],
   "source": [
    "print(\"New list: \",new_list)"
   ]
  },
  {
   "cell_type": "markdown",
   "id": "3bc2663b",
   "metadata": {},
   "source": [
    "In the above program, we made changes to old_list i.e old_list[1][1] = 'Hello'. Both sublists of old_list and new_list at index [1][1] were modified. This is because, both lists share the reference of same nested objects."
   ]
  },
  {
   "cell_type": "code",
   "execution_count": 86,
   "id": "b35f2f9b",
   "metadata": {},
   "outputs": [
    {
     "name": "stdout",
     "output_type": "stream",
     "text": [
      "Old list:  [[1, 2, 3], [4, 5], [8, 9]]\n"
     ]
    }
   ],
   "source": [
    "import copy\n",
    "old_list=[[1,2,3],[4,5],[8,9]]\n",
    "new_list=copy.deepcopy(old_list)\n",
    "print(\"Old list: \",old_list)\n"
   ]
  },
  {
   "cell_type": "code",
   "execution_count": 87,
   "id": "8cde320c",
   "metadata": {},
   "outputs": [
    {
     "name": "stdout",
     "output_type": "stream",
     "text": [
      "New list:  [[1, 2, 3], [4, 5], [8, 9]]\n"
     ]
    }
   ],
   "source": [
    "print(\"New list: \",new_list)"
   ]
  },
  {
   "cell_type": "markdown",
   "id": "e9d04f81",
   "metadata": {},
   "source": [
    "In the above program, I have used deepcopy() function to create copy which looks similar.\n",
    "\n",
    "However, if I make changes to any nested objects in original object old_list, I will see no changes to the copy new_list."
   ]
  },
  {
   "cell_type": "code",
   "execution_count": 88,
   "id": "7d8a6efb",
   "metadata": {},
   "outputs": [
    {
     "name": "stdout",
     "output_type": "stream",
     "text": [
      "Old list: [[1, 2, 3], ['iNeuron', 5], [8, 9]]\n"
     ]
    }
   ],
   "source": [
    "import copy\n",
    "\n",
    "old_list=[[1,2,3],[4,5],[8,9]]\n",
    "new_list = copy.deepcopy(old_list)\n",
    "\n",
    "old_list[1][0] = 'iNeuron'\n",
    "\n",
    "print(\"Old list:\", old_list)\n"
   ]
  },
  {
   "cell_type": "code",
   "execution_count": 89,
   "id": "77b24dd5",
   "metadata": {},
   "outputs": [
    {
     "name": "stdout",
     "output_type": "stream",
     "text": [
      "New list: [[1, 2, 3], [4, 5], [8, 9]]\n"
     ]
    }
   ],
   "source": [
    "print(\"New list:\", new_list)"
   ]
  },
  {
   "cell_type": "markdown",
   "id": "45f7c242",
   "metadata": {},
   "source": [
    "In the above program, when I assign a new value to old_list, I can see only the old_list is modified. This means, both the old_list and the new_list are independent. This is because the old_list was recursively copied, which is true for all its nested objects."
   ]
  },
  {
   "cell_type": "code",
   "execution_count": null,
   "id": "237526ea",
   "metadata": {},
   "outputs": [],
   "source": []
  }
 ],
 "metadata": {
  "kernelspec": {
   "display_name": "Python 3 (ipykernel)",
   "language": "python",
   "name": "python3"
  },
  "language_info": {
   "codemirror_mode": {
    "name": "ipython",
    "version": 3
   },
   "file_extension": ".py",
   "mimetype": "text/x-python",
   "name": "python",
   "nbconvert_exporter": "python",
   "pygments_lexer": "ipython3",
   "version": "3.9.13"
  }
 },
 "nbformat": 4,
 "nbformat_minor": 5
}
