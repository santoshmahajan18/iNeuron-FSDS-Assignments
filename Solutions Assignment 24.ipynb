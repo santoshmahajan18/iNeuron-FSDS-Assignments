{
 "cells": [
  {
   "cell_type": "markdown",
   "id": "88e3dd3c",
   "metadata": {},
   "source": [
    "# Solutions Assignment 24"
   ]
  },
  {
   "cell_type": "markdown",
   "id": "d006784f",
   "metadata": {},
   "source": [
    "1. What is the relationship between def statements and lambda expressions ?\n",
    "\n",
    "**Answer:** `def` statement is used to create a normal function. Whereas `lamba` expressions are used to create Anonymous functions. which can be assigned to a variable and can be called using the variable later in function.\n",
    "\n",
    "Lambda's body is a single expression and not a block of statements like def statement. The lambda expression's body is similar to what we'd put in a def body's return statement. We simply type the result as an expression instead of explicitly returning it. Because it is limited to an expression, a lambda is less general than a def statement. \n",
    "\n",
    "Please refer examples below:"
   ]
  },
  {
   "cell_type": "code",
   "execution_count": 15,
   "id": "cc95ad88",
   "metadata": {},
   "outputs": [
    {
     "name": "stdout",
     "output_type": "stream",
     "text": [
      "Area of rectangle:  30\n"
     ]
    }
   ],
   "source": [
    "# example of def statement\n",
    "def rectangle_area(length,breadth):\n",
    "    return length * breadth\n",
    "area= rectangle_area(5,6)\n",
    "print(\"Area of rectangle: \",area)"
   ]
  },
  {
   "cell_type": "code",
   "execution_count": 14,
   "id": "b1288cc4",
   "metadata": {},
   "outputs": [
    {
     "name": "stdout",
     "output_type": "stream",
     "text": [
      "Aread of rectangle:  30\n"
     ]
    }
   ],
   "source": [
    "# example of lambda statement\n",
    "rectangle_area=lambda x,y: x*y\n",
    "print(\"Aread of rectangle: \",rectangle_area(5,6))"
   ]
  },
  {
   "cell_type": "markdown",
   "id": "15598907",
   "metadata": {},
   "source": [
    "#### 2. What is the benefit of lambda?"
   ]
  },
  {
   "cell_type": "markdown",
   "id": "be826f90",
   "metadata": {},
   "source": [
    "**Answer:** Following are benefits of lambda expressions:\n",
    "\n",
    "    1. Supports single line statements that returns some value.\n",
    "    \n",
    "    2. They are generally used when a function is needed temporarily for a short period of time, often to be used inside another function such as `filter`, `map` and `reduce`.\n",
    "    \n",
    "    3. Using lambda function, one can define a function and call it immediately at the end of definition. This can’t be done with `def` functions."
   ]
  },
  {
   "cell_type": "markdown",
   "id": "833a98bb",
   "metadata": {},
   "source": [
    "#### 3. Compare and contrast map, filter, and reduce.\n",
    "\n",
    "#### Answer:\n",
    "\n",
    "1. map(): The map() function is a type of higher-order. map() function returns a map object(which is an iterator) of the results after applying the given function to each item of a given iterable (list, tuple etc.)\n",
    "\n",
    "2. filter(): The filter() method filters the given sequence with the help of a function that tests each element in the sequence to be true or not.\n",
    "\n",
    "3. reduce(): The reduce() function, as the name describes, applies a given function to the iterables and returns a single value."
   ]
  },
  {
   "cell_type": "code",
   "execution_count": 17,
   "id": "5c399f88",
   "metadata": {},
   "outputs": [
    {
     "name": "stdout",
     "output_type": "stream",
     "text": [
      "[1, 4, 9, 16]\n"
     ]
    }
   ],
   "source": [
    "# Python program to demonstrate working of map.\n",
    "# map(function, iterable)\n",
    "# Return square of n\n",
    "def square(n):\n",
    "    return n * n\n",
    "  \n",
    "# We square all numbers using map()\n",
    "numbers = (1, 2, 3, 4)\n",
    "result = map(square, numbers)\n",
    "print(list(result))\n"
   ]
  },
  {
   "cell_type": "code",
   "execution_count": 23,
   "id": "11271497",
   "metadata": {},
   "outputs": [
    {
     "name": "stdout",
     "output_type": "stream",
     "text": [
      "The filtered letters are: \n",
      "c p "
     ]
    }
   ],
   "source": [
    "# Python program to demonstrate working of filter.\n",
    "# function that filters selected letters\n",
    "\n",
    "def func(variable):\n",
    "    letters=['b','c','f','m','p']\n",
    "    \n",
    "    if (variable in letters):\n",
    "        return True\n",
    "    else:\n",
    "        return False\n",
    "    \n",
    "sequence=['a','c','d','g','h','i','n','o','p','q','v','x','y','z']\n",
    "\n",
    "# using filter function\n",
    "filtered = filter(func, sequence)\n",
    "print(\"The filtered letters are: \")\n",
    "for s in filtered:\n",
    "    print(s,end=\" \")"
   ]
  },
  {
   "cell_type": "code",
   "execution_count": 24,
   "id": "9d34f62b",
   "metadata": {},
   "outputs": [
    {
     "name": "stdout",
     "output_type": "stream",
     "text": [
      "The sum of all the elements in the list is: 174\n"
     ]
    }
   ],
   "source": [
    "# Python program to demonstrate working of reduce\n",
    "# importing functools for reduce()\n",
    "import functools\n",
    " # initializing list\n",
    "my_list = [1, 3, 5, 6, 2,12,23,34,43,4,13,28]\n",
    "\n",
    "#using reduce to compute sum of the list\n",
    "print(\"The sum of all the elements in the list is: \",end='')\n",
    "print(functools.reduce(lambda a,b:a+b,my_list))"
   ]
  },
  {
   "cell_type": "code",
   "execution_count": 25,
   "id": "863a44bf",
   "metadata": {},
   "outputs": [
    {
     "name": "stdout",
     "output_type": "stream",
     "text": [
      "The minimum element of the list is: 1\n"
     ]
    }
   ],
   "source": [
    "# using reduce function to compute minimum number from the list\n",
    "print(\"The minimum element of the list is: \", end='')\n",
    "print(functools.reduce(lambda a,b: a if a < b else b,my_list))"
   ]
  },
  {
   "cell_type": "markdown",
   "id": "becd8c94",
   "metadata": {},
   "source": [
    "#### 4. What are function annotations, and how are they used?\n",
    "\n",
    "**Answer:**  Function annotations are arbitrary python expressions that are associated with various part of functions. These expressions are evaluated at compile time and have no life in python’s runtime environment. Python does not attach any meaning to these annotations. They take life when interpreted by third party libraries, for example, mypy.\n",
    "\n",
    "The annotations for excess parameters are as − def func (**args: expression, **kwargs: expression)"
   ]
  },
  {
   "cell_type": "markdown",
   "id": "288d85c0",
   "metadata": {},
   "source": [
    "#### 5. What are recursive functions, and how are they used?\n",
    "\n",
    "**Answer:**  A recursive function is a function that calls itself during its execution either directly or indirectly. The process may repeat several times, outputting the result at the end of each iteration."
   ]
  },
  {
   "cell_type": "markdown",
   "id": "8aa5b5e3",
   "metadata": {},
   "source": [
    "#### 6. What are some general design guidelines for coding functions?\n",
    "\n",
    "**Answer:**  Some of the general design guidelines for coding functions are:\n",
    "\n",
    "1. Always use a docstring to explain the functionality of the function.\n",
    "2. Avoid using global variables or use them sparingly.\n",
    "3. Use proper identation to increase the code readability.\n",
    "4. Try to follow a naming convention for function names (pascalCase or camelCase) and stick with the same convention throughout the application.\n",
    "5. Avoid using digits while choosing a variable name.\n",
    "6. Try to use a name for the function which conveys the purpose of the function.\n",
    "7. Local variables should be named using camelCase format `(ex: localVariable)` whereas Global variables names should be using PascalCase `(ex:GlobalVariable)`. \n",
    "8. Constant should be represented in allcaps `(ex:CONSTANT)`."
   ]
  },
  {
   "cell_type": "markdown",
   "id": "345df969",
   "metadata": {},
   "source": [
    "#### 7. Name three or more ways that functions can communicate results to a caller.\n",
    "\n",
    "**Answer:** Some of the ways in which a function can communicate with the calling function is:\n",
    "\n",
    "print\n",
    "\n",
    "return\n",
    "\n",
    "yield"
   ]
  }
 ],
 "metadata": {
  "kernelspec": {
   "display_name": "Python 3 (ipykernel)",
   "language": "python",
   "name": "python3"
  },
  "language_info": {
   "codemirror_mode": {
    "name": "ipython",
    "version": 3
   },
   "file_extension": ".py",
   "mimetype": "text/x-python",
   "name": "python",
   "nbconvert_exporter": "python",
   "pygments_lexer": "ipython3",
   "version": "3.9.13"
  }
 },
 "nbformat": 4,
 "nbformat_minor": 5
}
