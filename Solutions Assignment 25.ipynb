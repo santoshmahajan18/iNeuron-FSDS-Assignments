{
 "cells": [
  {
   "cell_type": "markdown",
   "id": "2db9e038",
   "metadata": {},
   "source": [
    "# Solutions Assignment 25"
   ]
  },
  {
   "cell_type": "markdown",
   "id": "c1ccf8de",
   "metadata": {},
   "source": [
    "#### 1. What is the difference between enclosing a list comprehension in square brackets and parentheses?\n",
    "\n",
    "**Answer:** Enclosing a list comprehension in square bracket returns a list whereas enclosing a list comprehension in parentheses returns a generator object."
   ]
  },
  {
   "cell_type": "code",
   "execution_count": 14,
   "id": "aabe5e23",
   "metadata": {},
   "outputs": [
    {
     "name": "stdout",
     "output_type": "stream",
     "text": [
      "[0, 1, 2, 3, 4] <class 'list'>\n"
     ]
    }
   ],
   "source": [
    "# code showing list comprehension in square brackets\n",
    "a=range(5)\n",
    "list=[]\n",
    "for i in a:\n",
    "    list.append(i)\n",
    "print(list,type(list))"
   ]
  },
  {
   "cell_type": "code",
   "execution_count": 17,
   "id": "674b8cf8",
   "metadata": {},
   "outputs": [
    {
     "name": "stdout",
     "output_type": "stream",
     "text": [
      "<generator object <genexpr> at 0x000001E14A263F90> <class 'generator'>\n"
     ]
    }
   ],
   "source": [
    "# code showing list comprehension in parentheses\n",
    "gen=(i for i in range(5))\n",
    "print(gen,type(gen))"
   ]
  },
  {
   "cell_type": "markdown",
   "id": "a54d2a24",
   "metadata": {},
   "source": [
    "#### 2. What is the relationship between generators and iterators?"
   ]
  },
  {
   "cell_type": "markdown",
   "id": "0549ba7f",
   "metadata": {},
   "source": [
    "**Iterator:** In Python, an iterator is an object used to iterate over iterable objects such as lists, tuples, dictionaries, and sets. An object is called iterable if we can get an iterator from it or loop over it. Iterators are implemented using a class and a local variable for iterating is not required here, It follows lazy evaluation where the evaluation of the expression will be on hold and stored in the memory until the item is called specifically which helps us to avoid repeated evaluation. As lazy evaluation is implemented, it requires only 1 memory location to process the value and when we are using a large dataset then, wastage of RAM space will be reduced the need to load the entire dataset at the same time will not be there.\n",
    "Using an iterator-\n",
    "\n",
    "* iter() keyword is used to create an iterator containing an iterable object.\n",
    "* next() keyword is used to call the next element in the iterable object.\n",
    "After the iterable object is completed, to use them again reassign them to the same object.\n",
    "\n",
    "**Generators:** It is another way of creating iterators in a simple way where it uses the keyword “yield” instead of returning it in a defined function. Generators are implemented using a function. Just as iterators, generators also follow lazy evaluation. Here, the yield function returns the data without affecting or exiting the function. It will return a sequence of data in an iterable format where we need to iterate over the sequence to use the data as they won’t store the entire sequence in the memory."
   ]
  },
  {
   "cell_type": "code",
   "execution_count": 28,
   "id": "05d0bde7",
   "metadata": {},
   "outputs": [
    {
     "name": "stdout",
     "output_type": "stream",
     "text": [
      "a\n",
      "b\n",
      "c\n",
      "<class 'list_iterator'>\n"
     ]
    }
   ],
   "source": [
    "# code showing an iterator\n",
    "my_list=iter(['a','b','c'])\n",
    "print(next(my_list))\n",
    "print(next(my_list))\n",
    "print(next(my_list))\n",
    "print(type(my_list))"
   ]
  },
  {
   "cell_type": "code",
   "execution_count": 25,
   "id": "2728afbe",
   "metadata": {},
   "outputs": [
    {
     "name": "stdout",
     "output_type": "stream",
     "text": [
      "The square of the numbers 1,2,3 & 4 are: \n",
      "0\n",
      "1\n",
      "4\n",
      "9\n"
     ]
    }
   ],
   "source": [
    "# code showing an generator\n",
    "def square(n):\n",
    "    for i in range(n):\n",
    "        yield i*i\n",
    "        \n",
    "a=square(4)\n",
    "print(\"The square of the numbers 1,2,3 & 4 are: \")\n",
    "print(next(a))\n",
    "print(next(a))\n",
    "print(next(a))\n",
    "print(next(a))"
   ]
  },
  {
   "cell_type": "markdown",
   "id": "fa80e799",
   "metadata": {},
   "source": [
    "A class is used to implement an iterator, whereas a function is used to implement a generator. Every iterator is not a generator but every generator is an iterator.\n"
   ]
  },
  {
   "cell_type": "markdown",
   "id": "e65fcfca",
   "metadata": {},
   "source": [
    "#### 3.What are the signs that a function is a generator function?"
   ]
  },
  {
   "cell_type": "markdown",
   "id": "357f9489",
   "metadata": {},
   "source": [
    "**Answer:** We can only tell it's a generator function by the presence of a yield statement. A yield statement turns a regular function into a generator function. Please refer example of generator function above."
   ]
  },
  {
   "cell_type": "markdown",
   "id": "e767fb66",
   "metadata": {},
   "source": [
    "#### 4. What is the purpose of a yield statement?\n",
    "\n",
    "**Answer:** The yield statement suspends function’s execution and sends a value back to the caller, but retains enough state to enable function to resume where it is left off. When resumed, the function continues execution immediately after the last yield run. This allows its code to produce a series of values over time, rather than computing them at once and sending them back like a list.\n",
    "When we want to return multiple values from a function, you can use generator functions with yield keywords. The yield expressions return multiple values. They return one value, then wait, save the local state, and resume again. "
   ]
  },
  {
   "cell_type": "markdown",
   "id": "7b2b8759",
   "metadata": {},
   "source": [
    "#### 5.What is the relationship between map calls and list comprehensions? Make a comparison and contrast between the two ?\n",
    "\n",
    "**Answer:** \n",
    "* List comprehension has a simpler configuration than the map function.  \n",
    "* List comprehension can be used together with if condition as replacement of filter method. Map function has no such functionality. However, we can feed the map function output to the filter function.  \n",
    "* List comprehension returns a list, whereas the map function returns an object of Iterable.  \n",
    "* List comprehension execution is faster than that of map function when the formula expression is huge and complex. \n",
    "* Map function is faster than list comprehension when the formula is already defined as a function earlier. So, that map function is used without lambda expression. \n",
    "* List comprehension allows filtering. In map, we have no such facility. For example, to print all even numbers in range of 40, we can write [n for n in range(40) if n%2 == 0]. There is no alternate for it in map"
   ]
  },
  {
   "cell_type": "code",
   "execution_count": 30,
   "id": "8eff6348",
   "metadata": {},
   "outputs": [
    {
     "data": {
      "text/plain": [
       "[0, 2, 4, 6, 8, 10, 12, 14, 16, 18, 20, 22, 24, 26, 28, 30, 32, 34, 36, 38]"
      ]
     },
     "execution_count": 30,
     "metadata": {},
     "output_type": "execute_result"
    }
   ],
   "source": [
    "[n for n in range(40) if n%2 == 0] # we can't do this with map function."
   ]
  }
 ],
 "metadata": {
  "kernelspec": {
   "display_name": "Python 3 (ipykernel)",
   "language": "python",
   "name": "python3"
  },
  "language_info": {
   "codemirror_mode": {
    "name": "ipython",
    "version": 3
   },
   "file_extension": ".py",
   "mimetype": "text/x-python",
   "name": "python",
   "nbconvert_exporter": "python",
   "pygments_lexer": "ipython3",
   "version": "3.9.13"
  }
 },
 "nbformat": 4,
 "nbformat_minor": 5
}
