{
 "cells": [
  {
   "cell_type": "markdown",
   "id": "55019ebb",
   "metadata": {},
   "source": [
    "# Solutions Assignment 8"
   ]
  },
  {
   "cell_type": "markdown",
   "id": "841a5ac7",
   "metadata": {},
   "source": [
    "<b>1. Is the Python Standard Library included with PyInputPlus?\n",
    "\n",
    "<b>Answer:</b> No, PyInputPlus is not a part of Python Standard Library. We have to install in using the command !pip install PyInputPlus"
   ]
  },
  {
   "cell_type": "markdown",
   "id": "7c6dc630",
   "metadata": {},
   "source": [
    "<b>2. Why is PyInputPlus commonly imported with import pyinputplus as pypi?\n",
    "\n",
    "<b>Answer:</b>: While importing the module PyInputPlus, I import it as pypi so that I can call a shorter name `pypi` whenever I want to call the module's function."
   ]
  },
  {
   "cell_type": "markdown",
   "id": "4dbb2c65",
   "metadata": {},
   "source": [
    "<b>3. How do you distinguish between inputInt() and inputFloat()?\n",
    "\n",
    "<b>Answer:</b> `inputInt()` function Accepts an integer value. This also takes additional parameters `min`, `max`, `greaterThan` and `lessThan`. `inputInt() always returns an int.\n",
    "\n",
    "Whereas `inputFloat()` function Accepts a floating-point numeric value. this also takes additional `min`, `max`, `greaterThan` and `lessThan` parameters. `inputFloat()`always returns a float."
   ]
  },
  {
   "cell_type": "markdown",
   "id": "cd8d6bad",
   "metadata": {},
   "source": [
    "<b>4. Using PyInputPlus, how do you ensure that the user enters a whole number between 0 and 99?\n",
    "\n",
    "<b>Answer:</b> PyInputPlus provides a function called `inputInt()`. I can use parameters such as `min` and `max` to define a range of values which a user can input. In this particular case, I will define the minimum value as 0 and maximum value as 99. Please see code below:"
   ]
  },
  {
   "cell_type": "code",
   "execution_count": 13,
   "id": "e53473cf",
   "metadata": {},
   "outputs": [
    {
     "name": "stdout",
     "output_type": "stream",
     "text": [
      "Please enter a number: 123\n",
      "Number must be at maximum 100.\n",
      "Please enter a number: 12\n",
      "12\n"
     ]
    }
   ],
   "source": [
    "import pyinputplus as pypi\n",
    "whole_number=pypi.inputInt(\"Please enter a number: \", min=0,max=100)\n",
    "print(whole_number)"
   ]
  },
  {
   "cell_type": "markdown",
   "id": "f4f64479",
   "metadata": {},
   "source": [
    "<b>5. What is transferred to the keyword arguments allowRegexes and blockRegexes?\n",
    "\n",
    "<b>Answer:</b> we can use `allowRegexes` and `blockRegexes` keyword arguments to take list of regular expression strings to determine what the pyinputplus function will reject or accept valid input.Please refer example below:"
   ]
  },
  {
   "cell_type": "code",
   "execution_count": 47,
   "id": "5559ca8f",
   "metadata": {},
   "outputs": [
    {
     "name": "stdout",
     "output_type": "stream",
     "text": [
      "Z\n",
      "'Z' is not a number.\n",
      "A\n"
     ]
    }
   ],
   "source": [
    "import pyinputplus as pypi # Here I am allowing A,B,C to be accepted as numbers.\n",
    "check=pypi.inputNum(allowRegexes=[r'(A|B|C)+'])"
   ]
  },
  {
   "cell_type": "code",
   "execution_count": 22,
   "id": "81e6de88",
   "metadata": {},
   "outputs": [
    {
     "name": "stdout",
     "output_type": "stream",
     "text": [
      "3\n",
      "This response is invalid.\n",
      "12\n"
     ]
    }
   ],
   "source": [
    "import pyinputplus as pypi # Here I am restricting 1, 3, 5, 7 to be accepted as numbers.\n",
    "check1=pypi.inputNum(blockRegexes=[r'[1357]$'])"
   ]
  },
  {
   "cell_type": "markdown",
   "id": "1042bb34",
   "metadata": {},
   "source": [
    "<b>6. If a blank input is entered three times, what does inputStr(limit=3) do?\n",
    "\n",
    "<b>Answer:</b> The inputStr() function is used to take string inputs. If the user answers incorrectly more than 3 times, it raises a RetryLimitException exception. Please refer example below: "
   ]
  },
  {
   "cell_type": "code",
   "execution_count": 27,
   "id": "4fddc921",
   "metadata": {},
   "outputs": [
    {
     "name": "stdout",
     "output_type": "stream",
     "text": [
      "#0: 9 x 4 = 12\n",
      "Incorrect!\n",
      "#0: 9 x 4 = 122\n",
      "Incorrect!\n",
      "#0: 9 x 4 = 15\n",
      "Incorrect!\n",
      "Out of tries!\n",
      "Score: 0 / 2\n"
     ]
    }
   ],
   "source": [
    "import pyinputplus as pyip\n",
    "import random\n",
    "\n",
    "total_questions = 2\n",
    "correct_answers = 0\n",
    "for questionNumber in range(total_questions):\n",
    "    # Pick two random numbers:\n",
    "    num1 = random.randint(0, 9)\n",
    "    num2 = random.randint(0, 9)\n",
    "\n",
    "    prompt = '#%s: %s x %s = ' % (questionNumber, num1, num2)\n",
    "    try:\n",
    "        # Right answers are handled by allowRegexes.\n",
    "        # Wrong answers are handled by blockRegexes, with a custom message.\n",
    "        pyip.inputStr(prompt, allowRegexes=['^%s$' % (num1 * num2)],\n",
    "                              blockRegexes=[('.*', 'Incorrect!')],\n",
    "                              limit=3)\n",
    "\n",
    "    except pyip.RetryLimitException:\n",
    "        print('Out of tries!')\n",
    "        break\n",
    "    else:\n",
    "        # This block runs if no exceptions were raised in the try block.\n",
    "        print('Correct!')\n",
    "        correct_answers += 1\n",
    "        time.sleep(1) # Brief pause to let user see the result.\n",
    "print('Score: %s / %s' % (correct_answers, total_questions))"
   ]
  },
  {
   "cell_type": "markdown",
   "id": "9a6c3967",
   "metadata": {},
   "source": [
    "<b>7. If blank input is entered three times, what does inputStr(limit=3, default='hello') do?\n",
    "\n",
    "<b>Answer:</b> The default value is 'Hello'. After blank input is entered three times instead of raising `RetryLimitException` exception. the function will return hello as response to the calling function."
   ]
  }
 ],
 "metadata": {
  "kernelspec": {
   "display_name": "Python 3 (ipykernel)",
   "language": "python",
   "name": "python3"
  },
  "language_info": {
   "codemirror_mode": {
    "name": "ipython",
    "version": 3
   },
   "file_extension": ".py",
   "mimetype": "text/x-python",
   "name": "python",
   "nbconvert_exporter": "python",
   "pygments_lexer": "ipython3",
   "version": "3.9.13"
  }
 },
 "nbformat": 4,
 "nbformat_minor": 5
}
