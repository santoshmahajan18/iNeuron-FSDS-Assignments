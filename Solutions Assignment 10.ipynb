{
 "cells": [
  {
   "cell_type": "markdown",
   "id": "e7ccd1a1",
   "metadata": {},
   "source": [
    "# Solutions Assignment 10"
   ]
  },
  {
   "cell_type": "markdown",
   "id": "fc2ead19",
   "metadata": {},
   "source": [
    "<b>1. How do you distinguish between shutil.copy() and shutil.copytree()?\n",
    "    \n",
    "<b>Answer:</b> shutil.copy() is a method that is used to copy the contents of a file from one file to another file/folder. It takes two arguments: `src` and `dest`. `sr`c represents the file to be copied where as `dest` destination refers to the file/folder to where the src data should be copied. If dest is a folder name, the src with exact name will be copied to the dest folder. If its a file then the contents of src will be copied to dest where dest will retain it's name.\n",
    "\n",
    "shutil.copytree() function is used to copy the entire contents of a folder to other folder. It also takes two arguments: src and dest. It copies all the content recursively and stores it in dest. The important catch here is dest must not exist prior to this and it will be created during the copy operation. Permissions and times of directories are copied with shutil.copystat() and individual files are copied using shutil.copy2() by default which can be modified using copy_function attribute."
   ]
  },
  {
   "cell_type": "code",
   "execution_count": 4,
   "id": "c3272d71",
   "metadata": {},
   "outputs": [
    {
     "name": "stdout",
     "output_type": "stream",
     "text": [
      "File copied successfully.\n"
     ]
    }
   ],
   "source": [
    "# Python program to explain shutil.copy()\n",
    "import shutil\n",
    "# Source path\n",
    "source = \"C:\\\\Users\\\\sma068\\\\FOLDER 1\\\\file.txt\"\n",
    "# Destination path\n",
    "destination = \"C:\\\\Users\\\\sma068\\\\FOLDER 2\\\\file.txt\"\n",
    "# Copy the content of\n",
    "# source to destination\n",
    "\n",
    "try:\n",
    "    shutil.copy(source, destination)# shutil function copies the file from source and pastes it in destination folder.\n",
    "    print(\"File copied successfully.\")\n",
    " \n",
    "# If source and destination are same\n",
    "except shutil.SameFileError:\n",
    "    print(\"Source and destination represents the same file.\")\n",
    " \n",
    "# If there is any permission issue\n",
    "except PermissionError:\n",
    "    print(\"Permission denied.\")\n",
    " \n",
    "# For other errors\n",
    "except:\n",
    "    print(\"Error occurred while copying file.\")"
   ]
  },
  {
   "cell_type": "code",
   "execution_count": 6,
   "id": "6d66bf20",
   "metadata": {},
   "outputs": [
    {
     "name": "stdout",
     "output_type": "stream",
     "text": [
      "Source and destination represents the same file.\n"
     ]
    }
   ],
   "source": [
    "# Python program to explain shutil.copy() when we try to copy in the same folder.\n",
    "import shutil\n",
    "# Source path\n",
    "source = \"C:\\\\Users\\\\sma068\\\\FOLDER 1\\\\file1.txt\"\n",
    "# Destination path\n",
    "destination = \"C:\\\\Users\\\\sma068\\\\FOLDER 1\\\\file1.txt\"\n",
    "# Copy the content of\n",
    "# source to destination\n",
    "\n",
    "try:\n",
    "    shutil.copy(source, destination)# shutil function copies the file from source and pastes it in destination folder.\n",
    "    print(\"File copied successfully.\")\n",
    " \n",
    "# If source and destination are same\n",
    "except shutil.SameFileError: #Here both the source and destination folder is Folder 1. Hence SameFileError.\n",
    "    print(\"Source and destination represents the same file.\")\n",
    " \n",
    "# If there is any permission issue\n",
    "except PermissionError:\n",
    "    print(\"Permission denied.\")\n",
    " \n",
    "# For other errors\n",
    "except:\n",
    "    print(\"Error occurred while copying file.\")"
   ]
  },
  {
   "cell_type": "code",
   "execution_count": 8,
   "id": "812342e9",
   "metadata": {},
   "outputs": [
    {
     "name": "stdout",
     "output_type": "stream",
     "text": [
      "Before copying file: \n",
      "['SOURCE']\n",
      "After copying file: \n",
      "['DESTINATION', 'SOURCE']\n",
      "DESTINATION path:  C:\\Users\\sma068\\Desktop\\FOLDER 1\\DESTINATION\n"
     ]
    }
   ],
   "source": [
    "# Python program to explain shutil.copytree()\n",
    "# importing os module\n",
    "import os\n",
    "# importing shutil module\n",
    "import shutil\n",
    "# path\n",
    "path='C:\\\\Users\\\\sma068\\\\Desktop\\\\FOLDER 1'\n",
    "# list files and directories\n",
    "# in C:\\\\Users\\\\sma068\\\\Desktop\\\\FOLDER 1\n",
    "\n",
    "print(\"Before copying file: \")\n",
    "print(os.listdir(path))\n",
    "\n",
    "# source path\n",
    "src='C:\\\\Users\\\\sma068\\\\Desktop\\\\FOLDER 1\\\\SOURCE'\n",
    "\n",
    "# destination path\n",
    "dest='C:\\\\Users\\\\sma068\\\\Desktop\\\\FOLDER 1\\\\DESTINATION'\n",
    "\n",
    "# copy the contents of SOURCE to DESTINATION\n",
    "\n",
    "DESTINATION=shutil.copytree(src,dest)\n",
    "\n",
    "# list files and directories \n",
    "# in C:\\\\Users\\\\sma068\\\\Desktop\\\\FOLDER 1\\\\SOURCE\n",
    "\n",
    "print((\"After copying file: \"))\n",
    "print(os.listdir(path))\n",
    "\n",
    "# print path of newly created file\n",
    "print(\"DESTINATION path: \",DESTINATION)"
   ]
  },
  {
   "cell_type": "markdown",
   "id": "ac299709",
   "metadata": {},
   "source": [
    "<b>2. What function is used to rename files?\n",
    "    \n",
    "<b>Answer:</b> The function os.rename() is used to rename files or directories using a python program. This function takes two arguments: src and dest. src represents the name file/directory which we want to rename, whereas dest represents the new name of the file/directory."
   ]
  },
  {
   "cell_type": "code",
   "execution_count": 10,
   "id": "0e4f21e5",
   "metadata": {},
   "outputs": [
    {
     "name": "stdout",
     "output_type": "stream",
     "text": [
      "Source patch successfully renamed to destination path!\n"
     ]
    }
   ],
   "source": [
    "# Here is the python program to explain os.rename() function\n",
    "\n",
    "#importing os module\n",
    "import os\n",
    "\n",
    "# source file path\n",
    "source='C:\\\\Users\\\\sma068\\\\FOLDER 1\\\\file1.txt'\n",
    "\n",
    "# destination file path\n",
    "dest='C:\\\\Users\\\\sma068\\\\FOLDER 1\\\\newfile1.txt'\n",
    "    \n",
    "# Now I will rename source patch to destination path using rename method\n",
    "os.rename(source,dest)\n",
    "print(\"Source patch successfully renamed to destination path!\")\n"
   ]
  },
  {
   "cell_type": "markdown",
   "id": "9a1a90bb",
   "metadata": {},
   "source": [
    "<b>3. What is the difference between the delete functions in the send2trash and shutil modules?\n",
    "\n",
    "<b>Answer:</b> Shutil module provides a funciton called as `shutil.rmtree()` which deletes a directory and all its contents. The other functions with similar functionality are os.remove() -> removes a file, os.rmdir() removes a empty directory. However, the problem with these functions is that once a file is deleted, it will be lost permanently. If a file is deleted accidentally using these methods there is no way we can recover the deleted file.\n",
    "\n",
    "To overcome this limiation, we use send2trash module. It provides a function called `send2trash.send2trash()` to delete a file/directory. This method moves the files/directories to trash folder instead of permanently deleting them. Hence if a file/folder is deleted accidentally, it can be still recovered from trash folder. If it is deleted using the send2trash.send2trash() function. `send2trash` is not included with python standard libary like os and shutil modules. It needs to be installed explicitly using the command !pip install send2trash."
   ]
  },
  {
   "cell_type": "code",
   "execution_count": 14,
   "id": "6cdd843a",
   "metadata": {},
   "outputs": [
    {
     "name": "stdout",
     "output_type": "stream",
     "text": [
      "Deleted:  C:\\Users\\sma068\\Desktop\\FOLDER2\\TEST1.txt\n",
      "Deleted:  C:\\Users\\sma068\\Desktop\\FOLDER2\\TEST2.txt\n",
      "Deleted:  C:\\Users\\sma068\\Desktop\\FOLDER2\\TEST3.txt\n",
      "Deleted:  C:\\Users\\sma068\\Desktop\\FOLDER2\\TEST4.txt\n"
     ]
    }
   ],
   "source": [
    "# Python program to demonstrate send2trash method.\n",
    "import os\n",
    "import send2trash\n",
    "\n",
    "for folder,subfolders,files in os.walk('C:\\\\Users\\\\sma068\\\\Desktop\\\\FOLDER2'):\n",
    "    for file in files:\n",
    "        # checking if the file is of .txt type\n",
    "        if file.endswith('.txt'):\n",
    "            path=os.path.join(folder, file)\n",
    "            # printing the path of the file to be deleted\n",
    "            print(\"Deleted: \",path)\n",
    "            \n",
    "            # deleting the file\n",
    "            send2trash.send2trash(path)\n",
    "            \n",
    "# These deleted files can be found in my Recycle Bin and I can restore these files if I wish to."
   ]
  },
  {
   "cell_type": "markdown",
   "id": "e791f75e",
   "metadata": {},
   "source": [
    "<b>4.ZipFile objects have a close() method just like File objects’ close() method. What ZipFile method is equivalent to File objects’ open() method?\n",
    "\n",
    "<b>Ans:</b> ZipFile Module provides a method called as zipfile.ZipFile() to read and write to zipFiles. It takes arugments:  filename and mode etc zipfile.ZipFile('filename', mode = 'r')"
   ]
  },
  {
   "cell_type": "code",
   "execution_count": 17,
   "id": "87d1acc4",
   "metadata": {},
   "outputs": [
    {
     "name": "stdout",
     "output_type": "stream",
     "text": [
      "File Name                                             Modified             Size\n",
      "1TEST.txt                                      2023-02-06 11:05:54            0\n",
      "2TEST.txt                                      2023-02-06 11:06:04            0\n",
      "3TEST.txt                                      2023-02-06 11:06:12            0\n",
      "4TEST.txt                                      2023-02-06 11:06:36            0\n"
     ]
    }
   ],
   "source": [
    "# Python program to demonstrate ZipFile open method\n",
    "# importing required modules\n",
    "\n",
    "from zipfile import ZipFile\n",
    "\n",
    "# specifying my zip file name\n",
    "file_name='my_python_files.zip'\n",
    "#opening the zip file in READ mode\n",
    "\n",
    "with ZipFile(file_name,'r') as zip:\n",
    "    zip.printdir()\n",
    "    \n"
   ]
  },
  {
   "cell_type": "markdown",
   "id": "78060cc0",
   "metadata": {},
   "source": [
    "<b>5. Create a programme that searches a folder tree for files with a certain file extension (such as .pdf or .jpg). Copy these files from whatever location they are in to a new folder.\n",
    "    \n",
    "<b>Answer:</b> Please refer code below:"
   ]
  },
  {
   "cell_type": "code",
   "execution_count": 22,
   "id": "5bc3ba56",
   "metadata": {},
   "outputs": [
    {
     "name": "stdout",
     "output_type": "stream",
     "text": [
      "Folder Name --> C:\\Users\\sma068\\OneDrive - Wärtsilä Corporation\\Documents\\FSDS Inueron\\Assignment solutions\\Santosh Solutions\\Dummy Source\n",
      "\n",
      "Sub Folders--> []\n",
      "\n",
      "Files ---> ['hotel booking.pdf', 'santosh photo.jpg', 'TEST1.txt']\n",
      "\n",
      "Files copied successfully from C:\\Users\\sma068\\OneDrive - Wärtsilä Corporation\\Documents\\FSDS Inueron\\Assignment solutions\\Santosh Solutions\\Dummy Source to C:\\Users\\sma068\\OneDrive - Wärtsilä Corporation\\Documents\\FSDS Inueron\\Assignment solutions\\Santosh Solutions\\Dummy Destination\n"
     ]
    }
   ],
   "source": [
    "# python program to demonstrate how to search for certain kind of files and then copy these files to a destination folder.\n",
    "# import os\n",
    "# import shutil\n",
    "\n",
    "# creating a function to reach such files and transfer them to a new folder.\n",
    "def search_and_copy(source,destination,extensions):\n",
    "    source=os.path.abspath(source)\n",
    "    destination=os.path.abspath(destination)\n",
    "    for foldername, subfolder, filenames in os.walk(source):\n",
    "        print(f'Folder Name --> {foldername}',end='\\n\\n')\n",
    "        print(f'Sub Folders--> {subfolder}',end='\\n\\n')\n",
    "        print(f'Files ---> {filenames}',end='\\n\\n')\n",
    "        for filename in filenames:\n",
    "            fileName,extension = os.path.splitext(filename)\n",
    "            if extension in extensions:\n",
    "                targetFile=foldername+os.path.sep+fileName+extension\n",
    "                shutil.copy(targetFile,destination)\n",
    "        print(f'Files copied successfully from {source} to {destination}')\n",
    "        \n",
    "extensions=['.pdf','.jpg','.ipynb']\n",
    "source='Dummy Source'\n",
    "destination='Dummy Destination'\n",
    "search_and_copy(source,destination,extensions)\n",
    "    "
   ]
  },
  {
   "cell_type": "code",
   "execution_count": null,
   "id": "14a37453",
   "metadata": {},
   "outputs": [],
   "source": []
  }
 ],
 "metadata": {
  "kernelspec": {
   "display_name": "Python 3 (ipykernel)",
   "language": "python",
   "name": "python3"
  },
  "language_info": {
   "codemirror_mode": {
    "name": "ipython",
    "version": 3
   },
   "file_extension": ".py",
   "mimetype": "text/x-python",
   "name": "python",
   "nbconvert_exporter": "python",
   "pygments_lexer": "ipython3",
   "version": "3.9.13"
  }
 },
 "nbformat": 4,
 "nbformat_minor": 5
}
