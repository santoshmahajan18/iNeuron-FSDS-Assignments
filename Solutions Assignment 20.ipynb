{
 "cells": [
  {
   "cell_type": "markdown",
   "id": "18373ade",
   "metadata": {},
   "source": [
    "# Solutions Assignment 20"
   ]
  },
  {
   "cell_type": "markdown",
   "id": "76179d35",
   "metadata": {},
   "source": [
    "#### 1. Set the variable test1 to the string 'This is a test of the emergency text system,' and save test1 to a file named test.txt."
   ]
  },
  {
   "cell_type": "code",
   "execution_count": 1,
   "id": "00a61793",
   "metadata": {},
   "outputs": [
    {
     "name": "stdout",
     "output_type": "stream",
     "text": [
      "This is a test of the emergency text system\n"
     ]
    }
   ],
   "source": [
    "# code to create a variable test1\n",
    "test1='This is a test of the emergency text system'\n",
    "print(test1)\n"
   ]
  },
  {
   "cell_type": "code",
   "execution_count": 4,
   "id": "9dad29a5",
   "metadata": {},
   "outputs": [
    {
     "name": "stdout",
     "output_type": "stream",
     "text": [
      "This is a test of the emergency text system\n"
     ]
    }
   ],
   "source": [
    "# code to copy contents of a variable into a file test.txt and then reading the contents of file test.txt\n",
    "with open('test.txt','w') as f:\n",
    "    f.write(test1)\n",
    "    f.close()\n",
    "    \n",
    "with open('test.txt','r') as new_file:\n",
    "    test1=new_file.read()\n",
    "    \n",
    "print(test1)"
   ]
  },
  {
   "cell_type": "markdown",
   "id": "ef57b76b",
   "metadata": {},
   "source": [
    "### 2. Read the contents of the file test.txt into the variable test2. Is there a difference between test 1 and test 2?"
   ]
  },
  {
   "cell_type": "code",
   "execution_count": 5,
   "id": "d937f19f",
   "metadata": {},
   "outputs": [
    {
     "name": "stdout",
     "output_type": "stream",
     "text": [
      "This is a test of the emergency text system\n",
      "True\n"
     ]
    }
   ],
   "source": [
    "# code to copy the contents of test.txt into test2\n",
    "with open('test.txt','r') as learn:\n",
    "    test2=learn.read()\n",
    "    \n",
    "print(test2)\n",
    "print(test1==test2)"
   ]
  },
  {
   "cell_type": "markdown",
   "id": "8dfb821d",
   "metadata": {},
   "source": [
    "#### 3. Create a CSV file called books.csv by using these lines:¶\n",
    "`title,author,year`\n",
    "\n",
    "`The Weirdstone of Brisingamen,Alan Garner,1960`\n",
    "\n",
    "`Perdido Street Station,China Miéville,2000`\n",
    "\n",
    "`Thud!,Terry Pratchett,2005`\n",
    "\n",
    "`The Spellman Files,Lisa Lutz,2007`\n",
    "\n"
   ]
  },
  {
   "cell_type": "code",
   "execution_count": 6,
   "id": "8fc40697",
   "metadata": {},
   "outputs": [],
   "source": [
    "data='''title,author,year\n",
    "The Weirdstone of Brisingamen,Alan Garner,1960\n",
    "Perdido Street Station,China Miéville,2000\n",
    "Thud!,Terry Pratchett,2005\n",
    "The Spellman Files,Lisa Lutz,2007\n",
    "Small Gods,Terry Pratchett,1992'''\n",
    "\n",
    "with open('books.csv','w') as file:\n",
    "    file.write(data)"
   ]
  },
  {
   "cell_type": "markdown",
   "id": "ea97f3a7",
   "metadata": {},
   "source": [
    "#### 4. Use the sqlite3 module to create a SQLite database called books.db, and a table called books with these fields: title (text), author (text), and year (integer)."
   ]
  },
  {
   "cell_type": "code",
   "execution_count": 10,
   "id": "9a579058",
   "metadata": {},
   "outputs": [],
   "source": [
    "import sqlite3\n",
    "db = sqlite3.connect('books.db')\n",
    "cursor=db.cursor()\n",
    "cursor.execute(\"Create table books (title text,author text,year int)\")\n",
    "db.commit()\n",
    "db.close()"
   ]
  },
  {
   "cell_type": "markdown",
   "id": "32c16219",
   "metadata": {},
   "source": [
    "#### 5. Read books.csv and insert its data into the books table."
   ]
  },
  {
   "cell_type": "code",
   "execution_count": 11,
   "id": "50cee4d6",
   "metadata": {},
   "outputs": [],
   "source": [
    "import sqlite3\n",
    "import csv\n",
    "new = sqlite3.connect(\"books.db\")\n",
    "cursor = new.cursor()\n",
    "with open('books.csv','r') as file:\n",
    "    books = csv.DictReader(file)\n",
    "    for book in books:\n",
    "        cursor.execute(\"Insert into books values (?,?,?)\",(book['title'],book['author'],book['year']))\n",
    "        \n",
    "new.commit()\n",
    "new.close()"
   ]
  },
  {
   "cell_type": "markdown",
   "id": "32b40df4",
   "metadata": {},
   "source": [
    "#### 6. Select and print the title column from the books table in alphabetical order."
   ]
  },
  {
   "cell_type": "code",
   "execution_count": 17,
   "id": "45f5069b",
   "metadata": {},
   "outputs": [
    {
     "name": "stdout",
     "output_type": "stream",
     "text": [
      "Perdido Street Station\n",
      "Small Gods\n",
      "The Spellman Files\n",
      "The Weirdstone of Brisingamen\n",
      "Thud!\n"
     ]
    }
   ],
   "source": [
    "# code to print the title column from the books table\n",
    "import sqlite3\n",
    "conn1=sqlite3.connect('books.db')\n",
    "cursor=conn1.cursor()\n",
    "output=cursor.execute('select title from books order by title')\n",
    "for i in output:\n",
    "    print(i[0])\n",
    "conn1.commit()\n",
    "conn1.close()"
   ]
  },
  {
   "cell_type": "markdown",
   "id": "a9edb565",
   "metadata": {},
   "source": [
    "#### 7. From the books table, select and print all columns in the order of publication.¶"
   ]
  },
  {
   "cell_type": "code",
   "execution_count": 18,
   "id": "c5a5152a",
   "metadata": {},
   "outputs": [
    {
     "name": "stdout",
     "output_type": "stream",
     "text": [
      "('The Weirdstone of Brisingamen', 'Alan Garner', 1960)\n",
      "('Small Gods', 'Terry Pratchett', 1992)\n",
      "('Perdido Street Station', 'China Miéville', 2000)\n",
      "('Thud!', 'Terry Pratchett', 2005)\n",
      "('The Spellman Files', 'Lisa Lutz', 2007)\n"
     ]
    }
   ],
   "source": [
    "import sqlite3\n",
    "conn2=sqlite3.connect(\"books.db\")\n",
    "cursor=conn2.cursor()\n",
    "output=cursor.execute(\"select * from books order by year\")\n",
    "for record in output:\n",
    "    print(record)"
   ]
  },
  {
   "cell_type": "markdown",
   "id": "6daef484",
   "metadata": {},
   "source": [
    "#### 8. Use the sqlalchemy module to connect to the sqlite3 database books.db that you just made in exercise 6."
   ]
  },
  {
   "cell_type": "code",
   "execution_count": 8,
   "id": "8e2a0488",
   "metadata": {},
   "outputs": [
    {
     "data": {
      "text/plain": [
       "Engine(sqlite:///books.db)"
      ]
     },
     "execution_count": 8,
     "metadata": {},
     "output_type": "execute_result"
    }
   ],
   "source": [
    "import sqlalchemy\n",
    "import sqlite3 as sql\n",
    "\n",
    "from sqlalchemy import create_engine\n",
    "conn=sqlalchemy.create_engine('sqlite:///books.db')\n",
    "conn"
   ]
  },
  {
   "cell_type": "markdown",
   "id": "5f828fb9",
   "metadata": {},
   "source": [
    "#### 9. Install the Redis server and the Python redis library (pip install redis) on your computer. Create a Redis hash called test with the fields count (1) and name ('Fester Bestertester'). Print all the fields for test.¶"
   ]
  },
  {
   "cell_type": "code",
   "execution_count": 1,
   "id": "c13cb569",
   "metadata": {},
   "outputs": [
    {
     "name": "stdout",
     "output_type": "stream",
     "text": [
      "Requirement already satisfied: redis in c:\\users\\sma068\\anaconda3\\lib\\site-packages (4.5.1)\n",
      "Requirement already satisfied: async-timeout>=4.0.2 in c:\\users\\sma068\\anaconda3\\lib\\site-packages (from redis) (4.0.2)\n"
     ]
    }
   ],
   "source": [
    "! python -m pip install redis"
   ]
  },
  {
   "cell_type": "code",
   "execution_count": null,
   "id": "d186ebdf",
   "metadata": {},
   "outputs": [],
   "source": [
    "# code to create a Redis hash called test\n",
    "# i am getting connection error because of firewall restrictions\n",
    "import redis\n",
    "conn=redis.Redis()\n",
    "conn.hset('test',{\n",
    "    'count':1,\n",
    "    'name':'Fester Bestertester'\n",
    "})\n",
    "conn.hgetall('test')"
   ]
  },
  {
   "cell_type": "markdown",
   "id": "92596989",
   "metadata": {},
   "source": [
    "#### 10. Increment the count field of test and print it."
   ]
  },
  {
   "cell_type": "code",
   "execution_count": null,
   "id": "bebe4036",
   "metadata": {},
   "outputs": [],
   "source": [
    "# code to increment the count field\n",
    "# i am getting connection error because of firewall restrictions\n",
    "conn.hincrby('test', 'count', 1)\n",
    "conn.hget('test', 'count')"
   ]
  }
 ],
 "metadata": {
  "kernelspec": {
   "display_name": "Python 3 (ipykernel)",
   "language": "python",
   "name": "python3"
  },
  "language_info": {
   "codemirror_mode": {
    "name": "ipython",
    "version": 3
   },
   "file_extension": ".py",
   "mimetype": "text/x-python",
   "name": "python",
   "nbconvert_exporter": "python",
   "pygments_lexer": "ipython3",
   "version": "3.9.13"
  }
 },
 "nbformat": 4,
 "nbformat_minor": 5
}
